{
 "cells": [
  {
   "cell_type": "code",
   "execution_count": 1,
   "metadata": {},
   "outputs": [],
   "source": [
    "import sys\n",
    "import logging\n",
    "import gym\n",
    "from gym import spaces\n",
    "import numpy as np\n",
    "import networkx as nx\n",
    "import cyberbattle.simulation.actions as actions\n",
    "import cyberbattle._env.cyberbattle_env as cyberbattle_env\n",
    "import cyberbattle.agents.random_agent as random_agent\n",
    "import cyberbattle.samples.chainpattern.chainpattern as chainpattern\n",
    "import importlib\n",
    "import cyberbattle.agents.baseline.learner as learner\n",
    "import cyberbattle.agents.baseline.plotting as p\n",
    "import cyberbattle.agents.baseline.agent_wrapper as w\n",
    "import cyberbattle.agents.baseline.agent_randomcredlookup as rca\n",
    "import cyberbattle.agents.baseline.agent_tabularqlearning as tqa\n",
    "import cyberbattle.agents.baseline.agent_dql as dqla\n",
    "from cyberbattle.agents.baseline.agent_wrapper import Verbosity\n"
   ]
  },
  {
   "cell_type": "code",
   "execution_count": 2,
   "metadata": {},
   "outputs": [],
   "source": [
    "gym_env = gym.make('CyberBattleCBSHH-v0')\n",
    "\n",
    "iteration_count = 500\n",
    "training_episode_count = 50\n",
    "eval_episode_count = 10"
   ]
  },
  {
   "cell_type": "code",
   "execution_count": 3,
   "metadata": {},
   "outputs": [
    {
     "data": {
      "image/png": "[encoded data removed]",
      "text/plain": [
       "<Figure size 640x480 with 1 Axes>"
      ]
     },
     "metadata": {},
     "output_type": "display_data"
    }
   ],
   "source": [
    "gym_env.environment.plot_environment_graph()"
   ]
  },
  {
   "cell_type": "code",
   "execution_count": 4,
   "metadata": {},
   "outputs": [],
   "source": [
    "ep = w.EnvironmentBounds.of_identifiers(\n",
    "    maximum_node_count=12,\n",
    "    maximum_total_credentials=5,\n",
    "    identifiers=gym_env.identifiers\n",
    ")"
   ]
  },
  {
   "cell_type": "code",
   "execution_count": 5,
   "metadata": {
    "tags": []
   },
   "outputs": [
    {
     "data": {
      "text/plain": [
       "'credlookup_run = learner.epsilon_greedy_search(\\n    gym_env,\\n    ep,\\n    learner=rca.CredentialCacheExploiter(),\\n    episode_count=10,\\n    iteration_count=iteration_count,\\n    epsilon=0.90,\\n    render=False,\\n    epsilon_exponential_decay=2000,\\n    epsilon_minimum=0.01,\\n    verbosity=Verbosity.Quiet,\\n    title=\"Credential lookups (ϵ-greedy)\"\\n)'"
      ]
     },
     "execution_count": 5,
     "metadata": {},
     "output_type": "execute_result"
    }
   ],
   "source": [
    "\"\"\"credlookup_run = learner.epsilon_greedy_search(\n",
    "    gym_env,\n",
    "    ep,\n",
    "    learner=rca.CredentialCacheExploiter(),\n",
    "    episode_count=10,\n",
    "    iteration_count=iteration_count,\n",
    "    epsilon=0.90,\n",
    "    render=False,\n",
    "    epsilon_exponential_decay=2000,\n",
    "    epsilon_minimum=0.01,\n",
    "    verbosity=Verbosity.Quiet,\n",
    "    title=\"Credential lookups (ϵ-greedy)\"\n",
    ")\"\"\""
   ]
  },
  {
   "cell_type": "code",
   "execution_count": null,
   "metadata": {
    "tags": []
   },
   "outputs": [
    {
     "name": "stdout",
     "output_type": "stream",
     "text": [
      "###### DQL\n",
      "Learning with: episode_count=50,iteration_count=500,ϵ=0.9,ϵ_min=0.1, ϵ_expdecay=2000,γ=0.015, lr=0.01, replaymemory=10000,\n",
      "batch=512, target_update=4\n",
      "  ## Episode: 1/50 'DQL' ϵ=0.9000, γ=0.015, lr=0.01, replaymemory=10000,\n",
      "batch=512, target_update=4\n"
     ]
    },
    {
     "name": "stderr",
     "output_type": "stream",
     "text": [
      "Episode 1|Iteration 3|reward:   20.0|last_reward_at:    3|Elapsed Time: 0:00:00||/home/jupyter-hoodit/cyberbattle/CBSHH/cyberbattle/agents/baseline/agent_dql.py:382: UserWarning: Creating a tensor from a list of numpy.ndarrays is extremely slow. Please consider converting the list to a single numpy.ndarray with numpy.array() before converting to a tensor. (Triggered internally at  ../torch/csrc/utils/tensor_new.cpp:201.)\n",
      "  state_batch = torch.tensor(states_to_consider).to(device)\n",
      "Episode 1|Iteration 500|reward: 1483.0|last_reward_at:  487|Elapsed Time: 0:00:01||\n"
     ]
    },
    {
     "name": "stdout",
     "output_type": "stream",
     "text": [
      "  Episode 1 stopped at t=500 \n",
      "  Breakdown [Reward/NoReward (Success rate)]\n",
      "    explore-local: 5/69 (0.07)\n",
      "    explore-remote: 2/185 (0.01)\n",
      "    explore-connect: 3/145 (0.02)\n",
      "    exploit-local: 1/15 (0.06)\n",
      "    exploit-remote: 0/75 (0.00)\n",
      "    exploit-connect: 0/0 (NaN)\n",
      "  exploit deflected to exploration: 0\n",
      "  ## Episode: 2/50 'DQL' ϵ=0.7234, γ=0.015, lr=0.01, replaymemory=10000,\n",
      "batch=512, target_update=4\n"
     ]
    },
    {
     "name": "stderr",
     "output_type": "stream",
     "text": [
      "Episode 2|Iteration 169|reward: 4483.0|last_reward_at:  169|Elapsed Time: 0:00:00||\n"
     ]
    },
    {
     "name": "stdout",
     "output_type": "stream",
     "text": [
      "  Episode 2 ended at t=169 \n",
      "  Breakdown [Reward/NoReward (Success rate)]\n",
      "    explore-local: 2/27 (0.07)\n",
      "    explore-remote: 2/46 (0.04)\n",
      "    explore-connect: 1/47 (0.02)\n",
      "    exploit-local: 4/16 (0.20)\n",
      "    exploit-remote: 0/14 (0.00)\n",
      "    exploit-connect: 3/7 (0.30)\n",
      "  exploit deflected to exploration: 1\n",
      "  ## Episode: 3/50 'DQL' ϵ=0.6728, γ=0.015, lr=0.01, replaymemory=10000,\n",
      "batch=512, target_update=4\n"
     ]
    },
    {
     "name": "stderr",
     "output_type": "stream",
     "text": [
      "Episode 3|Iteration 98|reward: 4483.0|last_reward_at:   98|Elapsed Time: 0:00:00||\n"
     ]
    },
    {
     "name": "stdout",
     "output_type": "stream",
     "text": [
      "  Episode 3 ended at t=98 \n",
      "  Breakdown [Reward/NoReward (Success rate)]\n",
      "    explore-local: 2/7 (0.22)\n",
      "    explore-remote: 2/29 (0.06)\n",
      "    explore-connect: 0/27 (0.00)\n",
      "    exploit-local: 4/9 (0.31)\n",
      "    exploit-remote: 1/1 (0.50)\n",
      "    exploit-connect: 3/13 (0.19)\n",
      "  exploit deflected to exploration: 1\n",
      "  ## Episode: 4/50 'DQL' ϵ=0.6455, γ=0.015, lr=0.01, replaymemory=10000,\n",
      "batch=512, target_update=4\n"
     ]
    },
    {
     "name": "stderr",
     "output_type": "stream",
     "text": [
      "Episode 4|Iteration 144|reward: 4483.0|last_reward_at:  144|Elapsed Time: 0:00:00||\n"
     ]
    },
    {
     "name": "stdout",
     "output_type": "stream",
     "text": [
      "  Episode 4 ended at t=144 \n",
      "  Breakdown [Reward/NoReward (Success rate)]\n",
      "    explore-local: 2/19 (0.10)\n",
      "    explore-remote: 2/33 (0.06)\n",
      "    explore-connect: 1/30 (0.03)\n",
      "    exploit-local: 4/14 (0.22)\n",
      "    exploit-remote: 0/2 (0.00)\n",
      "    exploit-connect: 3/34 (0.08)\n",
      "  exploit deflected to exploration: 1\n",
      "  ## Episode: 5/50 'DQL' ϵ=0.6076, γ=0.015, lr=0.01, replaymemory=10000,\n",
      "batch=512, target_update=4\n"
     ]
    },
    {
     "name": "stderr",
     "output_type": "stream",
     "text": [
      "Episode 5|Iteration 344|reward: 4483.0|last_reward_at:  344|Elapsed Time: 0:00:01||\n"
     ]
    },
    {
     "name": "stdout",
     "output_type": "stream",
     "text": [
      "  Episode 5 ended at t=344 \n",
      "  Breakdown [Reward/NoReward (Success rate)]\n",
      "    explore-local: 2/57 (0.03)\n",
      "    explore-remote: 1/96 (0.01)\n",
      "    explore-connect: 0/98 (0.00)\n",
      "    exploit-local: 4/35 (0.10)\n",
      "    exploit-remote: 2/5 (0.29)\n",
      "    exploit-connect: 3/41 (0.07)\n",
      "  exploit deflected to exploration: 53\n",
      "  ## Episode: 6/50 'DQL' ϵ=0.5274, γ=0.015, lr=0.01, replaymemory=10000,\n",
      "batch=512, target_update=4\n"
     ]
    },
    {
     "name": "stderr",
     "output_type": "stream",
     "text": [
      "Episode 6|Iteration 148|reward: 4483.0|last_reward_at:  148|Elapsed Time: 0:00:00||\n"
     ]
    },
    {
     "name": "stdout",
     "output_type": "stream",
     "text": [
      "  Episode 6 ended at t=148 \n",
      "  Breakdown [Reward/NoReward (Success rate)]\n",
      "    explore-local: 3/14 (0.18)\n",
      "    explore-remote: 2/33 (0.06)\n",
      "    explore-connect: 2/47 (0.04)\n",
      "    exploit-local: 3/19 (0.14)\n",
      "    exploit-remote: 0/1 (0.00)\n",
      "    exploit-connect: 2/22 (0.08)\n",
      "  exploit deflected to exploration: 19\n",
      "  ## Episode: 7/50 'DQL' ϵ=0.4969, γ=0.015, lr=0.01, replaymemory=10000,\n",
      "batch=512, target_update=4\n"
     ]
    },
    {
     "name": "stderr",
     "output_type": "stream",
     "text": [
      "Episode 7|Iteration 480|reward: 4483.0|last_reward_at:  480|Elapsed Time: 0:00:02||\n"
     ]
    },
    {
     "name": "stdout",
     "output_type": "stream",
     "text": [
      "  Episode 7 ended at t=480 \n",
      "  Breakdown [Reward/NoReward (Success rate)]\n",
      "    explore-local: 2/45 (0.04)\n",
      "    explore-remote: 2/92 (0.02)\n",
      "    explore-connect: 0/95 (0.00)\n",
      "    exploit-local: 4/53 (0.07)\n",
      "    exploit-remote: 1/35 (0.03)\n",
      "    exploit-connect: 3/148 (0.02)\n",
      "  exploit deflected to exploration: 1\n",
      "  ## Episode: 8/50 'DQL' ϵ=0.4122, γ=0.015, lr=0.01, replaymemory=10000,\n",
      "batch=512, target_update=4\n"
     ]
    },
    {
     "name": "stderr",
     "output_type": "stream",
     "text": [
      "Episode 8|Iteration 451|reward: 4483.0|last_reward_at:  451|Elapsed Time: 0:00:02||\n"
     ]
    },
    {
     "name": "stdout",
     "output_type": "stream",
     "text": [
      "  Episode 8 ended at t=451 \n",
      "  Breakdown [Reward/NoReward (Success rate)]\n",
      "    explore-local: 3/28 (0.10)\n",
      "    explore-remote: 1/72 (0.01)\n",
      "    explore-connect: 2/67 (0.03)\n",
      "    exploit-local: 3/6 (0.33)\n",
      "    exploit-remote: 1/21 (0.05)\n",
      "    exploit-connect: 2/245 (0.01)\n",
      "  exploit deflected to exploration: 5\n",
      "  ## Episode: 9/50 'DQL' ϵ=0.3492, γ=0.015, lr=0.01, replaymemory=10000,\n",
      "batch=512, target_update=4\n"
     ]
    },
    {
     "name": "stderr",
     "output_type": "stream",
     "text": [
      "Episode 9|Iteration 500|reward:   59.0|last_reward_at:   15|Elapsed Time: 0:00:02||\n"
     ]
    },
    {
     "name": "stdout",
     "output_type": "stream",
     "text": [
      "  Episode 9 stopped at t=500 \n",
      "  Breakdown [Reward/NoReward (Success rate)]\n",
      "    explore-local: 1/33 (0.03)\n",
      "    explore-remote: 2/75 (0.03)\n",
      "    explore-connect: 0/58 (0.00)\n",
      "    exploit-local: 2/3 (0.40)\n",
      "    exploit-remote: 0/3 (0.00)\n",
      "    exploit-connect: 0/323 (0.00)\n",
      "  exploit deflected to exploration: 0\n",
      "  ## Episode: 10/50 'DQL' ϵ=0.2940, γ=0.015, lr=0.01, replaymemory=10000,\n",
      "batch=512, target_update=4\n"
     ]
    },
    {
     "name": "stderr",
     "output_type": "stream",
     "text": [
      "Episode 10|Iteration 500|reward:   59.0|last_reward_at:   43|Elapsed Time: 0:00:02||\n"
     ]
    },
    {
     "name": "stdout",
     "output_type": "stream",
     "text": [
      "  Episode 10 stopped at t=500 \n",
      "  Breakdown [Reward/NoReward (Success rate)]\n",
      "    explore-local: 1/23 (0.04)\n",
      "    explore-remote: 1/53 (0.02)\n",
      "    explore-connect: 0/49 (0.00)\n",
      "    exploit-local: 2/1 (0.67)\n",
      "    exploit-remote: 1/3 (0.25)\n",
      "    exploit-connect: 0/366 (0.00)\n",
      "  exploit deflected to exploration: 0\n",
      "  ## Episode: 11/50 'DQL' ϵ=0.2511, γ=0.015, lr=0.01, replaymemory=10000,\n",
      "batch=512, target_update=4\n"
     ]
    },
    {
     "name": "stderr",
     "output_type": "stream",
     "text": [
      "Episode 11|Iteration 500|reward:   59.0|last_reward_at:   26|Elapsed Time: 0:00:02||\n"
     ]
    },
    {
     "name": "stdout",
     "output_type": "stream",
     "text": [
      "  Episode 11 stopped at t=500 \n",
      "  Breakdown [Reward/NoReward (Success rate)]\n",
      "    explore-local: 0/23 (0.00)\n",
      "    explore-remote: 0/40 (0.00)\n",
      "    explore-connect: 0/42 (0.00)\n",
      "    exploit-local: 3/1 (0.75)\n",
      "    exploit-remote: 2/5 (0.29)\n",
      "    exploit-connect: 0/384 (0.00)\n",
      "  exploit deflected to exploration: 1\n",
      "  ## Episode: 12/50 'DQL' ϵ=0.2177, γ=0.015, lr=0.01, replaymemory=10000,\n",
      "batch=512, target_update=4\n"
     ]
    },
    {
     "name": "stderr",
     "output_type": "stream",
     "text": [
      "Episode 12|Iteration 500|reward:   59.0|last_reward_at:  115|Elapsed Time: 0:00:02||\n"
     ]
    },
    {
     "name": "stdout",
     "output_type": "stream",
     "text": [
      "  Episode 12 stopped at t=500 \n",
      "  Breakdown [Reward/NoReward (Success rate)]\n",
      "    explore-local: 1/19 (0.05)\n",
      "    explore-remote: 1/42 (0.02)\n",
      "    explore-connect: 0/39 (0.00)\n",
      "    exploit-local: 2/0 (1.00)\n",
      "    exploit-remote: 1/3 (0.25)\n",
      "    exploit-connect: 0/392 (0.00)\n",
      "  exploit deflected to exploration: 0\n",
      "  ## Episode: 13/50 'DQL' ϵ=0.1917, γ=0.015, lr=0.01, replaymemory=10000,\n",
      "batch=512, target_update=4\n"
     ]
    },
    {
     "name": "stderr",
     "output_type": "stream",
     "text": [
      "Episode 13|Iteration 176|reward: 4471.0|last_reward_at:  176|Elapsed Time: 0:00:01||\n"
     ]
    },
    {
     "name": "stdout",
     "output_type": "stream",
     "text": [
      "  Episode 13 ended at t=176 \n",
      "  Breakdown [Reward/NoReward (Success rate)]\n",
      "    explore-local: 1/4 (0.20)\n",
      "    explore-remote: 1/18 (0.05)\n",
      "    explore-connect: 0/13 (0.00)\n",
      "    exploit-local: 3/25 (0.11)\n",
      "    exploit-remote: 2/8 (0.20)\n",
      "    exploit-connect: 3/98 (0.03)\n",
      "  exploit deflected to exploration: 0\n",
      "  ## Episode: 14/50 'DQL' ϵ=0.1839, γ=0.015, lr=0.01, replaymemory=10000,\n",
      "batch=512, target_update=4\n"
     ]
    },
    {
     "name": "stderr",
     "output_type": "stream",
     "text": [
      "Episode 14|Iteration 208|reward: 4483.0|last_reward_at:  208|Elapsed Time: 0:00:02||\n"
     ]
    },
    {
     "name": "stdout",
     "output_type": "stream",
     "text": [
      "  Episode 14 ended at t=208 \n",
      "  Breakdown [Reward/NoReward (Success rate)]\n",
      "    explore-local: 2/11 (0.15)\n",
      "    explore-remote: 0/46 (0.00)\n",
      "    explore-connect: 1/51 (0.02)\n",
      "    exploit-local: 4/22 (0.15)\n",
      "    exploit-remote: 3/5 (0.38)\n",
      "    exploit-connect: 2/61 (0.03)\n",
      "  exploit deflected to exploration: 75\n",
      "  ## Episode: 15/50 'DQL' ϵ=0.1756, γ=0.015, lr=0.01, replaymemory=10000,\n",
      "batch=512, target_update=4\n"
     ]
    },
    {
     "name": "stderr",
     "output_type": "stream",
     "text": [
      "Episode 15|Iteration 43|reward: 4483.0|last_reward_at:   43|Elapsed Time: 0:00:00||\n"
     ]
    },
    {
     "name": "stdout",
     "output_type": "stream",
     "text": [
      "  Episode 15 ended at t=43 \n",
      "  Breakdown [Reward/NoReward (Success rate)]\n",
      "    explore-local: 1/3 (0.25)\n",
      "    explore-remote: 2/12 (0.14)\n",
      "    explore-connect: 0/6 (0.00)\n",
      "    exploit-local: 5/4 (0.56)\n",
      "    exploit-remote: 0/2 (0.00)\n",
      "    exploit-connect: 4/4 (0.50)\n",
      "  exploit deflected to exploration: 16\n",
      "  ## Episode: 16/50 'DQL' ϵ=0.1740, γ=0.015, lr=0.01, replaymemory=10000,\n",
      "batch=512, target_update=4\n"
     ]
    },
    {
     "name": "stderr",
     "output_type": "stream",
     "text": [
      "Episode 16|Iteration 52|reward: 4483.0|last_reward_at:   52|Elapsed Time: 0:00:00||\n"
     ]
    },
    {
     "name": "stdout",
     "output_type": "stream",
     "text": [
      "  Episode 16 ended at t=52 \n",
      "  Breakdown [Reward/NoReward (Success rate)]\n",
      "    explore-local: 0/3 (0.00)\n",
      "    explore-remote: 2/8 (0.20)\n",
      "    explore-connect: 0/7 (0.00)\n",
      "    exploit-local: 6/2 (0.75)\n",
      "    exploit-remote: 1/1 (0.50)\n",
      "    exploit-connect: 3/19 (0.14)\n",
      "  exploit deflected to exploration: 14\n",
      "  ## Episode: 17/50 'DQL' ϵ=0.1721, γ=0.015, lr=0.01, replaymemory=10000,\n",
      "batch=512, target_update=4\n"
     ]
    },
    {
     "name": "stderr",
     "output_type": "stream",
     "text": [
      "Episode 17|Iteration 178|reward: 4483.0|last_reward_at:  178|Elapsed Time: 0:00:01||\n"
     ]
    },
    {
     "name": "stdout",
     "output_type": "stream",
     "text": [
      "  Episode 17 ended at t=178 \n",
      "  Breakdown [Reward/NoReward (Success rate)]\n",
      "    explore-local: 4/11 (0.27)\n",
      "    explore-remote: 3/31 (0.09)\n",
      "    explore-connect: 0/29 (0.00)\n",
      "    exploit-local: 2/46 (0.04)\n",
      "    exploit-remote: 0/3 (0.00)\n",
      "    exploit-connect: 3/46 (0.06)\n",
      "  exploit deflected to exploration: 47\n",
      "  ## Episode: 18/50 'DQL' ϵ=0.1660, γ=0.015, lr=0.01, replaymemory=10000,\n",
      "batch=512, target_update=4\n"
     ]
    },
    {
     "name": "stderr",
     "output_type": "stream",
     "text": [
      "Episode 18|Iteration 121|reward: 4483.0|last_reward_at:  121|Elapsed Time: 0:00:00||\n"
     ]
    },
    {
     "name": "stdout",
     "output_type": "stream",
     "text": [
      "  Episode 18 ended at t=121 \n",
      "  Breakdown [Reward/NoReward (Success rate)]\n",
      "    explore-local: 1/5 (0.17)\n",
      "    explore-remote: 0/11 (0.00)\n",
      "    explore-connect: 0/17 (0.00)\n",
      "    exploit-local: 5/38 (0.12)\n",
      "    exploit-remote: 3/2 (0.60)\n",
      "    exploit-connect: 3/36 (0.08)\n",
      "  exploit deflected to exploration: 15\n",
      "  ## Episode: 19/50 'DQL' ϵ=0.1621, γ=0.015, lr=0.01, replaymemory=10000,\n",
      "batch=512, target_update=4\n"
     ]
    },
    {
     "name": "stderr",
     "output_type": "stream",
     "text": [
      "Episode 19|Iteration 213|reward: 4483.0|last_reward_at:  213|Elapsed Time: 0:00:01||\n"
     ]
    },
    {
     "name": "stdout",
     "output_type": "stream",
     "text": [
      "  Episode 19 ended at t=213 \n",
      "  Breakdown [Reward/NoReward (Success rate)]\n",
      "    explore-local: 3/11 (0.21)\n",
      "    explore-remote: 2/25 (0.07)\n",
      "    explore-connect: 1/24 (0.04)\n",
      "    exploit-local: 3/71 (0.04)\n",
      "    exploit-remote: 0/1 (0.00)\n",
      "    exploit-connect: 3/69 (0.04)\n",
      "  exploit deflected to exploration: 22\n",
      "  ## Episode: 20/50 'DQL' ϵ=0.1558, γ=0.015, lr=0.01, replaymemory=10000,\n",
      "batch=512, target_update=4\n"
     ]
    },
    {
     "name": "stderr",
     "output_type": "stream",
     "text": [
      "Episode 20|Iteration 412|reward: 4483.0|last_reward_at:  412|Elapsed Time: 0:00:02||\n"
     ]
    },
    {
     "name": "stdout",
     "output_type": "stream",
     "text": [
      "  Episode 20 ended at t=412 \n",
      "  Breakdown [Reward/NoReward (Success rate)]\n",
      "    explore-local: 2/7 (0.22)\n",
      "    explore-remote: 3/25 (0.11)\n",
      "    explore-connect: 0/41 (0.00)\n",
      "    exploit-local: 4/129 (0.03)\n",
      "    exploit-remote: 0/4 (0.00)\n",
      "    exploit-connect: 3/194 (0.02)\n",
      "  exploit deflected to exploration: 7\n",
      "  ## Episode: 21/50 'DQL' ϵ=0.1454, γ=0.015, lr=0.01, replaymemory=10000,\n",
      "batch=512, target_update=4\n"
     ]
    },
    {
     "name": "stderr",
     "output_type": "stream",
     "text": [
      "Episode 21|Iteration 500|reward:  474.0|last_reward_at:  430|Elapsed Time: 0:00:03||\n"
     ]
    },
    {
     "name": "stdout",
     "output_type": "stream",
     "text": [
      "  Episode 21 stopped at t=500 \n",
      "  Breakdown [Reward/NoReward (Success rate)]\n",
      "    explore-local: 1/17 (0.06)\n",
      "    explore-remote: 1/19 (0.05)\n",
      "    explore-connect: 1/31 (0.03)\n",
      "    exploit-local: 4/415 (0.01)\n",
      "    exploit-remote: 1/2 (0.33)\n",
      "    exploit-connect: 1/7 (0.12)\n",
      "  exploit deflected to exploration: 4\n",
      "  ## Episode: 22/50 'DQL' ϵ=0.1354, γ=0.015, lr=0.01, replaymemory=10000,\n",
      "batch=512, target_update=4\n"
     ]
    },
    {
     "name": "stderr",
     "output_type": "stream",
     "text": [
      "Episode 22|Iteration 500|reward:  174.0|last_reward_at:  344|Elapsed Time: 0:00:03||\n"
     ]
    },
    {
     "name": "stdout",
     "output_type": "stream",
     "text": [
      "  Episode 22 stopped at t=500 \n",
      "  Breakdown [Reward/NoReward (Success rate)]\n",
      "    explore-local: 2/13 (0.13)\n",
      "    explore-remote: 1/23 (0.04)\n",
      "    explore-connect: 0/30 (0.00)\n",
      "    exploit-local: 3/420 (0.01)\n",
      "    exploit-remote: 1/5 (0.17)\n",
      "    exploit-connect: 1/1 (0.50)\n",
      "  exploit deflected to exploration: 0\n",
      "  ## Episode: 23/50 'DQL' ϵ=0.1276, γ=0.015, lr=0.01, replaymemory=10000,\n",
      "batch=512, target_update=4\n"
     ]
    },
    {
     "name": "stderr",
     "output_type": "stream",
     "text": [
      "Episode 23|Iteration 500|reward:  163.0|last_reward_at:  378|Elapsed Time: 0:00:03||\n"
     ]
    },
    {
     "name": "stdout",
     "output_type": "stream",
     "text": [
      "  Episode 23 stopped at t=500 \n",
      "  Breakdown [Reward/NoReward (Success rate)]\n",
      "    explore-local: 2/5 (0.29)\n",
      "    explore-remote: 2/21 (0.09)\n",
      "    explore-connect: 0/21 (0.00)\n",
      "    exploit-local: 2/444 (0.00)\n",
      "    exploit-remote: 0/0 (NaN)\n",
      "    exploit-connect: 1/2 (0.33)\n",
      "  exploit deflected to exploration: 0\n",
      "  ## Episode: 24/50 'DQL' ϵ=0.1215, γ=0.015, lr=0.01, replaymemory=10000,\n",
      "batch=512, target_update=4\n"
     ]
    },
    {
     "name": "stderr",
     "output_type": "stream",
     "text": [
      "Episode 24|Iteration 500|reward:  165.0|last_reward_at:  215|Elapsed Time: 0:00:03||\n"
     ]
    },
    {
     "name": "stdout",
     "output_type": "stream",
     "text": [
      "  Episode 24 stopped at t=500 \n",
      "  Breakdown [Reward/NoReward (Success rate)]\n",
      "    explore-local: 4/10 (0.29)\n",
      "    explore-remote: 1/24 (0.04)\n",
      "    explore-connect: 0/24 (0.00)\n",
      "    exploit-local: 1/430 (0.00)\n",
      "    exploit-remote: 0/0 (NaN)\n",
      "    exploit-connect: 1/5 (0.17)\n",
      "  exploit deflected to exploration: 0\n",
      "  ## Episode: 25/50 'DQL' ϵ=0.1167, γ=0.015, lr=0.01, replaymemory=10000,\n",
      "batch=512, target_update=4\n"
     ]
    },
    {
     "name": "stderr",
     "output_type": "stream",
     "text": [
      "Episode 25|Iteration 458|reward: 4483.0|last_reward_at:  458|Elapsed Time: 0:00:04||\n"
     ]
    },
    {
     "name": "stdout",
     "output_type": "stream",
     "text": [
      "  Episode 25 ended at t=458 \n",
      "  Breakdown [Reward/NoReward (Success rate)]\n",
      "    explore-local: 2/7 (0.22)\n",
      "    explore-remote: 1/34 (0.03)\n",
      "    explore-connect: 0/33 (0.00)\n",
      "    exploit-local: 4/349 (0.01)\n",
      "    exploit-remote: 2/17 (0.11)\n",
      "    exploit-connect: 3/6 (0.33)\n",
      "  exploit deflected to exploration: 22\n",
      "  ## Episode: 26/50 'DQL' ϵ=0.1133, γ=0.015, lr=0.01, replaymemory=10000,\n",
      "batch=512, target_update=4\n"
     ]
    },
    {
     "name": "stderr",
     "output_type": "stream",
     "text": [
      "Episode 26|Iteration 170|reward: 4474.0|last_reward_at:  170|Elapsed Time: 0:00:01||\n"
     ]
    },
    {
     "name": "stdout",
     "output_type": "stream",
     "text": [
      "  Episode 26 ended at t=170 \n",
      "  Breakdown [Reward/NoReward (Success rate)]\n",
      "    explore-local: 1/4 (0.20)\n",
      "    explore-remote: 1/6 (0.14)\n",
      "    explore-connect: 0/11 (0.00)\n",
      "    exploit-local: 5/92 (0.05)\n",
      "    exploit-remote: 1/30 (0.03)\n",
      "    exploit-connect: 3/16 (0.16)\n",
      "  exploit deflected to exploration: 3\n",
      "  ## Episode: 27/50 'DQL' ϵ=0.1122, γ=0.015, lr=0.01, replaymemory=10000,\n",
      "batch=512, target_update=4\n"
     ]
    },
    {
     "name": "stderr",
     "output_type": "stream",
     "text": [
      "Episode 27|Iteration 500|reward:  174.0|last_reward_at:  190|Elapsed Time: 0:00:03||\n"
     ]
    },
    {
     "name": "stdout",
     "output_type": "stream",
     "text": [
      "  Episode 27 stopped at t=500 \n",
      "  Breakdown [Reward/NoReward (Success rate)]\n",
      "    explore-local: 1/11 (0.08)\n",
      "    explore-remote: 0/29 (0.00)\n",
      "    explore-connect: 0/28 (0.00)\n",
      "    exploit-local: 4/189 (0.02)\n",
      "    exploit-remote: 2/141 (0.01)\n",
      "    exploit-connect: 1/94 (0.01)\n",
      "  exploit deflected to exploration: 6\n",
      "  ## Episode: 28/50 'DQL' ϵ=0.1095, γ=0.015, lr=0.01, replaymemory=10000,\n",
      "batch=512, target_update=4\n"
     ]
    },
    {
     "name": "stderr",
     "output_type": "stream",
     "text": [
      "Episode 28|Iteration 110|reward: 4474.0|last_reward_at:  110|Elapsed Time: 0:00:00||\n"
     ]
    },
    {
     "name": "stdout",
     "output_type": "stream",
     "text": [
      "  Episode 28 ended at t=110 \n",
      "  Breakdown [Reward/NoReward (Success rate)]\n",
      "    explore-local: 1/1 (0.50)\n",
      "    explore-remote: 1/3 (0.25)\n",
      "    explore-connect: 0/7 (0.00)\n",
      "    exploit-local: 5/42 (0.11)\n",
      "    exploit-remote: 1/26 (0.04)\n",
      "    exploit-connect: 3/20 (0.13)\n",
      "  exploit deflected to exploration: 3\n",
      "  ## Episode: 29/50 'DQL' ϵ=0.1090, γ=0.015, lr=0.01, replaymemory=10000,\n",
      "batch=512, target_update=4\n"
     ]
    },
    {
     "name": "stderr",
     "output_type": "stream",
     "text": [
      "Episode 29|Iteration 41|reward: 4474.0|last_reward_at:   41|Elapsed Time: 0:00:00||\n"
     ]
    },
    {
     "name": "stdout",
     "output_type": "stream",
     "text": [
      "  Episode 29 ended at t=41 \n",
      "  Breakdown [Reward/NoReward (Success rate)]\n",
      "    explore-local: 2/0 (1.00)\n",
      "    explore-remote: 0/3 (0.00)\n",
      "    explore-connect: 0/0 (NaN)\n",
      "    exploit-local: 4/6 (0.40)\n",
      "    exploit-remote: 2/16 (0.11)\n",
      "    exploit-connect: 3/5 (0.38)\n",
      "  exploit deflected to exploration: 2\n",
      "  ## Episode: 30/50 'DQL' ϵ=0.1088, γ=0.015, lr=0.01, replaymemory=10000,\n",
      "batch=512, target_update=4\n"
     ]
    },
    {
     "name": "stderr",
     "output_type": "stream",
     "text": [
      "Episode 30|Iteration 366|reward: 4483.0|last_reward_at:  366|Elapsed Time: 0:00:02||\n"
     ]
    },
    {
     "name": "stdout",
     "output_type": "stream",
     "text": [
      "  Episode 30 ended at t=366 \n",
      "  Breakdown [Reward/NoReward (Success rate)]\n",
      "    explore-local: 2/6 (0.25)\n",
      "    explore-remote: 1/17 (0.06)\n",
      "    explore-connect: 1/14 (0.07)\n",
      "    exploit-local: 4/67 (0.06)\n",
      "    exploit-remote: 2/212 (0.01)\n",
      "    exploit-connect: 2/38 (0.05)\n",
      "  exploit deflected to exploration: 8\n",
      "  ## Episode: 31/50 'DQL' ϵ=0.1073, γ=0.015, lr=0.01, replaymemory=10000,\n",
      "batch=512, target_update=4\n"
     ]
    },
    {
     "name": "stderr",
     "output_type": "stream",
     "text": [
      "Episode 31|Iteration 136|reward: 4483.0|last_reward_at:  136|Elapsed Time: 0:00:01||\n"
     ]
    },
    {
     "name": "stdout",
     "output_type": "stream",
     "text": [
      "  Episode 31 ended at t=136 \n",
      "  Breakdown [Reward/NoReward (Success rate)]\n",
      "    explore-local: 2/5 (0.29)\n",
      "    explore-remote: 0/16 (0.00)\n",
      "    explore-connect: 0/16 (0.00)\n",
      "    exploit-local: 4/19 (0.17)\n",
      "    exploit-remote: 2/66 (0.03)\n",
      "    exploit-connect: 4/2 (0.67)\n",
      "  exploit deflected to exploration: 30\n",
      "  ## Episode: 32/50 'DQL' ϵ=0.1069, γ=0.015, lr=0.01, replaymemory=10000,\n",
      "batch=512, target_update=4\n"
     ]
    },
    {
     "name": "stderr",
     "output_type": "stream",
     "text": [
      "Episode 32|Iteration 64|reward: 4483.0|last_reward_at:   64|Elapsed Time: 0:00:00||\n"
     ]
    },
    {
     "name": "stdout",
     "output_type": "stream",
     "text": [
      "  Episode 32 ended at t=64 \n",
      "  Breakdown [Reward/NoReward (Success rate)]\n",
      "    explore-local: 3/2 (0.60)\n",
      "    explore-remote: 0/9 (0.00)\n",
      "    explore-connect: 0/8 (0.00)\n",
      "    exploit-local: 3/6 (0.33)\n",
      "    exploit-remote: 3/16 (0.16)\n",
      "    exploit-connect: 3/11 (0.21)\n",
      "  exploit deflected to exploration: 11\n",
      "  ## Episode: 33/50 'DQL' ϵ=0.1066, γ=0.015, lr=0.01, replaymemory=10000,\n",
      "batch=512, target_update=4\n"
     ]
    },
    {
     "name": "stderr",
     "output_type": "stream",
     "text": [
      "Episode 33|Iteration 84|reward: 4477.0|last_reward_at:   84|Elapsed Time: 0:00:00||\n"
     ]
    },
    {
     "name": "stdout",
     "output_type": "stream",
     "text": [
      "  Episode 33 ended at t=84 \n",
      "  Breakdown [Reward/NoReward (Success rate)]\n",
      "    explore-local: 1/1 (0.50)\n",
      "    explore-remote: 0/8 (0.00)\n",
      "    explore-connect: 0/9 (0.00)\n",
      "    exploit-local: 4/9 (0.31)\n",
      "    exploit-remote: 3/35 (0.08)\n",
      "    exploit-connect: 3/11 (0.21)\n",
      "  exploit deflected to exploration: 6\n",
      "  ## Episode: 34/50 'DQL' ϵ=0.1064, γ=0.015, lr=0.01, replaymemory=10000,\n",
      "batch=512, target_update=4\n"
     ]
    },
    {
     "name": "stderr",
     "output_type": "stream",
     "text": [
      "Episode 34|Iteration 114|reward: 4483.0|last_reward_at:  114|Elapsed Time: 0:00:00||\n"
     ]
    },
    {
     "name": "stdout",
     "output_type": "stream",
     "text": [
      "  Episode 34 ended at t=114 \n",
      "  Breakdown [Reward/NoReward (Success rate)]\n",
      "    explore-local: 0/1 (0.00)\n",
      "    explore-remote: 0/1 (0.00)\n",
      "    explore-connect: 0/6 (0.00)\n",
      "    exploit-local: 6/23 (0.21)\n",
      "    exploit-remote: 3/47 (0.06)\n",
      "    exploit-connect: 3/24 (0.11)\n",
      "  exploit deflected to exploration: 3\n",
      "  ## Episode: 35/50 'DQL' ϵ=0.1060, γ=0.015, lr=0.01, replaymemory=10000,\n",
      "batch=512, target_update=4\n"
     ]
    },
    {
     "name": "stderr",
     "output_type": "stream",
     "text": [
      "Episode 35|Iteration 287|reward: 4483.0|last_reward_at:  287|Elapsed Time: 0:00:01||\n"
     ]
    },
    {
     "name": "stdout",
     "output_type": "stream",
     "text": [
      "  Episode 35 ended at t=287 \n",
      "  Breakdown [Reward/NoReward (Success rate)]\n",
      "    explore-local: 0/2 (0.00)\n",
      "    explore-remote: 0/16 (0.00)\n",
      "    explore-connect: 0/17 (0.00)\n",
      "    exploit-local: 6/35 (0.15)\n",
      "    exploit-remote: 2/146 (0.01)\n",
      "    exploit-connect: 4/59 (0.06)\n",
      "  exploit deflected to exploration: 6\n",
      "  ## Episode: 36/50 'DQL' ϵ=0.1052, γ=0.015, lr=0.01, replaymemory=10000,\n",
      "batch=512, target_update=4\n"
     ]
    },
    {
     "name": "stderr",
     "output_type": "stream",
     "text": [
      "Episode 36|Iteration 134|reward: 4483.0|last_reward_at:  134|Elapsed Time: 0:00:00||\n"
     ]
    },
    {
     "name": "stdout",
     "output_type": "stream",
     "text": [
      "  Episode 36 ended at t=134 \n",
      "  Breakdown [Reward/NoReward (Success rate)]\n",
      "    explore-local: 1/1 (0.50)\n",
      "    explore-remote: 0/4 (0.00)\n",
      "    explore-connect: 0/3 (0.00)\n",
      "    exploit-local: 5/21 (0.19)\n",
      "    exploit-remote: 3/46 (0.06)\n",
      "    exploit-connect: 3/47 (0.06)\n",
      "  exploit deflected to exploration: 1\n",
      "  ## Episode: 37/50 'DQL' ϵ=0.1049, γ=0.015, lr=0.01, replaymemory=10000,\n",
      "batch=512, target_update=4\n"
     ]
    },
    {
     "name": "stderr",
     "output_type": "stream",
     "text": [
      "Episode 37|Iteration 218|reward: 4477.0|last_reward_at:  218|Elapsed Time: 0:00:01||\n"
     ]
    },
    {
     "name": "stdout",
     "output_type": "stream",
     "text": [
      "  Episode 37 ended at t=218 \n",
      "  Breakdown [Reward/NoReward (Success rate)]\n",
      "    explore-local: 1/5 (0.17)\n",
      "    explore-remote: 0/9 (0.00)\n",
      "    explore-connect: 0/19 (0.00)\n",
      "    exploit-local: 4/37 (0.10)\n",
      "    exploit-remote: 2/99 (0.02)\n",
      "    exploit-connect: 4/38 (0.10)\n",
      "  exploit deflected to exploration: 12\n",
      "  ## Episode: 38/50 'DQL' ϵ=0.1044, γ=0.015, lr=0.01, replaymemory=10000,\n",
      "batch=512, target_update=4\n"
     ]
    },
    {
     "name": "stderr",
     "output_type": "stream",
     "text": [
      "Episode 38|Iteration 336|reward: 4477.0|last_reward_at:  336|Elapsed Time: 0:00:02||\n"
     ]
    },
    {
     "name": "stdout",
     "output_type": "stream",
     "text": [
      "  Episode 38 ended at t=336 \n",
      "  Breakdown [Reward/NoReward (Success rate)]\n",
      "    explore-local: 1/9 (0.10)\n",
      "    explore-remote: 0/26 (0.00)\n",
      "    explore-connect: 0/40 (0.00)\n",
      "    exploit-local: 4/51 (0.07)\n",
      "    exploit-remote: 2/194 (0.01)\n",
      "    exploit-connect: 4/5 (0.44)\n",
      "  exploit deflected to exploration: 41\n",
      "  ## Episode: 39/50 'DQL' ϵ=0.1037, γ=0.015, lr=0.01, replaymemory=10000,\n",
      "batch=512, target_update=4\n"
     ]
    },
    {
     "name": "stderr",
     "output_type": "stream",
     "text": [
      "Episode 39|Iteration 147|reward: 4483.0|last_reward_at:  147|Elapsed Time: 0:00:00||\n"
     ]
    },
    {
     "name": "stdout",
     "output_type": "stream",
     "text": [
      "  Episode 39 ended at t=147 \n",
      "  Breakdown [Reward/NoReward (Success rate)]\n",
      "    explore-local: 2/0 (1.00)\n",
      "    explore-remote: 0/8 (0.00)\n",
      "    explore-connect: 0/15 (0.00)\n",
      "    exploit-local: 4/17 (0.19)\n",
      "    exploit-remote: 2/82 (0.02)\n",
      "    exploit-connect: 4/13 (0.24)\n",
      "  exploit deflected to exploration: 5\n",
      "  ## Episode: 40/50 'DQL' ϵ=0.1034, γ=0.015, lr=0.01, replaymemory=10000,\n",
      "batch=512, target_update=4\n"
     ]
    },
    {
     "name": "stderr",
     "output_type": "stream",
     "text": [
      "Episode 40|Iteration 167|reward: 4483.0|last_reward_at:  167|Elapsed Time: 0:00:01||\n"
     ]
    },
    {
     "name": "stdout",
     "output_type": "stream",
     "text": [
      "  Episode 40 ended at t=167 \n",
      "  Breakdown [Reward/NoReward (Success rate)]\n",
      "    explore-local: 1/6 (0.14)\n",
      "    explore-remote: 0/18 (0.00)\n",
      "    explore-connect: 0/19 (0.00)\n",
      "    exploit-local: 5/23 (0.18)\n",
      "    exploit-remote: 2/89 (0.02)\n",
      "    exploit-connect: 4/0 (1.00)\n",
      "  exploit deflected to exploration: 30\n",
      "  ## Episode: 41/50 'DQL' ϵ=0.1032, γ=0.015, lr=0.01, replaymemory=10000,\n",
      "batch=512, target_update=4\n"
     ]
    },
    {
     "name": "stderr",
     "output_type": "stream",
     "text": [
      "Episode 41|Iteration 87|reward: 4483.0|last_reward_at:   87|Elapsed Time: 0:00:00||\n"
     ]
    },
    {
     "name": "stdout",
     "output_type": "stream",
     "text": [
      "  Episode 41 ended at t=87 \n",
      "  Breakdown [Reward/NoReward (Success rate)]\n",
      "    explore-local: 1/0 (1.00)\n",
      "    explore-remote: 0/4 (0.00)\n",
      "    explore-connect: 0/5 (0.00)\n",
      "    exploit-local: 5/10 (0.33)\n",
      "    exploit-remote: 2/49 (0.04)\n",
      "    exploit-connect: 4/7 (0.36)\n",
      "  exploit deflected to exploration: 3\n",
      "  ## Episode: 42/50 'DQL' ϵ=0.1030, γ=0.015, lr=0.01, replaymemory=10000,\n",
      "batch=512, target_update=4\n"
     ]
    },
    {
     "name": "stderr",
     "output_type": "stream",
     "text": [
      "Episode 42|Iteration 142|reward: 4483.0|last_reward_at:  142|Elapsed Time: 0:00:01||\n"
     ]
    },
    {
     "name": "stdout",
     "output_type": "stream",
     "text": [
      "  Episode 42 ended at t=142 \n",
      "  Breakdown [Reward/NoReward (Success rate)]\n",
      "    explore-local: 1/1 (0.50)\n",
      "    explore-remote: 1/10 (0.09)\n",
      "    explore-connect: 0/13 (0.00)\n",
      "    exploit-local: 5/13 (0.28)\n",
      "    exploit-remote: 1/85 (0.01)\n",
      "    exploit-connect: 4/8 (0.33)\n",
      "  exploit deflected to exploration: 17\n",
      "  ## Episode: 43/50 'DQL' ϵ=0.1028, γ=0.015, lr=0.01, replaymemory=10000,\n",
      "batch=512, target_update=4\n"
     ]
    },
    {
     "name": "stderr",
     "output_type": "stream",
     "text": [
      "Episode 43|Iteration 111|reward: 4483.0|last_reward_at:  111|Elapsed Time: 0:00:00||\n"
     ]
    },
    {
     "name": "stdout",
     "output_type": "stream",
     "text": [
      "  Episode 43 ended at t=111 \n",
      "  Breakdown [Reward/NoReward (Success rate)]\n",
      "    explore-local: 1/1 (0.50)\n",
      "    explore-remote: 0/11 (0.00)\n",
      "    explore-connect: 0/7 (0.00)\n",
      "    exploit-local: 5/23 (0.18)\n",
      "    exploit-remote: 2/57 (0.03)\n",
      "    exploit-connect: 4/0 (1.00)\n",
      "  exploit deflected to exploration: 8\n",
      "  ## Episode: 44/50 'DQL' ϵ=0.1027, γ=0.015, lr=0.01, replaymemory=10000,\n",
      "batch=512, target_update=4\n"
     ]
    },
    {
     "name": "stderr",
     "output_type": "stream",
     "text": [
      "Episode 44|Iteration 257|reward: 4483.0|last_reward_at:  257|Elapsed Time: 0:00:02||\n"
     ]
    },
    {
     "name": "stdout",
     "output_type": "stream",
     "text": [
      "  Episode 44 ended at t=257 \n",
      "  Breakdown [Reward/NoReward (Success rate)]\n",
      "    explore-local: 1/8 (0.11)\n",
      "    explore-remote: 2/24 (0.08)\n",
      "    explore-connect: 0/18 (0.00)\n",
      "    exploit-local: 5/46 (0.10)\n",
      "    exploit-remote: 0/149 (0.00)\n",
      "    exploit-connect: 4/0 (1.00)\n",
      "  exploit deflected to exploration: 30\n",
      "  ## Episode: 45/50 'DQL' ϵ=0.1023, γ=0.015, lr=0.01, replaymemory=10000,\n",
      "batch=512, target_update=4\n"
     ]
    },
    {
     "name": "stderr",
     "output_type": "stream",
     "text": [
      "Episode 45|Iteration 70|reward: 4483.0|last_reward_at:   70|Elapsed Time: 0:00:00||\n"
     ]
    },
    {
     "name": "stdout",
     "output_type": "stream",
     "text": [
      "  Episode 45 ended at t=70 \n",
      "  Breakdown [Reward/NoReward (Success rate)]\n",
      "    explore-local: 1/1 (0.50)\n",
      "    explore-remote: 0/3 (0.00)\n",
      "    explore-connect: 0/4 (0.00)\n",
      "    exploit-local: 5/7 (0.42)\n",
      "    exploit-remote: 2/34 (0.06)\n",
      "    exploit-connect: 4/9 (0.31)\n",
      "  exploit deflected to exploration: 3\n",
      "  ## Episode: 46/50 'DQL' ϵ=0.1023, γ=0.015, lr=0.01, replaymemory=10000,\n",
      "batch=512, target_update=4\n"
     ]
    },
    {
     "name": "stderr",
     "output_type": "stream",
     "text": [
      "Episode 46|Iteration 77|reward: 4483.0|last_reward_at:   77|Elapsed Time: 0:00:00||\n"
     ]
    },
    {
     "name": "stdout",
     "output_type": "stream",
     "text": [
      "  Episode 46 ended at t=77 \n",
      "  Breakdown [Reward/NoReward (Success rate)]\n",
      "    explore-local: 1/1 (0.50)\n",
      "    explore-remote: 1/5 (0.17)\n",
      "    explore-connect: 0/8 (0.00)\n",
      "    exploit-local: 5/12 (0.29)\n",
      "    exploit-remote: 1/29 (0.03)\n",
      "    exploit-connect: 4/10 (0.29)\n",
      "  exploit deflected to exploration: 9\n",
      "  ## Episode: 47/50 'DQL' ϵ=0.1022, γ=0.015, lr=0.01, replaymemory=10000,\n",
      "batch=512, target_update=4\n"
     ]
    },
    {
     "name": "stderr",
     "output_type": "stream",
     "text": [
      "Episode 47|Iteration 253|reward: 4483.0|last_reward_at:  253|Elapsed Time: 0:00:04||\n"
     ]
    },
    {
     "name": "stdout",
     "output_type": "stream",
     "text": [
      "  Episode 47 ended at t=253 \n",
      "  Breakdown [Reward/NoReward (Success rate)]\n",
      "    explore-local: 1/21 (0.05)\n",
      "    explore-remote: 0/82 (0.00)\n",
      "    explore-connect: 0/96 (0.00)\n",
      "    exploit-local: 5/10 (0.33)\n",
      "    exploit-remote: 2/15 (0.12)\n",
      "    exploit-connect: 4/17 (0.19)\n",
      "  exploit deflected to exploration: 178\n",
      "  ## Episode: 48/50 'DQL' ϵ=0.1019, γ=0.015, lr=0.01, replaymemory=10000,\n",
      "batch=512, target_update=4\n"
     ]
    },
    {
     "name": "stderr",
     "output_type": "stream",
     "text": [
      "Episode 48|Iteration 298|reward:  174.0|last_reward_at:  146|Elapsed Time: 0:00:01||"
     ]
    }
   ],
   "source": [
    "dql_run = learner.epsilon_greedy_search(\n",
    "    cyberbattle_gym_env=gym_env,\n",
    "    environment_properties=ep,\n",
    "    learner=dqla.DeepQLearnerPolicy(\n",
    "        ep=ep,\n",
    "        gamma=0.015,\n",
    "        replay_memory_size=10000,\n",
    "        target_update=4,\n",
    "        batch_size=512,\n",
    "        # torch default learning rate is 1e-2\n",
    "        # a large value helps converge in less episodes\n",
    "        learning_rate=0.01\n",
    "    ),\n",
    "    episode_count=training_episode_count,\n",
    "    iteration_count=iteration_count,\n",
    "    epsilon=0.90,\n",
    "    epsilon_exponential_decay=2000,\n",
    "    epsilon_minimum=0.1,\n",
    "    verbosity=Verbosity.Quiet,\n",
    "    render=False,\n",
    "    plot_episodes_length=False,\n",
    "    title=\"DQL\"\n",
    ")"
   ]
  },
  {
   "cell_type": "code",
   "execution_count": null,
   "metadata": {},
   "outputs": [],
   "source": [
    "dql_exploit_run = learner.epsilon_greedy_search(\n",
    "    gym_env,\n",
    "    ep,\n",
    "    learner=dql_run['learner'],\n",
    "    episode_count=eval_episode_count,\n",
    "    iteration_count=iteration_count,\n",
    "    epsilon=0.0,\n",
    "    epsilon_minimum=0.00,\n",
    "    render=True,\n",
    "    plot_episodes_length=False,\n",
    "    verbosity=Verbosity.Quiet,\n",
    "    title=\"Exploiting DQL\"\n",
    ")"
   ]
  },
  {
   "cell_type": "code",
   "execution_count": null,
   "metadata": {
    "tags": []
   },
   "outputs": [],
   "source": [
    "random_run = learner.epsilon_greedy_search(\n",
    "    gym_env,\n",
    "    ep,\n",
    "    learner=learner.RandomPolicy(),\n",
    "    episode_count=eval_episode_count,\n",
    "    iteration_count=iteration_count,\n",
    "    epsilon=1.0,  # purely random\n",
    "    render=False,\n",
    "    verbosity=Verbosity.Quiet,\n",
    "    plot_episodes_length=False,\n",
    "    title=\"Random search\"\n",
    ")"
   ]
  },
  {
   "cell_type": "code",
   "execution_count": null,
   "metadata": {},
   "outputs": [],
   "source": [
    "all_runs = [\n",
    "    random_run,\n",
    "    dql_exploit_run,\n",
    "]\n",
    "\n",
    "# Plot averaged cumulative rewards for DQL vs Random vs DQL-Exploit\n",
    "themodel = dqla.CyberBattleStateActionModel(ep)\n",
    "p.plot_averaged_cummulative_rewards(\n",
    "    all_runs=all_runs,\n",
    "    title=f'Benchmark -- max_nodes={ep.maximum_node_count}, episodes={eval_episode_count},\\n'\n",
    "    f'State: {[f.name() for f in themodel.state_space.feature_selection]} '\n",
    "    f'({len(themodel.state_space.feature_selection)}\\n'\n",
    "    f\"Action: abstract_action ({themodel.action_space.flat_size()})\")"
   ]
  },
  {
   "cell_type": "code",
   "execution_count": null,
   "metadata": {},
   "outputs": [],
   "source": [
    "contenders = [\n",
    "    random_run,\n",
    "    dql_exploit_run,\n",
    "]\n",
    "p.plot_episodes_length(contenders)\n",
    "p.plot_averaged_cummulative_rewards(\n",
    "    title=f'Agent Benchmark top contenders\\n'\n",
    "    f'max_nodes:{ep.maximum_node_count}\\n',\n",
    "    all_runs=contenders)"
   ]
  },
  {
   "cell_type": "code",
   "execution_count": null,
   "metadata": {},
   "outputs": [],
   "source": [
    "for r in contenders:\n",
    "    p.plot_all_episodes(r)"
   ]
  },
  {
   "cell_type": "code",
   "execution_count": null,
   "metadata": {},
   "outputs": [],
   "source": []
  }
 ],
 "metadata": {
  "kernelspec": {
   "display_name": "Python 3 (ipykernel)",
   "language": "python",
   "name": "python3"
  },
  "language_info": {
   "codemirror_mode": {
    "name": "ipython",
    "version": 3
   },
   "file_extension": ".py",
   "mimetype": "text/x-python",
   "name": "python",
   "nbconvert_exporter": "python",
   "pygments_lexer": "ipython3",
   "version": "3.9.7"
  },
  "vscode": {
   "interpreter": {
    "hash": "3789f0b7798582d69dcf15be613fcc83841d994ca1ca8efcb37313c62431f65c"
   }
  }
 },
 "nbformat": 4,
 "nbformat_minor": 4
}
