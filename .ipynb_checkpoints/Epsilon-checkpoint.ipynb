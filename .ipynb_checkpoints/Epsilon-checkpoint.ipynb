{
 "cells": [
  {
   "cell_type": "code",
   "execution_count": 1,
   "id": "ce4d40f0-2f35-4500-8403-46d68f178673",
   "metadata": {},
   "outputs": [],
   "source": [
    "import sys\n",
    "import logging\n",
    "import gym\n",
    "from gym import spaces\n",
    "import numpy as np\n",
    "import networkx as nx\n",
    "import cyberbattle.simulation.actions as actions\n",
    "import cyberbattle._env.cyberbattle_env as cyberbattle_env\n",
    "import cyberbattle.agents.random_agent as random_agent\n",
    "import cyberbattle.samples.chainpattern.chainpattern as chainpattern\n",
    "import importlib\n",
    "import cyberbattle.agents.baseline.learner as learner\n",
    "import cyberbattle.agents.baseline.plotting as p\n",
    "import cyberbattle.agents.baseline.agent_wrapper as w\n",
    "import cyberbattle.agents.baseline.agent_randomcredlookup as rca\n",
    "import cyberbattle.agents.baseline.agent_tabularqlearning as tqa\n",
    "import cyberbattle.agents.baseline.agent_dql as dqla\n",
    "from cyberbattle.agents.baseline.agent_wrapper import Verbosity\n"
   ]
  },
  {
   "cell_type": "code",
   "execution_count": 2,
   "id": "995c7a90-a233-4089-a363-eddefd9a60af",
   "metadata": {},
   "outputs": [],
   "source": [
    "gym_env = gym.make('CyberBattleCBSHH-v0')\n",
    "\n",
    "iteration_count = 500\n",
    "training_episode_count = 50\n",
    "eval_episode_count = 10"
   ]
  },
  {
   "cell_type": "code",
   "execution_count": 3,
   "id": "3087cfbc-a787-45b8-8763-0c60048e9cc7",
   "metadata": {},
   "outputs": [],
   "source": [
    "ep = w.EnvironmentBounds.of_identifiers(\n",
    "    maximum_node_count=12,\n",
    "    maximum_total_credentials=5,\n",
    "    identifiers=gym_env.identifiers\n",
    ")"
   ]
  },
  {
   "cell_type": "code",
   "execution_count": 4,
   "id": "48137f2a-cb5a-488e-ac74-af7354ba560c",
   "metadata": {
    "collapsed": true,
    "jupyter": {
     "outputs_hidden": true
    },
    "tags": []
   },
   "outputs": [
    {
     "name": "stdout",
     "output_type": "stream",
     "text": [
      "###### static epsilon\n",
      "Learning with: episode_count=50,iteration_count=500,ϵ=0.01,ϵ_min=0.01, ϵ_expdecay=2000,γ=0.015, lr=0.01, replaymemory=10000,\n",
      "batch=512, target_update=4\n",
      "  ## Episode: 1/50 'static epsilon' ϵ=0.0100, γ=0.015, lr=0.01, replaymemory=10000,\n",
      "batch=512, target_update=4\n"
     ]
    },
    {
     "name": "stderr",
     "output_type": "stream",
     "text": [
      "Episode 1|Iteration 0|reward: ------|last_reward_at: ----|Elapsed Time: 0:00:00||/home/jupyter-hoodit/cyberbattle/CBSHH/cyberbattle/agents/baseline/agent_dql.py:382: UserWarning: Creating a tensor from a list of numpy.ndarrays is extremely slow. Please consider converting the list to a single numpy.ndarray with numpy.array() before converting to a tensor. (Triggered internally at  ../torch/csrc/utils/tensor_new.cpp:201.)\n",
      "  state_batch = torch.tensor(states_to_consider).to(device)\n",
      "Episode 1|Iteration 500|reward:   20.0|last_reward_at:  164|Elapsed Time: 0:00:01||\n"
     ]
    },
    {
     "name": "stdout",
     "output_type": "stream",
     "text": [
      "  Episode 1 stopped at t=500 \n",
      "  Breakdown [Reward/NoReward (Success rate)]\n",
      "    explore-local: 1/0 (1.00)\n",
      "    explore-remote: 0/0 (NaN)\n",
      "    explore-connect: 0/2 (0.00)\n",
      "    exploit-local: 1/406 (0.00)\n",
      "    exploit-remote: 0/90 (0.00)\n",
      "    exploit-connect: 0/0 (NaN)\n",
      "  exploit deflected to exploration: 0\n",
      "  ## Episode: 2/50 'static epsilon' ϵ=0.0100, γ=0.015, lr=0.01, replaymemory=10000,\n",
      "batch=512, target_update=4\n"
     ]
    },
    {
     "name": "stderr",
     "output_type": "stream",
     "text": [
      "Episode 2|Iteration 500|reward:  148.0|last_reward_at:  172|Elapsed Time: 0:00:02||\n"
     ]
    },
    {
     "name": "stdout",
     "output_type": "stream",
     "text": [
      "  Episode 2 stopped at t=500 \n",
      "  Breakdown [Reward/NoReward (Success rate)]\n",
      "    explore-local: 1/0 (1.00)\n",
      "    explore-remote: 0/6 (0.00)\n",
      "    explore-connect: 0/9 (0.00)\n",
      "    exploit-local: 2/267 (0.01)\n",
      "    exploit-remote: 1/76 (0.01)\n",
      "    exploit-connect: 1/137 (0.01)\n",
      "  exploit deflected to exploration: 15\n",
      "  ## Episode: 3/50 'static epsilon' ϵ=0.0100, γ=0.015, lr=0.01, replaymemory=10000,\n",
      "batch=512, target_update=4\n"
     ]
    },
    {
     "name": "stderr",
     "output_type": "stream",
     "text": [
      "Episode 3|Iteration 500|reward:  163.0|last_reward_at:  201|Elapsed Time: 0:00:03||\n"
     ]
    },
    {
     "name": "stdout",
     "output_type": "stream",
     "text": [
      "  Episode 3 stopped at t=500 \n",
      "  Breakdown [Reward/NoReward (Success rate)]\n",
      "    explore-local: 0/2 (0.00)\n",
      "    explore-remote: 0/7 (0.00)\n",
      "    explore-connect: 0/6 (0.00)\n",
      "    exploit-local: 4/269 (0.01)\n",
      "    exploit-remote: 2/166 (0.01)\n",
      "    exploit-connect: 1/43 (0.02)\n",
      "  exploit deflected to exploration: 13\n",
      "  ## Episode: 4/50 'static epsilon' ϵ=0.0100, γ=0.015, lr=0.01, replaymemory=10000,\n",
      "batch=512, target_update=4\n"
     ]
    },
    {
     "name": "stderr",
     "output_type": "stream",
     "text": [
      "Episode 4|Iteration 500|reward:  483.0|last_reward_at:  459|Elapsed Time: 0:00:03||\n"
     ]
    },
    {
     "name": "stdout",
     "output_type": "stream",
     "text": [
      "  Episode 4 stopped at t=500 \n",
      "  Breakdown [Reward/NoReward (Success rate)]\n",
      "    explore-local: 1/0 (1.00)\n",
      "    explore-remote: 0/1 (0.00)\n",
      "    explore-connect: 0/4 (0.00)\n",
      "    exploit-local: 5/231 (0.02)\n",
      "    exploit-remote: 2/138 (0.01)\n",
      "    exploit-connect: 2/116 (0.02)\n",
      "  exploit deflected to exploration: 2\n",
      "  ## Episode: 5/50 'static epsilon' ϵ=0.0100, γ=0.015, lr=0.01, replaymemory=10000,\n",
      "batch=512, target_update=4\n"
     ]
    },
    {
     "name": "stderr",
     "output_type": "stream",
     "text": [
      "Episode 5|Iteration 500|reward:  483.0|last_reward_at:  187|Elapsed Time: 0:00:03||\n"
     ]
    },
    {
     "name": "stdout",
     "output_type": "stream",
     "text": [
      "  Episode 5 stopped at t=500 \n",
      "  Breakdown [Reward/NoReward (Success rate)]\n",
      "    explore-local: 2/3 (0.40)\n",
      "    explore-remote: 1/5 (0.17)\n",
      "    explore-connect: 0/5 (0.00)\n",
      "    exploit-local: 4/208 (0.02)\n",
      "    exploit-remote: 1/152 (0.01)\n",
      "    exploit-connect: 2/117 (0.02)\n",
      "  exploit deflected to exploration: 15\n",
      "  ## Episode: 6/50 'static epsilon' ϵ=0.0100, γ=0.015, lr=0.01, replaymemory=10000,\n",
      "batch=512, target_update=4\n"
     ]
    },
    {
     "name": "stderr",
     "output_type": "stream",
     "text": [
      "Episode 6|Iteration 500|reward:  483.0|last_reward_at:   73|Elapsed Time: 0:00:03||\n"
     ]
    },
    {
     "name": "stdout",
     "output_type": "stream",
     "text": [
      "  Episode 6 stopped at t=500 \n",
      "  Breakdown [Reward/NoReward (Success rate)]\n",
      "    explore-local: 1/3 (0.25)\n",
      "    explore-remote: 0/4 (0.00)\n",
      "    explore-connect: 0/8 (0.00)\n",
      "    exploit-local: 5/185 (0.03)\n",
      "    exploit-remote: 2/167 (0.01)\n",
      "    exploit-connect: 2/123 (0.02)\n",
      "  exploit deflected to exploration: 10\n",
      "  ## Episode: 7/50 'static epsilon' ϵ=0.0100, γ=0.015, lr=0.01, replaymemory=10000,\n",
      "batch=512, target_update=4\n"
     ]
    },
    {
     "name": "stderr",
     "output_type": "stream",
     "text": [
      "Episode 7|Iteration 500|reward:  483.0|last_reward_at:  224|Elapsed Time: 0:00:04||\n"
     ]
    },
    {
     "name": "stdout",
     "output_type": "stream",
     "text": [
      "  Episode 7 stopped at t=500 \n",
      "  Breakdown [Reward/NoReward (Success rate)]\n",
      "    explore-local: 2/3 (0.40)\n",
      "    explore-remote: 1/13 (0.07)\n",
      "    explore-connect: 0/14 (0.00)\n",
      "    exploit-local: 4/192 (0.02)\n",
      "    exploit-remote: 1/159 (0.01)\n",
      "    exploit-connect: 2/109 (0.02)\n",
      "  exploit deflected to exploration: 26\n",
      "  ## Episode: 8/50 'static epsilon' ϵ=0.0100, γ=0.015, lr=0.01, replaymemory=10000,\n",
      "batch=512, target_update=4\n"
     ]
    },
    {
     "name": "stderr",
     "output_type": "stream",
     "text": [
      "Episode 8|Iteration 500|reward:  483.0|last_reward_at:   68|Elapsed Time: 0:00:03||\n"
     ]
    },
    {
     "name": "stdout",
     "output_type": "stream",
     "text": [
      "  Episode 8 stopped at t=500 \n",
      "  Breakdown [Reward/NoReward (Success rate)]\n",
      "    explore-local: 0/2 (0.00)\n",
      "    explore-remote: 0/3 (0.00)\n",
      "    explore-connect: 0/7 (0.00)\n",
      "    exploit-local: 6/229 (0.03)\n",
      "    exploit-remote: 2/162 (0.01)\n",
      "    exploit-connect: 2/87 (0.02)\n",
      "  exploit deflected to exploration: 6\n",
      "  ## Episode: 9/50 'static epsilon' ϵ=0.0100, γ=0.015, lr=0.01, replaymemory=10000,\n",
      "batch=512, target_update=4\n"
     ]
    },
    {
     "name": "stderr",
     "output_type": "stream",
     "text": [
      "Episode 9|Iteration 500|reward:  483.0|last_reward_at:   44|Elapsed Time: 0:00:03||\n"
     ]
    },
    {
     "name": "stdout",
     "output_type": "stream",
     "text": [
      "  Episode 9 stopped at t=500 \n",
      "  Breakdown [Reward/NoReward (Success rate)]\n",
      "    explore-local: 1/1 (0.50)\n",
      "    explore-remote: 0/2 (0.00)\n",
      "    explore-connect: 0/5 (0.00)\n",
      "    exploit-local: 5/221 (0.02)\n",
      "    exploit-remote: 2/162 (0.01)\n",
      "    exploit-connect: 2/99 (0.02)\n",
      "  exploit deflected to exploration: 5\n",
      "  ## Episode: 10/50 'static epsilon' ϵ=0.0100, γ=0.015, lr=0.01, replaymemory=10000,\n",
      "batch=512, target_update=4\n"
     ]
    },
    {
     "name": "stderr",
     "output_type": "stream",
     "text": [
      "Episode 10|Iteration 500|reward:  483.0|last_reward_at:   42|Elapsed Time: 0:00:03||\n"
     ]
    },
    {
     "name": "stdout",
     "output_type": "stream",
     "text": [
      "  Episode 10 stopped at t=500 \n",
      "  Breakdown [Reward/NoReward (Success rate)]\n",
      "    explore-local: 0/1 (0.00)\n",
      "    explore-remote: 0/2 (0.00)\n",
      "    explore-connect: 0/5 (0.00)\n",
      "    exploit-local: 6/222 (0.03)\n",
      "    exploit-remote: 2/163 (0.01)\n",
      "    exploit-connect: 2/97 (0.02)\n",
      "  exploit deflected to exploration: 5\n",
      "  ## Episode: 11/50 'static epsilon' ϵ=0.0100, γ=0.015, lr=0.01, replaymemory=10000,\n",
      "batch=512, target_update=4\n"
     ]
    },
    {
     "name": "stderr",
     "output_type": "stream",
     "text": [
      "Episode 11|Iteration 500|reward:  483.0|last_reward_at:  126|Elapsed Time: 0:00:04||\n"
     ]
    },
    {
     "name": "stdout",
     "output_type": "stream",
     "text": [
      "  Episode 11 stopped at t=500 \n",
      "  Breakdown [Reward/NoReward (Success rate)]\n",
      "    explore-local: 2/3 (0.40)\n",
      "    explore-remote: 1/4 (0.20)\n",
      "    explore-connect: 0/5 (0.00)\n",
      "    exploit-local: 4/220 (0.02)\n",
      "    exploit-remote: 1/163 (0.01)\n",
      "    exploit-connect: 2/95 (0.02)\n",
      "  exploit deflected to exploration: 8\n",
      "  ## Episode: 12/50 'static epsilon' ϵ=0.0100, γ=0.015, lr=0.01, replaymemory=10000,\n",
      "batch=512, target_update=4\n"
     ]
    },
    {
     "name": "stderr",
     "output_type": "stream",
     "text": [
      "Episode 12|Iteration 500|reward:  483.0|last_reward_at:   91|Elapsed Time: 0:00:03||\n"
     ]
    },
    {
     "name": "stdout",
     "output_type": "stream",
     "text": [
      "  Episode 12 stopped at t=500 \n",
      "  Breakdown [Reward/NoReward (Success rate)]\n",
      "    explore-local: 0/2 (0.00)\n",
      "    explore-remote: 0/6 (0.00)\n",
      "    explore-connect: 0/6 (0.00)\n",
      "    exploit-local: 6/214 (0.03)\n",
      "    exploit-remote: 2/156 (0.01)\n",
      "    exploit-connect: 2/106 (0.02)\n",
      "  exploit deflected to exploration: 6\n",
      "  ## Episode: 13/50 'static epsilon' ϵ=0.0100, γ=0.015, lr=0.01, replaymemory=10000,\n",
      "batch=512, target_update=4\n"
     ]
    },
    {
     "name": "stderr",
     "output_type": "stream",
     "text": [
      "Episode 13|Iteration 500|reward:  483.0|last_reward_at:   95|Elapsed Time: 0:00:03||\n"
     ]
    },
    {
     "name": "stdout",
     "output_type": "stream",
     "text": [
      "  Episode 13 stopped at t=500 \n",
      "  Breakdown [Reward/NoReward (Success rate)]\n",
      "    explore-local: 0/2 (0.00)\n",
      "    explore-remote: 1/4 (0.20)\n",
      "    explore-connect: 0/6 (0.00)\n",
      "    exploit-local: 6/235 (0.02)\n",
      "    exploit-remote: 1/148 (0.01)\n",
      "    exploit-connect: 2/95 (0.02)\n",
      "  exploit deflected to exploration: 7\n",
      "  ## Episode: 14/50 'static epsilon' ϵ=0.0100, γ=0.015, lr=0.01, replaymemory=10000,\n",
      "batch=512, target_update=4\n"
     ]
    },
    {
     "name": "stderr",
     "output_type": "stream",
     "text": [
      "Episode 14|Iteration 500|reward:  483.0|last_reward_at:   31|Elapsed Time: 0:00:03||\n"
     ]
    },
    {
     "name": "stdout",
     "output_type": "stream",
     "text": [
      "  Episode 14 stopped at t=500 \n",
      "  Breakdown [Reward/NoReward (Success rate)]\n",
      "    explore-local: 0/2 (0.00)\n",
      "    explore-remote: 0/3 (0.00)\n",
      "    explore-connect: 0/5 (0.00)\n",
      "    exploit-local: 6/242 (0.02)\n",
      "    exploit-remote: 2/152 (0.01)\n",
      "    exploit-connect: 2/86 (0.02)\n",
      "  exploit deflected to exploration: 3\n",
      "  ## Episode: 15/50 'static epsilon' ϵ=0.0100, γ=0.015, lr=0.01, replaymemory=10000,\n",
      "batch=512, target_update=4\n"
     ]
    },
    {
     "name": "stderr",
     "output_type": "stream",
     "text": [
      "Episode 15|Iteration 500|reward:  483.0|last_reward_at:  113|Elapsed Time: 0:00:03||\n"
     ]
    },
    {
     "name": "stdout",
     "output_type": "stream",
     "text": [
      "  Episode 15 stopped at t=500 \n",
      "  Breakdown [Reward/NoReward (Success rate)]\n",
      "    explore-local: 0/1 (0.00)\n",
      "    explore-remote: 0/4 (0.00)\n",
      "    explore-connect: 0/7 (0.00)\n",
      "    exploit-local: 6/232 (0.03)\n",
      "    exploit-remote: 2/154 (0.01)\n",
      "    exploit-connect: 2/92 (0.02)\n",
      "  exploit deflected to exploration: 11\n",
      "  ## Episode: 16/50 'static epsilon' ϵ=0.0100, γ=0.015, lr=0.01, replaymemory=10000,\n",
      "batch=512, target_update=4\n"
     ]
    },
    {
     "name": "stderr",
     "output_type": "stream",
     "text": [
      "Episode 16|Iteration 500|reward:  483.0|last_reward_at:   58|Elapsed Time: 0:00:03||\n"
     ]
    },
    {
     "name": "stdout",
     "output_type": "stream",
     "text": [
      "  Episode 16 stopped at t=500 \n",
      "  Breakdown [Reward/NoReward (Success rate)]\n",
      "    explore-local: 0/2 (0.00)\n",
      "    explore-remote: 0/2 (0.00)\n",
      "    explore-connect: 0/6 (0.00)\n",
      "    exploit-local: 6/207 (0.03)\n",
      "    exploit-remote: 2/171 (0.01)\n",
      "    exploit-connect: 2/102 (0.02)\n",
      "  exploit deflected to exploration: 4\n",
      "  ## Episode: 17/50 'static epsilon' ϵ=0.0100, γ=0.015, lr=0.01, replaymemory=10000,\n",
      "batch=512, target_update=4\n"
     ]
    },
    {
     "name": "stderr",
     "output_type": "stream",
     "text": [
      "Episode 17|Iteration 500|reward:  483.0|last_reward_at:   79|Elapsed Time: 0:00:03||\n"
     ]
    },
    {
     "name": "stdout",
     "output_type": "stream",
     "text": [
      "  Episode 17 stopped at t=500 \n",
      "  Breakdown [Reward/NoReward (Success rate)]\n",
      "    explore-local: 0/1 (0.00)\n",
      "    explore-remote: 0/7 (0.00)\n",
      "    explore-connect: 0/2 (0.00)\n",
      "    exploit-local: 6/214 (0.03)\n",
      "    exploit-remote: 2/181 (0.01)\n",
      "    exploit-connect: 2/85 (0.02)\n",
      "  exploit deflected to exploration: 3\n",
      "  ## Episode: 18/50 'static epsilon' ϵ=0.0100, γ=0.015, lr=0.01, replaymemory=10000,\n",
      "batch=512, target_update=4\n"
     ]
    },
    {
     "name": "stderr",
     "output_type": "stream",
     "text": [
      "Episode 18|Iteration 119|reward: 4483.0|last_reward_at:  119|Elapsed Time: 0:00:01||\n"
     ]
    },
    {
     "name": "stdout",
     "output_type": "stream",
     "text": [
      "  Episode 18 ended at t=119 \n",
      "  Breakdown [Reward/NoReward (Success rate)]\n",
      "    explore-local: 0/1 (0.00)\n",
      "    explore-remote: 1/3 (0.25)\n",
      "    explore-connect: 0/4 (0.00)\n",
      "    exploit-local: 6/44 (0.12)\n",
      "    exploit-remote: 2/40 (0.05)\n",
      "    exploit-connect: 3/15 (0.17)\n",
      "  exploit deflected to exploration: 8\n",
      "  ## Episode: 19/50 'static epsilon' ϵ=0.0100, γ=0.015, lr=0.01, replaymemory=10000,\n",
      "batch=512, target_update=4\n"
     ]
    },
    {
     "name": "stderr",
     "output_type": "stream",
     "text": [
      "Episode 19|Iteration 49|reward: 4483.0|last_reward_at:   49|Elapsed Time: 0:00:00||\n"
     ]
    },
    {
     "name": "stdout",
     "output_type": "stream",
     "text": [
      "  Episode 19 ended at t=49 \n",
      "  Breakdown [Reward/NoReward (Success rate)]\n",
      "    explore-local: 0/1 (0.00)\n",
      "    explore-remote: 0/3 (0.00)\n",
      "    explore-connect: 1/2 (0.33)\n",
      "    exploit-local: 6/5 (0.55)\n",
      "    exploit-remote: 2/22 (0.08)\n",
      "    exploit-connect: 3/4 (0.43)\n",
      "  exploit deflected to exploration: 7\n",
      "  ## Episode: 20/50 'static epsilon' ϵ=0.0100, γ=0.015, lr=0.01, replaymemory=10000,\n",
      "batch=512, target_update=4\n"
     ]
    },
    {
     "name": "stderr",
     "output_type": "stream",
     "text": [
      "Episode 20|Iteration 169|reward: 4477.0|last_reward_at:  169|Elapsed Time: 0:00:01||\n"
     ]
    },
    {
     "name": "stdout",
     "output_type": "stream",
     "text": [
      "  Episode 20 ended at t=169 \n",
      "  Breakdown [Reward/NoReward (Success rate)]\n",
      "    explore-local: 0/1 (0.00)\n",
      "    explore-remote: 1/10 (0.09)\n",
      "    explore-connect: 0/3 (0.00)\n",
      "    exploit-local: 5/35 (0.12)\n",
      "    exploit-remote: 2/19 (0.10)\n",
      "    exploit-connect: 3/90 (0.03)\n",
      "  exploit deflected to exploration: 13\n",
      "  ## Episode: 21/50 'static epsilon' ϵ=0.0100, γ=0.015, lr=0.01, replaymemory=10000,\n",
      "batch=512, target_update=4\n"
     ]
    },
    {
     "name": "stderr",
     "output_type": "stream",
     "text": [
      "Episode 21|Iteration 49|reward: 4483.0|last_reward_at:   49|Elapsed Time: 0:00:00||\n"
     ]
    },
    {
     "name": "stdout",
     "output_type": "stream",
     "text": [
      "  Episode 21 ended at t=49 \n",
      "  Breakdown [Reward/NoReward (Success rate)]\n",
      "    explore-local: 0/1 (0.00)\n",
      "    explore-remote: 1/2 (0.33)\n",
      "    explore-connect: 0/2 (0.00)\n",
      "    exploit-local: 6/14 (0.30)\n",
      "    exploit-remote: 2/5 (0.29)\n",
      "    exploit-connect: 3/13 (0.19)\n",
      "  exploit deflected to exploration: 5\n",
      "  ## Episode: 22/50 'static epsilon' ϵ=0.0100, γ=0.015, lr=0.01, replaymemory=10000,\n",
      "batch=512, target_update=4\n"
     ]
    },
    {
     "name": "stderr",
     "output_type": "stream",
     "text": [
      "Episode 22|Iteration 112|reward: 4483.0|last_reward_at:  112|Elapsed Time: 0:00:01||\n"
     ]
    },
    {
     "name": "stdout",
     "output_type": "stream",
     "text": [
      "  Episode 22 ended at t=112 \n",
      "  Breakdown [Reward/NoReward (Success rate)]\n",
      "    explore-local: 1/3 (0.25)\n",
      "    explore-remote: 0/11 (0.00)\n",
      "    explore-connect: 1/5 (0.17)\n",
      "    exploit-local: 5/21 (0.19)\n",
      "    exploit-remote: 2/19 (0.10)\n",
      "    exploit-connect: 3/41 (0.07)\n",
      "  exploit deflected to exploration: 21\n",
      "  ## Episode: 23/50 'static epsilon' ϵ=0.0100, γ=0.015, lr=0.01, replaymemory=10000,\n",
      "batch=512, target_update=4\n"
     ]
    },
    {
     "name": "stderr",
     "output_type": "stream",
     "text": [
      "Episode 23|Iteration 51|reward: 4483.0|last_reward_at:   51|Elapsed Time: 0:00:00||\n"
     ]
    },
    {
     "name": "stdout",
     "output_type": "stream",
     "text": [
      "  Episode 23 ended at t=51 \n",
      "  Breakdown [Reward/NoReward (Success rate)]\n",
      "    explore-local: 0/2 (0.00)\n",
      "    explore-remote: 2/1 (0.67)\n",
      "    explore-connect: 0/0 (NaN)\n",
      "    exploit-local: 6/12 (0.33)\n",
      "    exploit-remote: 1/8 (0.11)\n",
      "    exploit-connect: 3/16 (0.16)\n",
      "  exploit deflected to exploration: 4\n",
      "  ## Episode: 24/50 'static epsilon' ϵ=0.0100, γ=0.015, lr=0.01, replaymemory=10000,\n",
      "batch=512, target_update=4\n"
     ]
    },
    {
     "name": "stderr",
     "output_type": "stream",
     "text": [
      "Episode 24|Iteration 211|reward: 4483.0|last_reward_at:  211|Elapsed Time: 0:00:01||\n"
     ]
    },
    {
     "name": "stdout",
     "output_type": "stream",
     "text": [
      "  Episode 24 ended at t=211 \n",
      "  Breakdown [Reward/NoReward (Success rate)]\n",
      "    explore-local: 1/3 (0.25)\n",
      "    explore-remote: 0/9 (0.00)\n",
      "    explore-connect: 1/9 (0.10)\n",
      "    exploit-local: 5/47 (0.10)\n",
      "    exploit-remote: 2/52 (0.04)\n",
      "    exploit-connect: 3/79 (0.04)\n",
      "  exploit deflected to exploration: 20\n",
      "  ## Episode: 25/50 'static epsilon' ϵ=0.0100, γ=0.015, lr=0.01, replaymemory=10000,\n",
      "batch=512, target_update=4\n"
     ]
    },
    {
     "name": "stderr",
     "output_type": "stream",
     "text": [
      "Episode 25|Iteration 65|reward: 4483.0|last_reward_at:   65|Elapsed Time: 0:00:00||\n"
     ]
    },
    {
     "name": "stdout",
     "output_type": "stream",
     "text": [
      "  Episode 25 ended at t=65 \n",
      "  Breakdown [Reward/NoReward (Success rate)]\n",
      "    explore-local: 0/0 (NaN)\n",
      "    explore-remote: 0/3 (0.00)\n",
      "    explore-connect: 0/1 (0.00)\n",
      "    exploit-local: 7/18 (0.28)\n",
      "    exploit-remote: 2/15 (0.12)\n",
      "    exploit-connect: 3/16 (0.16)\n",
      "  exploit deflected to exploration: 4\n",
      "  ## Episode: 26/50 'static epsilon' ϵ=0.0100, γ=0.015, lr=0.01, replaymemory=10000,\n",
      "batch=512, target_update=4\n"
     ]
    },
    {
     "name": "stderr",
     "output_type": "stream",
     "text": [
      "Episode 26|Iteration 22|reward: 4477.0|last_reward_at:   22|Elapsed Time: 0:00:00||\n"
     ]
    },
    {
     "name": "stdout",
     "output_type": "stream",
     "text": [
      "  Episode 26 ended at t=22 \n",
      "  Breakdown [Reward/NoReward (Success rate)]\n",
      "    explore-local: 0/0 (NaN)\n",
      "    explore-remote: 1/0 (1.00)\n",
      "    explore-connect: 0/1 (0.00)\n",
      "    exploit-local: 5/4 (0.56)\n",
      "    exploit-remote: 2/2 (0.50)\n",
      "    exploit-connect: 3/4 (0.43)\n",
      "  exploit deflected to exploration: 2\n",
      "  ## Episode: 27/50 'static epsilon' ϵ=0.0100, γ=0.015, lr=0.01, replaymemory=10000,\n",
      "batch=512, target_update=4\n"
     ]
    },
    {
     "name": "stderr",
     "output_type": "stream",
     "text": [
      "Episode 27|Iteration 137|reward: 4483.0|last_reward_at:  137|Elapsed Time: 0:00:01||\n"
     ]
    },
    {
     "name": "stdout",
     "output_type": "stream",
     "text": [
      "  Episode 27 ended at t=137 \n",
      "  Breakdown [Reward/NoReward (Success rate)]\n",
      "    explore-local: 0/0 (NaN)\n",
      "    explore-remote: 0/4 (0.00)\n",
      "    explore-connect: 1/7 (0.12)\n",
      "    exploit-local: 6/26 (0.19)\n",
      "    exploit-remote: 2/27 (0.07)\n",
      "    exploit-connect: 3/61 (0.05)\n",
      "  exploit deflected to exploration: 10\n",
      "  ## Episode: 28/50 'static epsilon' ϵ=0.0100, γ=0.015, lr=0.01, replaymemory=10000,\n",
      "batch=512, target_update=4\n"
     ]
    },
    {
     "name": "stderr",
     "output_type": "stream",
     "text": [
      "Episode 28|Iteration 175|reward: 4483.0|last_reward_at:  175|Elapsed Time: 0:00:01||\n"
     ]
    },
    {
     "name": "stdout",
     "output_type": "stream",
     "text": [
      "  Episode 28 ended at t=175 \n",
      "  Breakdown [Reward/NoReward (Success rate)]\n",
      "    explore-local: 0/1 (0.00)\n",
      "    explore-remote: 0/9 (0.00)\n",
      "    explore-connect: 0/3 (0.00)\n",
      "    exploit-local: 6/27 (0.18)\n",
      "    exploit-remote: 3/40 (0.07)\n",
      "    exploit-connect: 3/83 (0.03)\n",
      "  exploit deflected to exploration: 12\n",
      "  ## Episode: 29/50 'static epsilon' ϵ=0.0100, γ=0.015, lr=0.01, replaymemory=10000,\n",
      "batch=512, target_update=4\n"
     ]
    },
    {
     "name": "stderr",
     "output_type": "stream",
     "text": [
      "Episode 29|Iteration 50|reward: 4483.0|last_reward_at:   50|Elapsed Time: 0:00:00||\n"
     ]
    },
    {
     "name": "stdout",
     "output_type": "stream",
     "text": [
      "  Episode 29 ended at t=50 \n",
      "  Breakdown [Reward/NoReward (Success rate)]\n",
      "    explore-local: 1/2 (0.33)\n",
      "    explore-remote: 1/3 (0.25)\n",
      "    explore-connect: 0/2 (0.00)\n",
      "    exploit-local: 5/5 (0.50)\n",
      "    exploit-remote: 2/21 (0.09)\n",
      "    exploit-connect: 3/5 (0.38)\n",
      "  exploit deflected to exploration: 9\n",
      "  ## Episode: 30/50 'static epsilon' ϵ=0.0100, γ=0.015, lr=0.01, replaymemory=10000,\n",
      "batch=512, target_update=4\n"
     ]
    },
    {
     "name": "stderr",
     "output_type": "stream",
     "text": [
      "Episode 30|Iteration 63|reward: 4483.0|last_reward_at:   63|Elapsed Time: 0:00:00||\n"
     ]
    },
    {
     "name": "stdout",
     "output_type": "stream",
     "text": [
      "  Episode 30 ended at t=63 \n",
      "  Breakdown [Reward/NoReward (Success rate)]\n",
      "    explore-local: 1/2 (0.33)\n",
      "    explore-remote: 0/3 (0.00)\n",
      "    explore-connect: 0/3 (0.00)\n",
      "    exploit-local: 6/6 (0.50)\n",
      "    exploit-remote: 2/24 (0.08)\n",
      "    exploit-connect: 3/13 (0.19)\n",
      "  exploit deflected to exploration: 8\n",
      "  ## Episode: 31/50 'static epsilon' ϵ=0.0100, γ=0.015, lr=0.01, replaymemory=10000,\n",
      "batch=512, target_update=4\n"
     ]
    },
    {
     "name": "stderr",
     "output_type": "stream",
     "text": [
      "Episode 31|Iteration 50|reward: 4477.0|last_reward_at:   50|Elapsed Time: 0:00:00||\n"
     ]
    },
    {
     "name": "stdout",
     "output_type": "stream",
     "text": [
      "  Episode 31 ended at t=50 \n",
      "  Breakdown [Reward/NoReward (Success rate)]\n",
      "    explore-local: 0/0 (NaN)\n",
      "    explore-remote: 0/1 (0.00)\n",
      "    explore-connect: 0/2 (0.00)\n",
      "    exploit-local: 5/8 (0.38)\n",
      "    exploit-remote: 3/9 (0.25)\n",
      "    exploit-connect: 3/19 (0.14)\n",
      "  exploit deflected to exploration: 2\n",
      "  ## Episode: 32/50 'static epsilon' ϵ=0.0100, γ=0.015, lr=0.01, replaymemory=10000,\n",
      "batch=512, target_update=4\n"
     ]
    },
    {
     "name": "stderr",
     "output_type": "stream",
     "text": [
      "Episode 32|Iteration 108|reward: 4483.0|last_reward_at:  108|Elapsed Time: 0:00:01||\n"
     ]
    },
    {
     "name": "stdout",
     "output_type": "stream",
     "text": [
      "  Episode 32 ended at t=108 \n",
      "  Breakdown [Reward/NoReward (Success rate)]\n",
      "    explore-local: 0/3 (0.00)\n",
      "    explore-remote: 1/2 (0.33)\n",
      "    explore-connect: 0/2 (0.00)\n",
      "    exploit-local: 6/29 (0.17)\n",
      "    exploit-remote: 2/31 (0.06)\n",
      "    exploit-connect: 3/29 (0.09)\n",
      "  exploit deflected to exploration: 7\n",
      "  ## Episode: 33/50 'static epsilon' ϵ=0.0100, γ=0.015, lr=0.01, replaymemory=10000,\n",
      "batch=512, target_update=4\n"
     ]
    },
    {
     "name": "stderr",
     "output_type": "stream",
     "text": [
      "Episode 33|Iteration 52|reward: 4483.0|last_reward_at:   52|Elapsed Time: 0:00:00||\n"
     ]
    },
    {
     "name": "stdout",
     "output_type": "stream",
     "text": [
      "  Episode 33 ended at t=52 \n",
      "  Breakdown [Reward/NoReward (Success rate)]\n",
      "    explore-local: 0/1 (0.00)\n",
      "    explore-remote: 0/2 (0.00)\n",
      "    explore-connect: 0/2 (0.00)\n",
      "    exploit-local: 6/2 (0.75)\n",
      "    exploit-remote: 2/17 (0.11)\n",
      "    exploit-connect: 4/16 (0.20)\n",
      "  exploit deflected to exploration: 5\n",
      "  ## Episode: 34/50 'static epsilon' ϵ=0.0100, γ=0.015, lr=0.01, replaymemory=10000,\n",
      "batch=512, target_update=4\n"
     ]
    },
    {
     "name": "stderr",
     "output_type": "stream",
     "text": [
      "Episode 34|Iteration 113|reward: 4483.0|last_reward_at:  113|Elapsed Time: 0:00:01||\n"
     ]
    },
    {
     "name": "stdout",
     "output_type": "stream",
     "text": [
      "  Episode 34 ended at t=113 \n",
      "  Breakdown [Reward/NoReward (Success rate)]\n",
      "    explore-local: 0/2 (0.00)\n",
      "    explore-remote: 1/13 (0.07)\n",
      "    explore-connect: 0/15 (0.00)\n",
      "    exploit-local: 6/7 (0.46)\n",
      "    exploit-remote: 2/42 (0.05)\n",
      "    exploit-connect: 3/22 (0.12)\n",
      "  exploit deflected to exploration: 30\n",
      "  ## Episode: 35/50 'static epsilon' ϵ=0.0100, γ=0.015, lr=0.01, replaymemory=10000,\n",
      "batch=512, target_update=4\n"
     ]
    },
    {
     "name": "stderr",
     "output_type": "stream",
     "text": [
      "Episode 35|Iteration 68|reward: 4468.0|last_reward_at:   68|Elapsed Time: 0:00:00||\n"
     ]
    },
    {
     "name": "stdout",
     "output_type": "stream",
     "text": [
      "  Episode 35 ended at t=68 \n",
      "  Breakdown [Reward/NoReward (Success rate)]\n",
      "    explore-local: 1/1 (0.50)\n",
      "    explore-remote: 1/5 (0.17)\n",
      "    explore-connect: 0/2 (0.00)\n",
      "    exploit-local: 4/7 (0.36)\n",
      "    exploit-remote: 1/25 (0.04)\n",
      "    exploit-connect: 3/18 (0.14)\n",
      "  exploit deflected to exploration: 9\n",
      "  ## Episode: 36/50 'static epsilon' ϵ=0.0100, γ=0.015, lr=0.01, replaymemory=10000,\n",
      "batch=512, target_update=4\n"
     ]
    },
    {
     "name": "stderr",
     "output_type": "stream",
     "text": [
      "Episode 36|Iteration 71|reward: 4483.0|last_reward_at:   71|Elapsed Time: 0:00:00||\n"
     ]
    },
    {
     "name": "stdout",
     "output_type": "stream",
     "text": [
      "  Episode 36 ended at t=71 \n",
      "  Breakdown [Reward/NoReward (Success rate)]\n",
      "    explore-local: 0/2 (0.00)\n",
      "    explore-remote: 1/5 (0.17)\n",
      "    explore-connect: 0/8 (0.00)\n",
      "    exploit-local: 6/4 (0.60)\n",
      "    exploit-remote: 2/30 (0.06)\n",
      "    exploit-connect: 3/10 (0.23)\n",
      "  exploit deflected to exploration: 16\n",
      "  ## Episode: 37/50 'static epsilon' ϵ=0.0100, γ=0.015, lr=0.01, replaymemory=10000,\n",
      "batch=512, target_update=4\n"
     ]
    },
    {
     "name": "stderr",
     "output_type": "stream",
     "text": [
      "Episode 37|Iteration 73|reward: 4483.0|last_reward_at:   73|Elapsed Time: 0:00:00||\n"
     ]
    },
    {
     "name": "stdout",
     "output_type": "stream",
     "text": [
      "  Episode 37 ended at t=73 \n",
      "  Breakdown [Reward/NoReward (Success rate)]\n",
      "    explore-local: 0/4 (0.00)\n",
      "    explore-remote: 1/3 (0.25)\n",
      "    explore-connect: 0/5 (0.00)\n",
      "    exploit-local: 6/11 (0.35)\n",
      "    exploit-remote: 2/32 (0.06)\n",
      "    exploit-connect: 3/6 (0.33)\n",
      "  exploit deflected to exploration: 12\n",
      "  ## Episode: 38/50 'static epsilon' ϵ=0.0100, γ=0.015, lr=0.01, replaymemory=10000,\n",
      "batch=512, target_update=4\n"
     ]
    },
    {
     "name": "stderr",
     "output_type": "stream",
     "text": [
      "Episode 38|Iteration 107|reward: 4483.0|last_reward_at:  107|Elapsed Time: 0:00:00||\n"
     ]
    },
    {
     "name": "stdout",
     "output_type": "stream",
     "text": [
      "  Episode 38 ended at t=107 \n",
      "  Breakdown [Reward/NoReward (Success rate)]\n",
      "    explore-local: 1/1 (0.50)\n",
      "    explore-remote: 0/3 (0.00)\n",
      "    explore-connect: 0/6 (0.00)\n",
      "    exploit-local: 6/21 (0.22)\n",
      "    exploit-remote: 2/41 (0.05)\n",
      "    exploit-connect: 3/23 (0.12)\n",
      "  exploit deflected to exploration: 10\n",
      "  ## Episode: 39/50 'static epsilon' ϵ=0.0100, γ=0.015, lr=0.01, replaymemory=10000,\n",
      "batch=512, target_update=4\n"
     ]
    },
    {
     "name": "stderr",
     "output_type": "stream",
     "text": [
      "Episode 39|Iteration 46|reward: 4483.0|last_reward_at:   46|Elapsed Time: 0:00:00||\n"
     ]
    },
    {
     "name": "stdout",
     "output_type": "stream",
     "text": [
      "  Episode 39 ended at t=46 \n",
      "  Breakdown [Reward/NoReward (Success rate)]\n",
      "    explore-local: 0/0 (NaN)\n",
      "    explore-remote: 1/1 (0.50)\n",
      "    explore-connect: 0/5 (0.00)\n",
      "    exploit-local: 6/9 (0.40)\n",
      "    exploit-remote: 1/17 (0.06)\n",
      "    exploit-connect: 4/2 (0.67)\n",
      "  exploit deflected to exploration: 7\n",
      "  ## Episode: 40/50 'static epsilon' ϵ=0.0100, γ=0.015, lr=0.01, replaymemory=10000,\n",
      "batch=512, target_update=4\n"
     ]
    },
    {
     "name": "stderr",
     "output_type": "stream",
     "text": [
      "Episode 40|Iteration 43|reward: 4483.0|last_reward_at:   43|Elapsed Time: 0:00:00||\n"
     ]
    },
    {
     "name": "stdout",
     "output_type": "stream",
     "text": [
      "  Episode 40 ended at t=43 \n",
      "  Breakdown [Reward/NoReward (Success rate)]\n",
      "    explore-local: 0/0 (NaN)\n",
      "    explore-remote: 1/2 (0.33)\n",
      "    explore-connect: 0/0 (NaN)\n",
      "    exploit-local: 6/2 (0.75)\n",
      "    exploit-remote: 2/20 (0.09)\n",
      "    exploit-connect: 3/7 (0.30)\n",
      "  exploit deflected to exploration: 3\n",
      "  ## Episode: 41/50 'static epsilon' ϵ=0.0100, γ=0.015, lr=0.01, replaymemory=10000,\n",
      "batch=512, target_update=4\n"
     ]
    },
    {
     "name": "stderr",
     "output_type": "stream",
     "text": [
      "Episode 41|Iteration 32|reward: 4474.0|last_reward_at:   32|Elapsed Time: 0:00:00||\n"
     ]
    },
    {
     "name": "stdout",
     "output_type": "stream",
     "text": [
      "  Episode 41 ended at t=32 \n",
      "  Breakdown [Reward/NoReward (Success rate)]\n",
      "    explore-local: 0/1 (0.00)\n",
      "    explore-remote: 1/1 (0.50)\n",
      "    explore-connect: 0/2 (0.00)\n",
      "    exploit-local: 6/1 (0.86)\n",
      "    exploit-remote: 1/11 (0.08)\n",
      "    exploit-connect: 3/5 (0.38)\n",
      "  exploit deflected to exploration: 5\n",
      "  ## Episode: 42/50 'static epsilon' ϵ=0.0100, γ=0.015, lr=0.01, replaymemory=10000,\n",
      "batch=512, target_update=4\n"
     ]
    },
    {
     "name": "stderr",
     "output_type": "stream",
     "text": [
      "Episode 42|Iteration 41|reward: 4483.0|last_reward_at:   41|Elapsed Time: 0:00:00||\n"
     ]
    },
    {
     "name": "stdout",
     "output_type": "stream",
     "text": [
      "  Episode 42 ended at t=41 \n",
      "  Breakdown [Reward/NoReward (Success rate)]\n",
      "    explore-local: 1/0 (1.00)\n",
      "    explore-remote: 2/0 (1.00)\n",
      "    explore-connect: 0/2 (0.00)\n",
      "    exploit-local: 5/7 (0.42)\n",
      "    exploit-remote: 1/16 (0.06)\n",
      "    exploit-connect: 3/4 (0.43)\n",
      "  exploit deflected to exploration: 5\n",
      "  ## Episode: 43/50 'static epsilon' ϵ=0.0100, γ=0.015, lr=0.01, replaymemory=10000,\n",
      "batch=512, target_update=4\n"
     ]
    },
    {
     "name": "stderr",
     "output_type": "stream",
     "text": [
      "Episode 43|Iteration 80|reward: 4483.0|last_reward_at:   80|Elapsed Time: 0:00:00||\n"
     ]
    },
    {
     "name": "stdout",
     "output_type": "stream",
     "text": [
      "  Episode 43 ended at t=80 \n",
      "  Breakdown [Reward/NoReward (Success rate)]\n",
      "    explore-local: 0/0 (NaN)\n",
      "    explore-remote: 1/0 (1.00)\n",
      "    explore-connect: 0/2 (0.00)\n",
      "    exploit-local: 7/18 (0.28)\n",
      "    exploit-remote: 1/23 (0.04)\n",
      "    exploit-connect: 3/25 (0.11)\n",
      "  exploit deflected to exploration: 2\n",
      "  ## Episode: 44/50 'static epsilon' ϵ=0.0100, γ=0.015, lr=0.01, replaymemory=10000,\n",
      "batch=512, target_update=4\n"
     ]
    },
    {
     "name": "stderr",
     "output_type": "stream",
     "text": [
      "Episode 44|Iteration 83|reward: 4483.0|last_reward_at:   83|Elapsed Time: 0:00:00||\n"
     ]
    },
    {
     "name": "stdout",
     "output_type": "stream",
     "text": [
      "  Episode 44 ended at t=83 \n",
      "  Breakdown [Reward/NoReward (Success rate)]\n",
      "    explore-local: 0/4 (0.00)\n",
      "    explore-remote: 2/4 (0.33)\n",
      "    explore-connect: 0/2 (0.00)\n",
      "    exploit-local: 6/9 (0.40)\n",
      "    exploit-remote: 1/39 (0.03)\n",
      "    exploit-connect: 3/13 (0.19)\n",
      "  exploit deflected to exploration: 11\n",
      "  ## Episode: 45/50 'static epsilon' ϵ=0.0100, γ=0.015, lr=0.01, replaymemory=10000,\n",
      "batch=512, target_update=4\n"
     ]
    },
    {
     "name": "stderr",
     "output_type": "stream",
     "text": [
      "Episode 45|Iteration 62|reward: 4483.0|last_reward_at:   62|Elapsed Time: 0:00:00||\n"
     ]
    },
    {
     "name": "stdout",
     "output_type": "stream",
     "text": [
      "  Episode 45 ended at t=62 \n",
      "  Breakdown [Reward/NoReward (Success rate)]\n",
      "    explore-local: 0/3 (0.00)\n",
      "    explore-remote: 2/5 (0.29)\n",
      "    explore-connect: 0/4 (0.00)\n",
      "    exploit-local: 6/9 (0.40)\n",
      "    exploit-remote: 0/28 (0.00)\n",
      "    exploit-connect: 4/1 (0.80)\n",
      "  exploit deflected to exploration: 14\n",
      "  ## Episode: 46/50 'static epsilon' ϵ=0.0100, γ=0.015, lr=0.01, replaymemory=10000,\n",
      "batch=512, target_update=4\n"
     ]
    },
    {
     "name": "stderr",
     "output_type": "stream",
     "text": [
      "Episode 46|Iteration 99|reward: 4483.0|last_reward_at:   99|Elapsed Time: 0:00:00||\n"
     ]
    },
    {
     "name": "stdout",
     "output_type": "stream",
     "text": [
      "  Episode 46 ended at t=99 \n",
      "  Breakdown [Reward/NoReward (Success rate)]\n",
      "    explore-local: 0/0 (NaN)\n",
      "    explore-remote: 1/2 (0.33)\n",
      "    explore-connect: 0/3 (0.00)\n",
      "    exploit-local: 6/42 (0.12)\n",
      "    exploit-remote: 2/25 (0.07)\n",
      "    exploit-connect: 3/15 (0.17)\n",
      "  exploit deflected to exploration: 6\n",
      "  ## Episode: 47/50 'static epsilon' ϵ=0.0100, γ=0.015, lr=0.01, replaymemory=10000,\n",
      "batch=512, target_update=4\n"
     ]
    },
    {
     "name": "stderr",
     "output_type": "stream",
     "text": [
      "Episode 47|Iteration 104|reward: 4483.0|last_reward_at:  104|Elapsed Time: 0:00:01||\n"
     ]
    },
    {
     "name": "stdout",
     "output_type": "stream",
     "text": [
      "  Episode 47 ended at t=104 \n",
      "  Breakdown [Reward/NoReward (Success rate)]\n",
      "    explore-local: 0/3 (0.00)\n",
      "    explore-remote: 2/4 (0.33)\n",
      "    explore-connect: 0/5 (0.00)\n",
      "    exploit-local: 6/19 (0.24)\n",
      "    exploit-remote: 1/43 (0.02)\n",
      "    exploit-connect: 3/18 (0.14)\n",
      "  exploit deflected to exploration: 14\n",
      "  ## Episode: 48/50 'static epsilon' ϵ=0.0100, γ=0.015, lr=0.01, replaymemory=10000,\n",
      "batch=512, target_update=4\n"
     ]
    },
    {
     "name": "stderr",
     "output_type": "stream",
     "text": [
      "Episode 48|Iteration 48|reward: 4483.0|last_reward_at:   48|Elapsed Time: 0:00:00||\n"
     ]
    },
    {
     "name": "stdout",
     "output_type": "stream",
     "text": [
      "  Episode 48 ended at t=48 \n",
      "  Breakdown [Reward/NoReward (Success rate)]\n",
      "    explore-local: 1/0 (1.00)\n",
      "    explore-remote: 0/2 (0.00)\n",
      "    explore-connect: 0/2 (0.00)\n",
      "    exploit-local: 5/7 (0.42)\n",
      "    exploit-remote: 2/24 (0.08)\n",
      "    exploit-connect: 4/1 (0.80)\n",
      "  exploit deflected to exploration: 5\n",
      "  ## Episode: 49/50 'static epsilon' ϵ=0.0100, γ=0.015, lr=0.01, replaymemory=10000,\n",
      "batch=512, target_update=4\n"
     ]
    },
    {
     "name": "stderr",
     "output_type": "stream",
     "text": [
      "Episode 49|Iteration 116|reward: 4483.0|last_reward_at:  116|Elapsed Time: 0:00:01||\n"
     ]
    },
    {
     "name": "stdout",
     "output_type": "stream",
     "text": [
      "  Episode 49 ended at t=116 \n",
      "  Breakdown [Reward/NoReward (Success rate)]\n",
      "    explore-local: 0/1 (0.00)\n",
      "    explore-remote: 0/7 (0.00)\n",
      "    explore-connect: 0/11 (0.00)\n",
      "    exploit-local: 6/18 (0.25)\n",
      "    exploit-remote: 2/58 (0.03)\n",
      "    exploit-connect: 4/9 (0.31)\n",
      "  exploit deflected to exploration: 15\n",
      "  ## Episode: 50/50 'static epsilon' ϵ=0.0100, γ=0.015, lr=0.01, replaymemory=10000,\n",
      "batch=512, target_update=4\n"
     ]
    },
    {
     "name": "stderr",
     "output_type": "stream",
     "text": [
      "Episode 50|Iteration 80|reward: 4483.0|last_reward_at:   80|Elapsed Time: 0:00:00||\n"
     ]
    },
    {
     "name": "stdout",
     "output_type": "stream",
     "text": [
      "  Episode 50 ended at t=80 \n",
      "  Breakdown [Reward/NoReward (Success rate)]\n",
      "    explore-local: 2/2 (0.50)\n",
      "    explore-remote: 0/6 (0.00)\n",
      "    explore-connect: 0/4 (0.00)\n",
      "    exploit-local: 5/15 (0.25)\n",
      "    exploit-remote: 2/22 (0.08)\n",
      "    exploit-connect: 3/19 (0.14)\n",
      "  exploit deflected to exploration: 13\n",
      "simulation ended\n"
     ]
    }
   ],
   "source": [
    "dql_no_ep = learner.epsilon_greedy_search(\n",
    "    cyberbattle_gym_env=gym_env,\n",
    "    environment_properties=ep,\n",
    "    learner=dqla.DeepQLearnerPolicy(\n",
    "        ep=ep,\n",
    "        gamma=0.015,\n",
    "        replay_memory_size=10000,\n",
    "        target_update=4,\n",
    "        batch_size=512,\n",
    "        # torch default learning rate is 1e-2\n",
    "        # a large value helps converge in less episodes\n",
    "        learning_rate=0.01\n",
    "    ),\n",
    "    episode_count=training_episode_count,\n",
    "    iteration_count=iteration_count,\n",
    "    epsilon=0,\n",
    "    epsilon_exponential_decay=10,\n",
    "    epsilon_minimum=0,\n",
    "    verbosity=Verbosity.Quiet,\n",
    "    render=False,\n",
    "    plot_episodes_length=False,\n",
    "    title=\"static epsilon\"\n",
    ")"
   ]
  },
  {
   "cell_type": "code",
   "execution_count": 5,
   "id": "3f0a3972-d6c3-4d75-9402-8ac621039593",
   "metadata": {
    "collapsed": true,
    "jupyter": {
     "outputs_hidden": true
    },
    "tags": []
   },
   "outputs": [
    {
     "name": "stdout",
     "output_type": "stream",
     "text": [
      "###### exponential epsilon\n",
      "Learning with: episode_count=50,iteration_count=500,ϵ=0.9,ϵ_min=0.01, ϵ_expdecay=2000,γ=0.015, lr=0.01, replaymemory=10000,\n",
      "batch=512, target_update=4\n",
      "  ## Episode: 1/50 'exponential epsilon' ϵ=0.9000, γ=0.015, lr=0.01, replaymemory=10000,\n",
      "batch=512, target_update=4\n"
     ]
    },
    {
     "name": "stderr",
     "output_type": "stream",
     "text": [
      "Episode 1|Iteration 432|reward: 4483.0|last_reward_at:  432|Elapsed Time: 0:00:00||\n"
     ]
    },
    {
     "name": "stdout",
     "output_type": "stream",
     "text": [
      "  Episode 1 ended at t=432 \n",
      "  Breakdown [Reward/NoReward (Success rate)]\n",
      "    explore-local: 6/45 (0.12)\n",
      "    explore-remote: 2/141 (0.01)\n",
      "    explore-connect: 3/151 (0.02)\n",
      "    exploit-local: 0/0 (NaN)\n",
      "    exploit-remote: 0/0 (NaN)\n",
      "    exploit-connect: 1/83 (0.01)\n",
      "  exploit deflected to exploration: 2\n",
      "  ## Episode: 2/50 'exponential epsilon' ϵ=0.7275, γ=0.015, lr=0.01, replaymemory=10000,\n",
      "batch=512, target_update=4\n"
     ]
    },
    {
     "name": "stderr",
     "output_type": "stream",
     "text": [
      "Episode 2|Iteration 500|reward:  483.0|last_reward_at:  497|Elapsed Time: 0:00:03||\n"
     ]
    },
    {
     "name": "stdout",
     "output_type": "stream",
     "text": [
      "  Episode 2 stopped at t=500 \n",
      "  Breakdown [Reward/NoReward (Success rate)]\n",
      "    explore-local: 5/38 (0.12)\n",
      "    explore-remote: 2/135 (0.01)\n",
      "    explore-connect: 0/150 (0.00)\n",
      "    exploit-local: 1/120 (0.01)\n",
      "    exploit-remote: 0/5 (0.00)\n",
      "    exploit-connect: 2/42 (0.05)\n",
      "  exploit deflected to exploration: 27\n",
      "  ## Episode: 3/50 'exponential epsilon' ϵ=0.5688, γ=0.015, lr=0.01, replaymemory=10000,\n",
      "batch=512, target_update=4\n"
     ]
    },
    {
     "name": "stderr",
     "output_type": "stream",
     "text": [
      "Episode 3|Iteration 250|reward: 4483.0|last_reward_at:  250|Elapsed Time: 0:00:01||\n"
     ]
    },
    {
     "name": "stdout",
     "output_type": "stream",
     "text": [
      "  Episode 3 ended at t=250 \n",
      "  Breakdown [Reward/NoReward (Success rate)]\n",
      "    explore-local: 5/21 (0.19)\n",
      "    explore-remote: 2/76 (0.03)\n",
      "    explore-connect: 0/57 (0.00)\n",
      "    exploit-local: 1/70 (0.01)\n",
      "    exploit-remote: 1/4 (0.20)\n",
      "    exploit-connect: 3/10 (0.23)\n",
      "  exploit deflected to exploration: 23\n",
      "  ## Episode: 4/50 'exponential epsilon' ϵ=0.5031, γ=0.015, lr=0.01, replaymemory=10000,\n",
      "batch=512, target_update=4\n"
     ]
    },
    {
     "name": "stderr",
     "output_type": "stream",
     "text": [
      "Episode 4|Iteration 429|reward: 4483.0|last_reward_at:  429|Elapsed Time: 0:00:02||\n"
     ]
    },
    {
     "name": "stdout",
     "output_type": "stream",
     "text": [
      "  Episode 4 ended at t=429 \n",
      "  Breakdown [Reward/NoReward (Success rate)]\n",
      "    explore-local: 4/43 (0.09)\n",
      "    explore-remote: 2/88 (0.02)\n",
      "    explore-connect: 2/83 (0.02)\n",
      "    exploit-local: 3/103 (0.03)\n",
      "    exploit-remote: 0/48 (0.00)\n",
      "    exploit-connect: 1/52 (0.02)\n",
      "  exploit deflected to exploration: 31\n",
      "  ## Episode: 5/50 'exponential epsilon' ϵ=0.4079, γ=0.015, lr=0.01, replaymemory=10000,\n",
      "batch=512, target_update=4\n"
     ]
    },
    {
     "name": "stderr",
     "output_type": "stream",
     "text": [
      "Episode 5|Iteration 75|reward: 4483.0|last_reward_at:   75|Elapsed Time: 0:00:00||\n"
     ]
    },
    {
     "name": "stdout",
     "output_type": "stream",
     "text": [
      "  Episode 5 ended at t=75 \n",
      "  Breakdown [Reward/NoReward (Success rate)]\n",
      "    explore-local: 3/8 (0.27)\n",
      "    explore-remote: 2/14 (0.12)\n",
      "    explore-connect: 1/8 (0.11)\n",
      "    exploit-local: 3/18 (0.14)\n",
      "    exploit-remote: 0/4 (0.00)\n",
      "    exploit-connect: 3/11 (0.21)\n",
      "  exploit deflected to exploration: 5\n",
      "  ## Episode: 6/50 'exponential epsilon' ϵ=0.3933, γ=0.015, lr=0.01, replaymemory=10000,\n",
      "batch=512, target_update=4\n"
     ]
    },
    {
     "name": "stderr",
     "output_type": "stream",
     "text": [
      "Episode 6|Iteration 150|reward: 4483.0|last_reward_at:  150|Elapsed Time: 0:00:01||\n"
     ]
    },
    {
     "name": "stdout",
     "output_type": "stream",
     "text": [
      "  Episode 6 ended at t=150 \n",
      "  Breakdown [Reward/NoReward (Success rate)]\n",
      "    explore-local: 1/10 (0.09)\n",
      "    explore-remote: 3/27 (0.10)\n",
      "    explore-connect: 0/22 (0.00)\n",
      "    exploit-local: 5/49 (0.09)\n",
      "    exploit-remote: 0/5 (0.00)\n",
      "    exploit-connect: 3/25 (0.11)\n",
      "  exploit deflected to exploration: 7\n",
      "  ## Episode: 7/50 'exponential epsilon' ϵ=0.3656, γ=0.015, lr=0.01, replaymemory=10000,\n",
      "batch=512, target_update=4\n"
     ]
    },
    {
     "name": "stderr",
     "output_type": "stream",
     "text": [
      "Episode 7|Iteration 74|reward: 4477.0|last_reward_at:   74|Elapsed Time: 0:00:00||\n"
     ]
    },
    {
     "name": "stdout",
     "output_type": "stream",
     "text": [
      "  Episode 7 ended at t=74 \n",
      "  Breakdown [Reward/NoReward (Success rate)]\n",
      "    explore-local: 2/7 (0.22)\n",
      "    explore-remote: 1/11 (0.08)\n",
      "    explore-connect: 1/10 (0.09)\n",
      "    exploit-local: 3/12 (0.20)\n",
      "    exploit-remote: 1/3 (0.25)\n",
      "    exploit-connect: 3/20 (0.13)\n",
      "  exploit deflected to exploration: 1\n",
      "  ## Episode: 8/50 'exponential epsilon' ϵ=0.3527, γ=0.015, lr=0.01, replaymemory=10000,\n",
      "batch=512, target_update=4\n"
     ]
    },
    {
     "name": "stderr",
     "output_type": "stream",
     "text": [
      "Episode 8|Iteration 88|reward: 4483.0|last_reward_at:   88|Elapsed Time: 0:00:00||\n"
     ]
    },
    {
     "name": "stdout",
     "output_type": "stream",
     "text": [
      "  Episode 8 ended at t=88 \n",
      "  Breakdown [Reward/NoReward (Success rate)]\n",
      "    explore-local: 2/9 (0.18)\n",
      "    explore-remote: 1/15 (0.06)\n",
      "    explore-connect: 1/9 (0.10)\n",
      "    exploit-local: 4/19 (0.17)\n",
      "    exploit-remote: 1/8 (0.11)\n",
      "    exploit-connect: 3/16 (0.16)\n",
      "  exploit deflected to exploration: 2\n",
      "  ## Episode: 9/50 'exponential epsilon' ϵ=0.3379, γ=0.015, lr=0.01, replaymemory=10000,\n",
      "batch=512, target_update=4\n"
     ]
    },
    {
     "name": "stderr",
     "output_type": "stream",
     "text": [
      "Episode 9|Iteration 109|reward: 4477.0|last_reward_at:  109|Elapsed Time: 0:00:01||\n"
     ]
    },
    {
     "name": "stdout",
     "output_type": "stream",
     "text": [
      "  Episode 9 ended at t=109 \n",
      "  Breakdown [Reward/NoReward (Success rate)]\n",
      "    explore-local: 2/5 (0.29)\n",
      "    explore-remote: 2/21 (0.09)\n",
      "    explore-connect: 0/24 (0.00)\n",
      "    exploit-local: 3/24 (0.11)\n",
      "    exploit-remote: 1/14 (0.07)\n",
      "    exploit-connect: 3/10 (0.23)\n",
      "  exploit deflected to exploration: 14\n",
      "  ## Episode: 10/50 'exponential epsilon' ϵ=0.3205, γ=0.015, lr=0.01, replaymemory=10000,\n",
      "batch=512, target_update=4\n"
     ]
    },
    {
     "name": "stderr",
     "output_type": "stream",
     "text": [
      "Episode 10|Iteration 66|reward: 4468.0|last_reward_at:   66|Elapsed Time: 0:00:00||\n"
     ]
    },
    {
     "name": "stdout",
     "output_type": "stream",
     "text": [
      "  Episode 10 ended at t=66 \n",
      "  Breakdown [Reward/NoReward (Success rate)]\n",
      "    explore-local: 1/2 (0.33)\n",
      "    explore-remote: 0/10 (0.00)\n",
      "    explore-connect: 0/21 (0.00)\n",
      "    exploit-local: 4/1 (0.80)\n",
      "    exploit-remote: 1/6 (0.14)\n",
      "    exploit-connect: 4/16 (0.20)\n",
      "  exploit deflected to exploration: 9\n",
      "  ## Episode: 11/50 'exponential epsilon' ϵ=0.3104, γ=0.015, lr=0.01, replaymemory=10000,\n",
      "batch=512, target_update=4\n"
     ]
    },
    {
     "name": "stderr",
     "output_type": "stream",
     "text": [
      "Episode 11|Iteration 37|reward: 4483.0|last_reward_at:   37|Elapsed Time: 0:00:00||\n"
     ]
    },
    {
     "name": "stdout",
     "output_type": "stream",
     "text": [
      "  Episode 11 ended at t=37 \n",
      "  Breakdown [Reward/NoReward (Success rate)]\n",
      "    explore-local: 2/0 (1.00)\n",
      "    explore-remote: 1/4 (0.20)\n",
      "    explore-connect: 0/7 (0.00)\n",
      "    exploit-local: 5/2 (0.71)\n",
      "    exploit-remote: 1/7 (0.12)\n",
      "    exploit-connect: 3/5 (0.38)\n",
      "  exploit deflected to exploration: 6\n",
      "  ## Episode: 12/50 'exponential epsilon' ϵ=0.3049, γ=0.015, lr=0.01, replaymemory=10000,\n",
      "batch=512, target_update=4\n"
     ]
    },
    {
     "name": "stderr",
     "output_type": "stream",
     "text": [
      "Episode 12|Iteration 95|reward: 4483.0|last_reward_at:   95|Elapsed Time: 0:00:00||\n"
     ]
    },
    {
     "name": "stdout",
     "output_type": "stream",
     "text": [
      "  Episode 12 ended at t=95 \n",
      "  Breakdown [Reward/NoReward (Success rate)]\n",
      "    explore-local: 2/2 (0.50)\n",
      "    explore-remote: 2/15 (0.12)\n",
      "    explore-connect: 0/14 (0.00)\n",
      "    exploit-local: 4/16 (0.20)\n",
      "    exploit-remote: 1/9 (0.10)\n",
      "    exploit-connect: 3/27 (0.10)\n",
      "  exploit deflected to exploration: 4\n",
      "  ## Episode: 13/50 'exponential epsilon' ϵ=0.2912, γ=0.015, lr=0.01, replaymemory=10000,\n",
      "batch=512, target_update=4\n"
     ]
    },
    {
     "name": "stderr",
     "output_type": "stream",
     "text": [
      "Episode 13|Iteration 35|reward: 4468.0|last_reward_at:   35|Elapsed Time: 0:00:00||\n"
     ]
    },
    {
     "name": "stdout",
     "output_type": "stream",
     "text": [
      "  Episode 13 ended at t=35 \n",
      "  Breakdown [Reward/NoReward (Success rate)]\n",
      "    explore-local: 1/2 (0.33)\n",
      "    explore-remote: 1/6 (0.14)\n",
      "    explore-connect: 0/5 (0.00)\n",
      "    exploit-local: 4/6 (0.40)\n",
      "    exploit-remote: 1/2 (0.33)\n",
      "    exploit-connect: 3/4 (0.43)\n",
      "  exploit deflected to exploration: 2\n",
      "  ## Episode: 14/50 'exponential epsilon' ϵ=0.2864, γ=0.015, lr=0.01, replaymemory=10000,\n",
      "batch=512, target_update=4\n"
     ]
    },
    {
     "name": "stderr",
     "output_type": "stream",
     "text": [
      "Episode 14|Iteration 153|reward: 4483.0|last_reward_at:  153|Elapsed Time: 0:00:01||\n"
     ]
    },
    {
     "name": "stdout",
     "output_type": "stream",
     "text": [
      "  Episode 14 ended at t=153 \n",
      "  Breakdown [Reward/NoReward (Success rate)]\n",
      "    explore-local: 1/14 (0.07)\n",
      "    explore-remote: 1/20 (0.05)\n",
      "    explore-connect: 0/19 (0.00)\n",
      "    exploit-local: 5/17 (0.23)\n",
      "    exploit-remote: 2/47 (0.04)\n",
      "    exploit-connect: 3/24 (0.11)\n",
      "  exploit deflected to exploration: 3\n",
      "  ## Episode: 15/50 'exponential epsilon' ϵ=0.2660, γ=0.015, lr=0.01, replaymemory=10000,\n",
      "batch=512, target_update=4\n"
     ]
    },
    {
     "name": "stderr",
     "output_type": "stream",
     "text": [
      "Episode 15|Iteration 77|reward: 4477.0|last_reward_at:   77|Elapsed Time: 0:00:00||\n"
     ]
    },
    {
     "name": "stdout",
     "output_type": "stream",
     "text": [
      "  Episode 15 ended at t=77 \n",
      "  Breakdown [Reward/NoReward (Success rate)]\n",
      "    explore-local: 1/4 (0.20)\n",
      "    explore-remote: 2/8 (0.20)\n",
      "    explore-connect: 0/8 (0.00)\n",
      "    exploit-local: 5/8 (0.38)\n",
      "    exploit-remote: 0/28 (0.00)\n",
      "    exploit-connect: 3/10 (0.23)\n",
      "  exploit deflected to exploration: 3\n",
      "  ## Episode: 16/50 'exponential epsilon' ϵ=0.2563, γ=0.015, lr=0.01, replaymemory=10000,\n",
      "batch=512, target_update=4\n"
     ]
    },
    {
     "name": "stderr",
     "output_type": "stream",
     "text": [
      "Episode 16|Iteration 50|reward: 4477.0|last_reward_at:   50|Elapsed Time: 0:00:00||\n"
     ]
    },
    {
     "name": "stdout",
     "output_type": "stream",
     "text": [
      "  Episode 16 ended at t=50 \n",
      "  Breakdown [Reward/NoReward (Success rate)]\n",
      "    explore-local: 1/2 (0.33)\n",
      "    explore-remote: 0/11 (0.00)\n",
      "    explore-connect: 0/4 (0.00)\n",
      "    exploit-local: 4/5 (0.44)\n",
      "    exploit-remote: 2/17 (0.11)\n",
      "    exploit-connect: 4/0 (1.00)\n",
      "  exploit deflected to exploration: 2\n",
      "  ## Episode: 17/50 'exponential epsilon' ϵ=0.2503, γ=0.015, lr=0.01, replaymemory=10000,\n",
      "batch=512, target_update=4\n"
     ]
    },
    {
     "name": "stderr",
     "output_type": "stream",
     "text": [
      "Episode 17|Iteration 77|reward: 4483.0|last_reward_at:   77|Elapsed Time: 0:00:00||\n"
     ]
    },
    {
     "name": "stdout",
     "output_type": "stream",
     "text": [
      "  Episode 17 ended at t=77 \n",
      "  Breakdown [Reward/NoReward (Success rate)]\n",
      "    explore-local: 0/5 (0.00)\n",
      "    explore-remote: 3/9 (0.25)\n",
      "    explore-connect: 0/14 (0.00)\n",
      "    exploit-local: 6/13 (0.32)\n",
      "    exploit-remote: 0/13 (0.00)\n",
      "    exploit-connect: 3/11 (0.21)\n",
      "  exploit deflected to exploration: 8\n",
      "  ## Episode: 18/50 'exponential epsilon' ϵ=0.2412, γ=0.015, lr=0.01, replaymemory=10000,\n",
      "batch=512, target_update=4\n"
     ]
    },
    {
     "name": "stderr",
     "output_type": "stream",
     "text": [
      "Episode 18|Iteration 51|reward: 4483.0|last_reward_at:   51|Elapsed Time: 0:00:00||\n"
     ]
    },
    {
     "name": "stdout",
     "output_type": "stream",
     "text": [
      "  Episode 18 ended at t=51 \n",
      "  Breakdown [Reward/NoReward (Success rate)]\n",
      "    explore-local: 1/1 (0.50)\n",
      "    explore-remote: 0/13 (0.00)\n",
      "    explore-connect: 0/10 (0.00)\n",
      "    exploit-local: 5/5 (0.50)\n",
      "    exploit-remote: 2/9 (0.18)\n",
      "    exploit-connect: 4/1 (0.80)\n",
      "  exploit deflected to exploration: 7\n",
      "  ## Episode: 19/50 'exponential epsilon' ϵ=0.2354, γ=0.015, lr=0.01, replaymemory=10000,\n",
      "batch=512, target_update=4\n"
     ]
    },
    {
     "name": "stderr",
     "output_type": "stream",
     "text": [
      "Episode 19|Iteration 111|reward: 4483.0|last_reward_at:  111|Elapsed Time: 0:00:01||\n"
     ]
    },
    {
     "name": "stdout",
     "output_type": "stream",
     "text": [
      "  Episode 19 ended at t=111 \n",
      "  Breakdown [Reward/NoReward (Success rate)]\n",
      "    explore-local: 2/9 (0.18)\n",
      "    explore-remote: 2/20 (0.09)\n",
      "    explore-connect: 0/25 (0.00)\n",
      "    exploit-local: 4/13 (0.24)\n",
      "    exploit-remote: 0/30 (0.00)\n",
      "    exploit-connect: 4/2 (0.67)\n",
      "  exploit deflected to exploration: 34\n",
      "  ## Episode: 20/50 'exponential epsilon' ϵ=0.2232, γ=0.015, lr=0.01, replaymemory=10000,\n",
      "batch=512, target_update=4\n"
     ]
    },
    {
     "name": "stderr",
     "output_type": "stream",
     "text": [
      "Episode 20|Iteration 500|reward:   59.0|last_reward_at:   19|Elapsed Time: 0:00:03||\n"
     ]
    },
    {
     "name": "stdout",
     "output_type": "stream",
     "text": [
      "  Episode 20 stopped at t=500 \n",
      "  Breakdown [Reward/NoReward (Success rate)]\n",
      "    explore-local: 0/19 (0.00)\n",
      "    explore-remote: 2/51 (0.04)\n",
      "    explore-connect: 0/49 (0.00)\n",
      "    exploit-local: 3/77 (0.04)\n",
      "    exploit-remote: 0/166 (0.00)\n",
      "    exploit-connect: 0/133 (0.00)\n",
      "  exploit deflected to exploration: 18\n",
      "  ## Episode: 21/50 'exponential epsilon' ϵ=0.1760, γ=0.015, lr=0.01, replaymemory=10000,\n",
      "batch=512, target_update=4\n"
     ]
    },
    {
     "name": "stderr",
     "output_type": "stream",
     "text": [
      "Episode 21|Iteration 50|reward: 4483.0|last_reward_at:   50|Elapsed Time: 0:00:00||\n"
     ]
    },
    {
     "name": "stdout",
     "output_type": "stream",
     "text": [
      "  Episode 21 ended at t=50 \n",
      "  Breakdown [Reward/NoReward (Success rate)]\n",
      "    explore-local: 1/1 (0.50)\n",
      "    explore-remote: 1/5 (0.17)\n",
      "    explore-connect: 0/7 (0.00)\n",
      "    exploit-local: 5/14 (0.26)\n",
      "    exploit-remote: 2/8 (0.20)\n",
      "    exploit-connect: 3/3 (0.50)\n",
      "  exploit deflected to exploration: 4\n",
      "  ## Episode: 22/50 'exponential epsilon' ϵ=0.1719, γ=0.015, lr=0.01, replaymemory=10000,\n",
      "batch=512, target_update=4\n"
     ]
    },
    {
     "name": "stderr",
     "output_type": "stream",
     "text": [
      "Episode 22|Iteration 74|reward: 4483.0|last_reward_at:   74|Elapsed Time: 0:00:00||\n"
     ]
    },
    {
     "name": "stdout",
     "output_type": "stream",
     "text": [
      "  Episode 22 ended at t=74 \n",
      "  Breakdown [Reward/NoReward (Success rate)]\n",
      "    explore-local: 0/0 (NaN)\n",
      "    explore-remote: 0/7 (0.00)\n",
      "    explore-connect: 0/8 (0.00)\n",
      "    exploit-local: 6/20 (0.23)\n",
      "    exploit-remote: 3/12 (0.20)\n",
      "    exploit-connect: 3/15 (0.17)\n",
      "  exploit deflected to exploration: 4\n",
      "  ## Episode: 23/50 'exponential epsilon' ϵ=0.1661, γ=0.015, lr=0.01, replaymemory=10000,\n",
      "batch=512, target_update=4\n"
     ]
    },
    {
     "name": "stderr",
     "output_type": "stream",
     "text": [
      "Episode 23|Iteration 53|reward: 4483.0|last_reward_at:   53|Elapsed Time: 0:00:00||\n"
     ]
    },
    {
     "name": "stdout",
     "output_type": "stream",
     "text": [
      "  Episode 23 ended at t=53 \n",
      "  Breakdown [Reward/NoReward (Success rate)]\n",
      "    explore-local: 0/0 (NaN)\n",
      "    explore-remote: 2/4 (0.33)\n",
      "    explore-connect: 0/2 (0.00)\n",
      "    exploit-local: 6/11 (0.35)\n",
      "    exploit-remote: 1/16 (0.06)\n",
      "    exploit-connect: 3/8 (0.27)\n",
      "  exploit deflected to exploration: 4\n",
      "  ## Episode: 24/50 'exponential epsilon' ϵ=0.1620, γ=0.015, lr=0.01, replaymemory=10000,\n",
      "batch=512, target_update=4\n"
     ]
    },
    {
     "name": "stderr",
     "output_type": "stream",
     "text": [
      "Episode 24|Iteration 45|reward: 4483.0|last_reward_at:   45|Elapsed Time: 0:00:00||\n"
     ]
    },
    {
     "name": "stdout",
     "output_type": "stream",
     "text": [
      "  Episode 24 ended at t=45 \n",
      "  Breakdown [Reward/NoReward (Success rate)]\n",
      "    explore-local: 2/0 (1.00)\n",
      "    explore-remote: 0/2 (0.00)\n",
      "    explore-connect: 0/4 (0.00)\n",
      "    exploit-local: 5/11 (0.31)\n",
      "    exploit-remote: 2/14 (0.12)\n",
      "    exploit-connect: 3/2 (0.60)\n",
      "  exploit deflected to exploration: 0\n",
      "  ## Episode: 25/50 'exponential epsilon' ϵ=0.1586, γ=0.015, lr=0.01, replaymemory=10000,\n",
      "batch=512, target_update=4\n"
     ]
    },
    {
     "name": "stderr",
     "output_type": "stream",
     "text": [
      "Episode 25|Iteration 76|reward: 4483.0|last_reward_at:   76|Elapsed Time: 0:00:00||\n"
     ]
    },
    {
     "name": "stdout",
     "output_type": "stream",
     "text": [
      "  Episode 25 ended at t=76 \n",
      "  Breakdown [Reward/NoReward (Success rate)]\n",
      "    explore-local: 3/0 (1.00)\n",
      "    explore-remote: 1/3 (0.25)\n",
      "    explore-connect: 0/6 (0.00)\n",
      "    exploit-local: 4/24 (0.14)\n",
      "    exploit-remote: 1/12 (0.08)\n",
      "    exploit-connect: 3/19 (0.14)\n",
      "  exploit deflected to exploration: 4\n",
      "  ## Episode: 26/50 'exponential epsilon' ϵ=0.1531, γ=0.015, lr=0.01, replaymemory=10000,\n",
      "batch=512, target_update=4\n"
     ]
    },
    {
     "name": "stderr",
     "output_type": "stream",
     "text": [
      "Episode 26|Iteration 76|reward: 4483.0|last_reward_at:   76|Elapsed Time: 0:00:00||\n"
     ]
    },
    {
     "name": "stdout",
     "output_type": "stream",
     "text": [
      "  Episode 26 ended at t=76 \n",
      "  Breakdown [Reward/NoReward (Success rate)]\n",
      "    explore-local: 0/2 (0.00)\n",
      "    explore-remote: 3/12 (0.20)\n",
      "    explore-connect: 0/10 (0.00)\n",
      "    exploit-local: 6/25 (0.19)\n",
      "    exploit-remote: 0/8 (0.00)\n",
      "    exploit-connect: 3/7 (0.30)\n",
      "  exploit deflected to exploration: 7\n",
      "  ## Episode: 27/50 'exponential epsilon' ϵ=0.1477, γ=0.015, lr=0.01, replaymemory=10000,\n",
      "batch=512, target_update=4\n"
     ]
    },
    {
     "name": "stderr",
     "output_type": "stream",
     "text": [
      "Episode 27|Iteration 146|reward: 4483.0|last_reward_at:  146|Elapsed Time: 0:00:01||\n"
     ]
    },
    {
     "name": "stdout",
     "output_type": "stream",
     "text": [
      "  Episode 27 ended at t=146 \n",
      "  Breakdown [Reward/NoReward (Success rate)]\n",
      "    explore-local: 1/4 (0.20)\n",
      "    explore-remote: 2/14 (0.12)\n",
      "    explore-connect: 0/9 (0.00)\n",
      "    exploit-local: 5/47 (0.10)\n",
      "    exploit-remote: 1/36 (0.03)\n",
      "    exploit-connect: 3/24 (0.11)\n",
      "  exploit deflected to exploration: 13\n",
      "  ## Episode: 28/50 'exponential epsilon' ϵ=0.1380, γ=0.015, lr=0.01, replaymemory=10000,\n",
      "batch=512, target_update=4\n"
     ]
    },
    {
     "name": "stderr",
     "output_type": "stream",
     "text": [
      "Episode 28|Iteration 143|reward: 4483.0|last_reward_at:  143|Elapsed Time: 0:00:01||\n"
     ]
    },
    {
     "name": "stdout",
     "output_type": "stream",
     "text": [
      "  Episode 28 ended at t=143 \n",
      "  Breakdown [Reward/NoReward (Success rate)]\n",
      "    explore-local: 2/7 (0.22)\n",
      "    explore-remote: 0/8 (0.00)\n",
      "    explore-connect: 0/26 (0.00)\n",
      "    exploit-local: 5/41 (0.11)\n",
      "    exploit-remote: 2/29 (0.06)\n",
      "    exploit-connect: 3/20 (0.13)\n",
      "  exploit deflected to exploration: 22\n",
      "  ## Episode: 29/50 'exponential epsilon' ϵ=0.1292, γ=0.015, lr=0.01, replaymemory=10000,\n",
      "batch=512, target_update=4\n"
     ]
    },
    {
     "name": "stderr",
     "output_type": "stream",
     "text": [
      "Episode 29|Iteration 119|reward: 4474.0|last_reward_at:  119|Elapsed Time: 0:00:00||\n"
     ]
    },
    {
     "name": "stdout",
     "output_type": "stream",
     "text": [
      "  Episode 29 ended at t=119 \n",
      "  Breakdown [Reward/NoReward (Success rate)]\n",
      "    explore-local: 1/4 (0.20)\n",
      "    explore-remote: 0/8 (0.00)\n",
      "    explore-connect: 0/12 (0.00)\n",
      "    exploit-local: 6/31 (0.16)\n",
      "    exploit-remote: 1/35 (0.03)\n",
      "    exploit-connect: 3/18 (0.14)\n",
      "  exploit deflected to exploration: 10\n",
      "  ## Episode: 30/50 'exponential epsilon' ϵ=0.1223, γ=0.015, lr=0.01, replaymemory=10000,\n",
      "batch=512, target_update=4\n"
     ]
    },
    {
     "name": "stderr",
     "output_type": "stream",
     "text": [
      "Episode 30|Iteration 42|reward: 4474.0|last_reward_at:   42|Elapsed Time: 0:00:00||\n"
     ]
    },
    {
     "name": "stdout",
     "output_type": "stream",
     "text": [
      "  Episode 30 ended at t=42 \n",
      "  Breakdown [Reward/NoReward (Success rate)]\n",
      "    explore-local: 1/1 (0.50)\n",
      "    explore-remote: 1/0 (1.00)\n",
      "    explore-connect: 0/0 (NaN)\n",
      "    exploit-local: 5/19 (0.21)\n",
      "    exploit-remote: 1/5 (0.17)\n",
      "    exploit-connect: 3/6 (0.33)\n",
      "  exploit deflected to exploration: 1\n",
      "  ## Episode: 31/50 'exponential epsilon' ϵ=0.1200, γ=0.015, lr=0.01, replaymemory=10000,\n",
      "batch=512, target_update=4\n"
     ]
    },
    {
     "name": "stderr",
     "output_type": "stream",
     "text": [
      "Episode 31|Iteration 51|reward: 4474.0|last_reward_at:   51|Elapsed Time: 0:00:00||\n"
     ]
    },
    {
     "name": "stdout",
     "output_type": "stream",
     "text": [
      "  Episode 31 ended at t=51 \n",
      "  Breakdown [Reward/NoReward (Success rate)]\n",
      "    explore-local: 4/0 (1.00)\n",
      "    explore-remote: 0/5 (0.00)\n",
      "    explore-connect: 0/7 (0.00)\n",
      "    exploit-local: 2/12 (0.14)\n",
      "    exploit-remote: 1/13 (0.07)\n",
      "    exploit-connect: 4/3 (0.57)\n",
      "  exploit deflected to exploration: 3\n",
      "  ## Episode: 32/50 'exponential epsilon' ϵ=0.1172, γ=0.015, lr=0.01, replaymemory=10000,\n",
      "batch=512, target_update=4\n"
     ]
    },
    {
     "name": "stderr",
     "output_type": "stream",
     "text": [
      "Episode 32|Iteration 30|reward: 4474.0|last_reward_at:   30|Elapsed Time: 0:00:00||\n"
     ]
    },
    {
     "name": "stdout",
     "output_type": "stream",
     "text": [
      "  Episode 32 ended at t=30 \n",
      "  Breakdown [Reward/NoReward (Success rate)]\n",
      "    explore-local: 0/0 (NaN)\n",
      "    explore-remote: 1/2 (0.33)\n",
      "    explore-connect: 0/1 (0.00)\n",
      "    exploit-local: 6/8 (0.43)\n",
      "    exploit-remote: 0/4 (0.00)\n",
      "    exploit-connect: 4/4 (0.50)\n",
      "  exploit deflected to exploration: 1\n",
      "  ## Episode: 33/50 'exponential epsilon' ϵ=0.1156, γ=0.015, lr=0.01, replaymemory=10000,\n",
      "batch=512, target_update=4\n"
     ]
    },
    {
     "name": "stderr",
     "output_type": "stream",
     "text": [
      "Episode 33|Iteration 108|reward: 4483.0|last_reward_at:  108|Elapsed Time: 0:00:00||\n"
     ]
    },
    {
     "name": "stdout",
     "output_type": "stream",
     "text": [
      "  Episode 33 ended at t=108 \n",
      "  Breakdown [Reward/NoReward (Success rate)]\n",
      "    explore-local: 1/0 (1.00)\n",
      "    explore-remote: 0/6 (0.00)\n",
      "    explore-connect: 0/5 (0.00)\n",
      "    exploit-local: 6/34 (0.15)\n",
      "    exploit-remote: 2/30 (0.06)\n",
      "    exploit-connect: 3/21 (0.12)\n",
      "  exploit deflected to exploration: 1\n",
      "  ## Episode: 34/50 'exponential epsilon' ϵ=0.1101, γ=0.015, lr=0.01, replaymemory=10000,\n",
      "batch=512, target_update=4\n"
     ]
    },
    {
     "name": "stderr",
     "output_type": "stream",
     "text": [
      "Episode 34|Iteration 171|reward: 4483.0|last_reward_at:  171|Elapsed Time: 0:00:01||\n"
     ]
    },
    {
     "name": "stdout",
     "output_type": "stream",
     "text": [
      "  Episode 34 ended at t=171 \n",
      "  Breakdown [Reward/NoReward (Success rate)]\n",
      "    explore-local: 1/4 (0.20)\n",
      "    explore-remote: 1/20 (0.05)\n",
      "    explore-connect: 0/23 (0.00)\n",
      "    exploit-local: 5/52 (0.09)\n",
      "    exploit-remote: 2/25 (0.07)\n",
      "    exploit-connect: 3/35 (0.08)\n",
      "  exploit deflected to exploration: 31\n",
      "  ## Episode: 35/50 'exponential epsilon' ϵ=0.1019, γ=0.015, lr=0.01, replaymemory=10000,\n",
      "batch=512, target_update=4\n"
     ]
    },
    {
     "name": "stderr",
     "output_type": "stream",
     "text": [
      "Episode 35|Iteration 55|reward: 4474.0|last_reward_at:   55|Elapsed Time: 0:00:00||\n"
     ]
    },
    {
     "name": "stdout",
     "output_type": "stream",
     "text": [
      "  Episode 35 ended at t=55 \n",
      "  Breakdown [Reward/NoReward (Success rate)]\n",
      "    explore-local: 0/2 (0.00)\n",
      "    explore-remote: 0/2 (0.00)\n",
      "    explore-connect: 0/8 (0.00)\n",
      "    exploit-local: 6/20 (0.23)\n",
      "    exploit-remote: 1/7 (0.12)\n",
      "    exploit-connect: 4/5 (0.44)\n",
      "  exploit deflected to exploration: 8\n",
      "  ## Episode: 36/50 'exponential epsilon' ϵ=0.0994, γ=0.015, lr=0.01, replaymemory=10000,\n",
      "batch=512, target_update=4\n"
     ]
    },
    {
     "name": "stderr",
     "output_type": "stream",
     "text": [
      "Episode 36|Iteration 37|reward: 4474.0|last_reward_at:   37|Elapsed Time: 0:00:00||\n"
     ]
    },
    {
     "name": "stdout",
     "output_type": "stream",
     "text": [
      "  Episode 36 ended at t=37 \n",
      "  Breakdown [Reward/NoReward (Success rate)]\n",
      "    explore-local: 0/0 (NaN)\n",
      "    explore-remote: 0/2 (0.00)\n",
      "    explore-connect: 0/4 (0.00)\n",
      "    exploit-local: 7/5 (0.58)\n",
      "    exploit-remote: 1/4 (0.20)\n",
      "    exploit-connect: 3/11 (0.21)\n",
      "  exploit deflected to exploration: 1\n",
      "  ## Episode: 37/50 'exponential epsilon' ϵ=0.0977, γ=0.015, lr=0.01, replaymemory=10000,\n",
      "batch=512, target_update=4\n"
     ]
    },
    {
     "name": "stderr",
     "output_type": "stream",
     "text": [
      "Episode 37|Iteration 37|reward: 4477.0|last_reward_at:   37|Elapsed Time: 0:00:00||\n"
     ]
    },
    {
     "name": "stdout",
     "output_type": "stream",
     "text": [
      "  Episode 37 ended at t=37 \n",
      "  Breakdown [Reward/NoReward (Success rate)]\n",
      "    explore-local: 0/0 (NaN)\n",
      "    explore-remote: 0/2 (0.00)\n",
      "    explore-connect: 0/4 (0.00)\n",
      "    exploit-local: 5/10 (0.33)\n",
      "    exploit-remote: 2/7 (0.22)\n",
      "    exploit-connect: 4/3 (0.57)\n",
      "  exploit deflected to exploration: 4\n",
      "  ## Episode: 38/50 'exponential epsilon' ϵ=0.0961, γ=0.015, lr=0.01, replaymemory=10000,\n",
      "batch=512, target_update=4\n"
     ]
    },
    {
     "name": "stderr",
     "output_type": "stream",
     "text": [
      "Episode 38|Iteration 38|reward: 4483.0|last_reward_at:   38|Elapsed Time: 0:00:00||\n"
     ]
    },
    {
     "name": "stdout",
     "output_type": "stream",
     "text": [
      "  Episode 38 ended at t=38 \n",
      "  Breakdown [Reward/NoReward (Success rate)]\n",
      "    explore-local: 0/0 (NaN)\n",
      "    explore-remote: 1/1 (0.50)\n",
      "    explore-connect: 0/2 (0.00)\n",
      "    exploit-local: 6/9 (0.40)\n",
      "    exploit-remote: 2/9 (0.18)\n",
      "    exploit-connect: 3/5 (0.38)\n",
      "  exploit deflected to exploration: 1\n",
      "  ## Episode: 39/50 'exponential epsilon' ϵ=0.0945, γ=0.015, lr=0.01, replaymemory=10000,\n",
      "batch=512, target_update=4\n"
     ]
    },
    {
     "name": "stderr",
     "output_type": "stream",
     "text": [
      "Episode 39|Iteration 50|reward: 4483.0|last_reward_at:   50|Elapsed Time: 0:00:00||\n"
     ]
    },
    {
     "name": "stdout",
     "output_type": "stream",
     "text": [
      "  Episode 39 ended at t=50 \n",
      "  Breakdown [Reward/NoReward (Success rate)]\n",
      "    explore-local: 1/0 (1.00)\n",
      "    explore-remote: 1/4 (0.20)\n",
      "    explore-connect: 0/6 (0.00)\n",
      "    exploit-local: 5/11 (0.31)\n",
      "    exploit-remote: 1/14 (0.07)\n",
      "    exploit-connect: 4/3 (0.57)\n",
      "  exploit deflected to exploration: 6\n",
      "  ## Episode: 40/50 'exponential epsilon' ϵ=0.0924, γ=0.015, lr=0.01, replaymemory=10000,\n",
      "batch=512, target_update=4\n"
     ]
    },
    {
     "name": "stderr",
     "output_type": "stream",
     "text": [
      "Episode 40|Iteration 102|reward: 4483.0|last_reward_at:  102|Elapsed Time: 0:00:00||\n"
     ]
    },
    {
     "name": "stdout",
     "output_type": "stream",
     "text": [
      "  Episode 40 ended at t=102 \n",
      "  Breakdown [Reward/NoReward (Success rate)]\n",
      "    explore-local: 0/0 (NaN)\n",
      "    explore-remote: 1/3 (0.25)\n",
      "    explore-connect: 0/2 (0.00)\n",
      "    exploit-local: 6/23 (0.21)\n",
      "    exploit-remote: 2/35 (0.05)\n",
      "    exploit-connect: 3/27 (0.10)\n",
      "  exploit deflected to exploration: 0\n",
      "  ## Episode: 41/50 'exponential epsilon' ϵ=0.0883, γ=0.015, lr=0.01, replaymemory=10000,\n",
      "batch=512, target_update=4\n"
     ]
    },
    {
     "name": "stderr",
     "output_type": "stream",
     "text": [
      "Episode 41|Iteration 61|reward: 4474.0|last_reward_at:   61|Elapsed Time: 0:00:00||\n"
     ]
    },
    {
     "name": "stdout",
     "output_type": "stream",
     "text": [
      "  Episode 41 ended at t=61 \n",
      "  Breakdown [Reward/NoReward (Success rate)]\n",
      "    explore-local: 0/1 (0.00)\n",
      "    explore-remote: 0/3 (0.00)\n",
      "    explore-connect: 0/1 (0.00)\n",
      "    exploit-local: 7/18 (0.28)\n",
      "    exploit-remote: 1/12 (0.08)\n",
      "    exploit-connect: 3/15 (0.17)\n",
      "  exploit deflected to exploration: 1\n",
      "  ## Episode: 42/50 'exponential epsilon' ϵ=0.0860, γ=0.015, lr=0.01, replaymemory=10000,\n",
      "batch=512, target_update=4\n"
     ]
    },
    {
     "name": "stderr",
     "output_type": "stream",
     "text": [
      "Episode 42|Iteration 105|reward: 4483.0|last_reward_at:  105|Elapsed Time: 0:00:01||\n"
     ]
    },
    {
     "name": "stdout",
     "output_type": "stream",
     "text": [
      "  Episode 42 ended at t=105 \n",
      "  Breakdown [Reward/NoReward (Success rate)]\n",
      "    explore-local: 1/2 (0.33)\n",
      "    explore-remote: 1/7 (0.12)\n",
      "    explore-connect: 1/3 (0.25)\n",
      "    exploit-local: 5/22 (0.19)\n",
      "    exploit-remote: 1/30 (0.03)\n",
      "    exploit-connect: 3/29 (0.09)\n",
      "  exploit deflected to exploration: 10\n",
      "  ## Episode: 43/50 'exponential epsilon' ϵ=0.0821, γ=0.015, lr=0.01, replaymemory=10000,\n",
      "batch=512, target_update=4\n"
     ]
    },
    {
     "name": "stderr",
     "output_type": "stream",
     "text": [
      "Episode 43|Iteration 48|reward: 4468.0|last_reward_at:   48|Elapsed Time: 0:00:00||\n"
     ]
    },
    {
     "name": "stdout",
     "output_type": "stream",
     "text": [
      "  Episode 43 ended at t=48 \n",
      "  Breakdown [Reward/NoReward (Success rate)]\n",
      "    explore-local: 0/1 (0.00)\n",
      "    explore-remote: 0/2 (0.00)\n",
      "    explore-connect: 0/0 (NaN)\n",
      "    exploit-local: 5/16 (0.24)\n",
      "    exploit-remote: 2/6 (0.25)\n",
      "    exploit-connect: 3/13 (0.19)\n",
      "  exploit deflected to exploration: 1\n",
      "  ## Episode: 44/50 'exponential epsilon' ϵ=0.0804, γ=0.015, lr=0.01, replaymemory=10000,\n",
      "batch=512, target_update=4\n"
     ]
    },
    {
     "name": "stderr",
     "output_type": "stream",
     "text": [
      "Episode 44|Iteration 24|reward: 4462.0|last_reward_at:   24|Elapsed Time: 0:00:00||\n"
     ]
    },
    {
     "name": "stdout",
     "output_type": "stream",
     "text": [
      "  Episode 44 ended at t=24 \n",
      "  Breakdown [Reward/NoReward (Success rate)]\n",
      "    explore-local: 0/1 (0.00)\n",
      "    explore-remote: 0/0 (NaN)\n",
      "    explore-connect: 1/1 (0.50)\n",
      "    exploit-local: 4/4 (0.50)\n",
      "    exploit-remote: 1/1 (0.50)\n",
      "    exploit-connect: 3/8 (0.27)\n",
      "  exploit deflected to exploration: 1\n",
      "  ## Episode: 45/50 'exponential epsilon' ϵ=0.0795, γ=0.015, lr=0.01, replaymemory=10000,\n",
      "batch=512, target_update=4\n"
     ]
    },
    {
     "name": "stderr",
     "output_type": "stream",
     "text": [
      "Episode 45|Iteration 57|reward: 4477.0|last_reward_at:   57|Elapsed Time: 0:00:00||\n"
     ]
    },
    {
     "name": "stdout",
     "output_type": "stream",
     "text": [
      "  Episode 45 ended at t=57 \n",
      "  Breakdown [Reward/NoReward (Success rate)]\n",
      "    explore-local: 1/1 (0.50)\n",
      "    explore-remote: 1/6 (0.14)\n",
      "    explore-connect: 0/1 (0.00)\n",
      "    exploit-local: 4/20 (0.17)\n",
      "    exploit-remote: 1/9 (0.10)\n",
      "    exploit-connect: 4/9 (0.31)\n",
      "  exploit deflected to exploration: 5\n",
      "  ## Episode: 46/50 'exponential epsilon' ϵ=0.0776, γ=0.015, lr=0.01, replaymemory=10000,\n",
      "batch=512, target_update=4\n"
     ]
    },
    {
     "name": "stderr",
     "output_type": "stream",
     "text": [
      "Episode 46|Iteration 69|reward: 4483.0|last_reward_at:   69|Elapsed Time: 0:00:00||\n"
     ]
    },
    {
     "name": "stdout",
     "output_type": "stream",
     "text": [
      "  Episode 46 ended at t=69 \n",
      "  Breakdown [Reward/NoReward (Success rate)]\n",
      "    explore-local: 1/5 (0.17)\n",
      "    explore-remote: 1/7 (0.12)\n",
      "    explore-connect: 0/5 (0.00)\n",
      "    exploit-local: 5/14 (0.26)\n",
      "    exploit-remote: 1/17 (0.06)\n",
      "    exploit-connect: 4/9 (0.31)\n",
      "  exploit deflected to exploration: 12\n",
      "  ## Episode: 47/50 'exponential epsilon' ϵ=0.0753, γ=0.015, lr=0.01, replaymemory=10000,\n",
      "batch=512, target_update=4\n"
     ]
    },
    {
     "name": "stderr",
     "output_type": "stream",
     "text": [
      "Episode 47|Iteration 139|reward: 4483.0|last_reward_at:  139|Elapsed Time: 0:00:01||\n"
     ]
    },
    {
     "name": "stdout",
     "output_type": "stream",
     "text": [
      "  Episode 47 ended at t=139 \n",
      "  Breakdown [Reward/NoReward (Success rate)]\n",
      "    explore-local: 0/2 (0.00)\n",
      "    explore-remote: 1/1 (0.50)\n",
      "    explore-connect: 1/6 (0.14)\n",
      "    exploit-local: 6/43 (0.12)\n",
      "    exploit-remote: 1/25 (0.04)\n",
      "    exploit-connect: 3/50 (0.06)\n",
      "  exploit deflected to exploration: 2\n",
      "  ## Episode: 48/50 'exponential epsilon' ϵ=0.0709, γ=0.015, lr=0.01, replaymemory=10000,\n",
      "batch=512, target_update=4\n"
     ]
    },
    {
     "name": "stderr",
     "output_type": "stream",
     "text": [
      "Episode 48|Iteration 172|reward: 4483.0|last_reward_at:  172|Elapsed Time: 0:00:01||\n"
     ]
    },
    {
     "name": "stdout",
     "output_type": "stream",
     "text": [
      "  Episode 48 ended at t=172 \n",
      "  Breakdown [Reward/NoReward (Success rate)]\n",
      "    explore-local: 1/6 (0.14)\n",
      "    explore-remote: 1/10 (0.09)\n",
      "    explore-connect: 0/12 (0.00)\n",
      "    exploit-local: 5/62 (0.07)\n",
      "    exploit-remote: 2/43 (0.04)\n",
      "    exploit-connect: 3/27 (0.10)\n",
      "  exploit deflected to exploration: 18\n",
      "  ## Episode: 49/50 'exponential epsilon' ϵ=0.0659, γ=0.015, lr=0.01, replaymemory=10000,\n",
      "batch=512, target_update=4\n"
     ]
    },
    {
     "name": "stderr",
     "output_type": "stream",
     "text": [
      "Episode 49|Iteration 281|reward: 4483.0|last_reward_at:  281|Elapsed Time: 0:00:02||\n"
     ]
    },
    {
     "name": "stdout",
     "output_type": "stream",
     "text": [
      "  Episode 49 ended at t=281 \n",
      "  Breakdown [Reward/NoReward (Success rate)]\n",
      "    explore-local: 0/10 (0.00)\n",
      "    explore-remote: 1/30 (0.03)\n",
      "    explore-connect: 0/24 (0.00)\n",
      "    exploit-local: 6/75 (0.07)\n",
      "    exploit-remote: 2/88 (0.02)\n",
      "    exploit-connect: 3/42 (0.07)\n",
      "  exploit deflected to exploration: 47\n",
      "  ## Episode: 50/50 'exponential epsilon' ϵ=0.0586, γ=0.015, lr=0.01, replaymemory=10000,\n",
      "batch=512, target_update=4\n"
     ]
    },
    {
     "name": "stderr",
     "output_type": "stream",
     "text": [
      "Episode 50|Iteration 43|reward: 4474.0|last_reward_at:   43|Elapsed Time: 0:00:00||\n"
     ]
    },
    {
     "name": "stdout",
     "output_type": "stream",
     "text": [
      "  Episode 50 ended at t=43 \n",
      "  Breakdown [Reward/NoReward (Success rate)]\n",
      "    explore-local: 0/2 (0.00)\n",
      "    explore-remote: 0/1 (0.00)\n",
      "    explore-connect: 0/1 (0.00)\n",
      "    exploit-local: 7/8 (0.47)\n",
      "    exploit-remote: 1/18 (0.05)\n",
      "    exploit-connect: 3/2 (0.60)\n",
      "  exploit deflected to exploration: 3\n",
      "simulation ended\n"
     ]
    }
   ],
   "source": [
    "dql_ep = learner.epsilon_greedy_search(\n",
    "    cyberbattle_gym_env=gym_env,\n",
    "    environment_properties=ep,\n",
    "    learner=dqla.DeepQLearnerPolicy(\n",
    "        ep=ep,\n",
    "        gamma=0.015,\n",
    "        replay_memory_size=10000,\n",
    "        target_update=4,\n",
    "        batch_size=512,\n",
    "        # torch default learning rate is 1e-2\n",
    "        # a large value helps converge in less episodes\n",
    "        learning_rate=0.01\n",
    "    ),\n",
    "    episode_count=training_episode_count,\n",
    "    iteration_count=iteration_count,\n",
    "    epsilon=0.9,\n",
    "    epsilon_exponential_decay=2000,\n",
    "    epsilon_minimum=0.01,\n",
    "    verbosity=Verbosity.Quiet,\n",
    "    render=False,\n",
    "    plot_episodes_length=False,\n",
    "    title=\"exponential epsilon\"\n",
    ")"
   ]
  },
  {
   "cell_type": "code",
   "execution_count": 6,
   "id": "38b731f2-8a30-47bc-bedb-81bb1a041a6e",
   "metadata": {
    "collapsed": true,
    "jupyter": {
     "outputs_hidden": true
    },
    "tags": []
   },
   "outputs": [
    {
     "name": "stdout",
     "output_type": "stream",
     "text": [
      "###### Random search\n",
      "Learning with: episode_count=50,iteration_count=500,ϵ=1.0,ϵ_min=0.0, \n",
      "  ## Episode: 1/50 'Random search' ϵ=1.0000, \n"
     ]
    },
    {
     "name": "stderr",
     "output_type": "stream",
     "text": [
      "Episode 1|Iteration 343|reward: 4483.0|last_reward_at:  343|Elapsed Time: 0:00:00||\n"
     ]
    },
    {
     "name": "stdout",
     "output_type": "stream",
     "text": [
      "  Episode 1 ended at t=343 \n",
      "  Breakdown [Reward/NoReward (Success rate)]\n",
      "    explore-local: 6/48 (0.11)\n",
      "    explore-remote: 2/131 (0.02)\n",
      "    explore-connect: 4/152 (0.03)\n",
      "    exploit-local: 0/0 (NaN)\n",
      "    exploit-remote: 0/0 (NaN)\n",
      "    exploit-connect: 0/0 (NaN)\n",
      "  exploit deflected to exploration: 0\n",
      "  ## Episode: 2/50 'Random search' ϵ=1.0000, \n"
     ]
    },
    {
     "name": "stderr",
     "output_type": "stream",
     "text": [
      "Episode 2|Iteration 500|reward:  174.0|last_reward_at:  133|Elapsed Time: 0:00:00||\n"
     ]
    },
    {
     "name": "stdout",
     "output_type": "stream",
     "text": [
      "  Episode 2 stopped at t=500 \n",
      "  Breakdown [Reward/NoReward (Success rate)]\n",
      "    explore-local: 5/67 (0.07)\n",
      "    explore-remote: 2/211 (0.01)\n",
      "    explore-connect: 1/214 (0.00)\n",
      "    exploit-local: 0/0 (NaN)\n",
      "    exploit-remote: 0/0 (NaN)\n",
      "    exploit-connect: 0/0 (NaN)\n",
      "  exploit deflected to exploration: 0\n",
      "  ## Episode: 3/50 'Random search' ϵ=1.0000, \n"
     ]
    },
    {
     "name": "stderr",
     "output_type": "stream",
     "text": [
      "Episode 3|Iteration 500|reward:  174.0|last_reward_at:  101|Elapsed Time: 0:00:00||\n"
     ]
    },
    {
     "name": "stdout",
     "output_type": "stream",
     "text": [
      "  Episode 3 stopped at t=500 \n",
      "  Breakdown [Reward/NoReward (Success rate)]\n",
      "    explore-local: 5/95 (0.05)\n",
      "    explore-remote: 2/195 (0.01)\n",
      "    explore-connect: 1/202 (0.00)\n",
      "    exploit-local: 0/0 (NaN)\n",
      "    exploit-remote: 0/0 (NaN)\n",
      "    exploit-connect: 0/0 (NaN)\n",
      "  exploit deflected to exploration: 0\n",
      "  ## Episode: 4/50 'Random search' ϵ=1.0000, \n"
     ]
    },
    {
     "name": "stderr",
     "output_type": "stream",
     "text": [
      "Episode 4|Iteration 500|reward:  474.0|last_reward_at:  469|Elapsed Time: 0:00:00||\n"
     ]
    },
    {
     "name": "stdout",
     "output_type": "stream",
     "text": [
      "  Episode 4 stopped at t=500 \n",
      "  Breakdown [Reward/NoReward (Success rate)]\n",
      "    explore-local: 5/93 (0.05)\n",
      "    explore-remote: 2/194 (0.01)\n",
      "    explore-connect: 2/204 (0.01)\n",
      "    exploit-local: 0/0 (NaN)\n",
      "    exploit-remote: 0/0 (NaN)\n",
      "    exploit-connect: 0/0 (NaN)\n",
      "  exploit deflected to exploration: 0\n",
      "  ## Episode: 5/50 'Random search' ϵ=1.0000, \n"
     ]
    },
    {
     "name": "stderr",
     "output_type": "stream",
     "text": [
      "Episode 5|Iteration 500|reward:  483.0|last_reward_at:  261|Elapsed Time: 0:00:00||\n"
     ]
    },
    {
     "name": "stdout",
     "output_type": "stream",
     "text": [
      "  Episode 5 stopped at t=500 \n",
      "  Breakdown [Reward/NoReward (Success rate)]\n",
      "    explore-local: 6/81 (0.07)\n",
      "    explore-remote: 2/189 (0.01)\n",
      "    explore-connect: 2/220 (0.01)\n",
      "    exploit-local: 0/0 (NaN)\n",
      "    exploit-remote: 0/0 (NaN)\n",
      "    exploit-connect: 0/0 (NaN)\n",
      "  exploit deflected to exploration: 0\n",
      "  ## Episode: 6/50 'Random search' ϵ=1.0000, \n"
     ]
    },
    {
     "name": "stderr",
     "output_type": "stream",
     "text": [
      "Episode 6|Iteration 500|reward:  483.0|last_reward_at:  384|Elapsed Time: 0:00:00||\n"
     ]
    },
    {
     "name": "stdout",
     "output_type": "stream",
     "text": [
      "  Episode 6 stopped at t=500 \n",
      "  Breakdown [Reward/NoReward (Success rate)]\n",
      "    explore-local: 6/88 (0.06)\n",
      "    explore-remote: 2/209 (0.01)\n",
      "    explore-connect: 2/193 (0.01)\n",
      "    exploit-local: 0/0 (NaN)\n",
      "    exploit-remote: 0/0 (NaN)\n",
      "    exploit-connect: 0/0 (NaN)\n",
      "  exploit deflected to exploration: 0\n",
      "  ## Episode: 7/50 'Random search' ϵ=1.0000, \n"
     ]
    },
    {
     "name": "stderr",
     "output_type": "stream",
     "text": [
      "Episode 7|Iteration 500|reward:  483.0|last_reward_at:  447|Elapsed Time: 0:00:00||\n"
     ]
    },
    {
     "name": "stdout",
     "output_type": "stream",
     "text": [
      "  Episode 7 stopped at t=500 \n",
      "  Breakdown [Reward/NoReward (Success rate)]\n",
      "    explore-local: 6/95 (0.06)\n",
      "    explore-remote: 2/200 (0.01)\n",
      "    explore-connect: 2/195 (0.01)\n",
      "    exploit-local: 0/0 (NaN)\n",
      "    exploit-remote: 0/0 (NaN)\n",
      "    exploit-connect: 0/0 (NaN)\n",
      "  exploit deflected to exploration: 0\n",
      "  ## Episode: 8/50 'Random search' ϵ=1.0000, \n"
     ]
    },
    {
     "name": "stderr",
     "output_type": "stream",
     "text": [
      "Episode 8|Iteration 187|reward: 4483.0|last_reward_at:  187|Elapsed Time: 0:00:00||\n"
     ]
    },
    {
     "name": "stdout",
     "output_type": "stream",
     "text": [
      "  Episode 8 ended at t=187 \n",
      "  Breakdown [Reward/NoReward (Success rate)]\n",
      "    explore-local: 6/37 (0.14)\n",
      "    explore-remote: 3/73 (0.04)\n",
      "    explore-connect: 3/65 (0.04)\n",
      "    exploit-local: 0/0 (NaN)\n",
      "    exploit-remote: 0/0 (NaN)\n",
      "    exploit-connect: 0/0 (NaN)\n",
      "  exploit deflected to exploration: 0\n",
      "  ## Episode: 9/50 'Random search' ϵ=1.0000, \n"
     ]
    },
    {
     "name": "stderr",
     "output_type": "stream",
     "text": [
      "Episode 9|Iteration 500|reward:  174.0|last_reward_at:   53|Elapsed Time: 0:00:00||\n"
     ]
    },
    {
     "name": "stdout",
     "output_type": "stream",
     "text": [
      "  Episode 9 stopped at t=500 \n",
      "  Breakdown [Reward/NoReward (Success rate)]\n",
      "    explore-local: 5/82 (0.06)\n",
      "    explore-remote: 2/207 (0.01)\n",
      "    explore-connect: 1/203 (0.00)\n",
      "    exploit-local: 0/0 (NaN)\n",
      "    exploit-remote: 0/0 (NaN)\n",
      "    exploit-connect: 0/0 (NaN)\n",
      "  exploit deflected to exploration: 0\n",
      "  ## Episode: 10/50 'Random search' ϵ=1.0000, \n"
     ]
    },
    {
     "name": "stderr",
     "output_type": "stream",
     "text": [
      "Episode 10|Iteration 500|reward:  174.0|last_reward_at:   35|Elapsed Time: 0:00:00||\n"
     ]
    },
    {
     "name": "stdout",
     "output_type": "stream",
     "text": [
      "  Episode 10 stopped at t=500 \n",
      "  Breakdown [Reward/NoReward (Success rate)]\n",
      "    explore-local: 5/63 (0.07)\n",
      "    explore-remote: 2/216 (0.01)\n",
      "    explore-connect: 1/213 (0.00)\n",
      "    exploit-local: 0/0 (NaN)\n",
      "    exploit-remote: 0/0 (NaN)\n",
      "    exploit-connect: 0/0 (NaN)\n",
      "  exploit deflected to exploration: 0\n",
      "  ## Episode: 11/50 'Random search' ϵ=1.0000, \n"
     ]
    },
    {
     "name": "stderr",
     "output_type": "stream",
     "text": [
      "Episode 11|Iteration 250|reward: 4483.0|last_reward_at:  250|Elapsed Time: 0:00:00||\n"
     ]
    },
    {
     "name": "stdout",
     "output_type": "stream",
     "text": [
      "  Episode 11 ended at t=250 \n",
      "  Breakdown [Reward/NoReward (Success rate)]\n",
      "    explore-local: 6/34 (0.15)\n",
      "    explore-remote: 2/94 (0.02)\n",
      "    explore-connect: 4/110 (0.04)\n",
      "    exploit-local: 0/0 (NaN)\n",
      "    exploit-remote: 0/0 (NaN)\n",
      "    exploit-connect: 0/0 (NaN)\n",
      "  exploit deflected to exploration: 0\n",
      "  ## Episode: 12/50 'Random search' ϵ=1.0000, \n"
     ]
    },
    {
     "name": "stderr",
     "output_type": "stream",
     "text": [
      "Episode 12|Iteration 187|reward: 4483.0|last_reward_at:  187|Elapsed Time: 0:00:00||\n"
     ]
    },
    {
     "name": "stdout",
     "output_type": "stream",
     "text": [
      "  Episode 12 ended at t=187 \n",
      "  Breakdown [Reward/NoReward (Success rate)]\n",
      "    explore-local: 6/31 (0.16)\n",
      "    explore-remote: 2/85 (0.02)\n",
      "    explore-connect: 4/59 (0.06)\n",
      "    exploit-local: 0/0 (NaN)\n",
      "    exploit-remote: 0/0 (NaN)\n",
      "    exploit-connect: 0/0 (NaN)\n",
      "  exploit deflected to exploration: 0\n",
      "  ## Episode: 13/50 'Random search' ϵ=1.0000, \n"
     ]
    },
    {
     "name": "stderr",
     "output_type": "stream",
     "text": [
      "Episode 13|Iteration 500|reward:  174.0|last_reward_at:  271|Elapsed Time: 0:00:00||\n"
     ]
    },
    {
     "name": "stdout",
     "output_type": "stream",
     "text": [
      "  Episode 13 stopped at t=500 \n",
      "  Breakdown [Reward/NoReward (Success rate)]\n",
      "    explore-local: 5/108 (0.04)\n",
      "    explore-remote: 2/200 (0.01)\n",
      "    explore-connect: 1/184 (0.01)\n",
      "    exploit-local: 0/0 (NaN)\n",
      "    exploit-remote: 0/0 (NaN)\n",
      "    exploit-connect: 0/0 (NaN)\n",
      "  exploit deflected to exploration: 0\n",
      "  ## Episode: 14/50 'Random search' ϵ=1.0000, \n"
     ]
    },
    {
     "name": "stderr",
     "output_type": "stream",
     "text": [
      "Episode 14|Iteration 500|reward:  174.0|last_reward_at:  208|Elapsed Time: 0:00:00||\n"
     ]
    },
    {
     "name": "stdout",
     "output_type": "stream",
     "text": [
      "  Episode 14 stopped at t=500 \n",
      "  Breakdown [Reward/NoReward (Success rate)]\n",
      "    explore-local: 5/85 (0.06)\n",
      "    explore-remote: 2/204 (0.01)\n",
      "    explore-connect: 1/203 (0.00)\n",
      "    exploit-local: 0/0 (NaN)\n",
      "    exploit-remote: 0/0 (NaN)\n",
      "    exploit-connect: 0/0 (NaN)\n",
      "  exploit deflected to exploration: 0\n",
      "  ## Episode: 15/50 'Random search' ϵ=1.0000, \n"
     ]
    },
    {
     "name": "stderr",
     "output_type": "stream",
     "text": [
      "Episode 15|Iteration 500|reward:  174.0|last_reward_at:  175|Elapsed Time: 0:00:00||\n"
     ]
    },
    {
     "name": "stdout",
     "output_type": "stream",
     "text": [
      "  Episode 15 stopped at t=500 \n",
      "  Breakdown [Reward/NoReward (Success rate)]\n",
      "    explore-local: 5/99 (0.05)\n",
      "    explore-remote: 2/193 (0.01)\n",
      "    explore-connect: 1/200 (0.00)\n",
      "    exploit-local: 0/0 (NaN)\n",
      "    exploit-remote: 0/0 (NaN)\n",
      "    exploit-connect: 0/0 (NaN)\n",
      "  exploit deflected to exploration: 0\n",
      "  ## Episode: 16/50 'Random search' ϵ=1.0000, \n"
     ]
    },
    {
     "name": "stderr",
     "output_type": "stream",
     "text": [
      "Episode 16|Iteration 500|reward:  483.0|last_reward_at:  372|Elapsed Time: 0:00:00||\n"
     ]
    },
    {
     "name": "stdout",
     "output_type": "stream",
     "text": [
      "  Episode 16 stopped at t=500 \n",
      "  Breakdown [Reward/NoReward (Success rate)]\n",
      "    explore-local: 6/82 (0.07)\n",
      "    explore-remote: 2/206 (0.01)\n",
      "    explore-connect: 2/202 (0.01)\n",
      "    exploit-local: 0/0 (NaN)\n",
      "    exploit-remote: 0/0 (NaN)\n",
      "    exploit-connect: 0/0 (NaN)\n",
      "  exploit deflected to exploration: 0\n",
      "  ## Episode: 17/50 'Random search' ϵ=1.0000, \n"
     ]
    },
    {
     "name": "stderr",
     "output_type": "stream",
     "text": [
      "Episode 17|Iteration 500|reward:  174.0|last_reward_at:   38|Elapsed Time: 0:00:00||\n"
     ]
    },
    {
     "name": "stdout",
     "output_type": "stream",
     "text": [
      "  Episode 17 stopped at t=500 \n",
      "  Breakdown [Reward/NoReward (Success rate)]\n",
      "    explore-local: 5/72 (0.06)\n",
      "    explore-remote: 2/220 (0.01)\n",
      "    explore-connect: 1/200 (0.00)\n",
      "    exploit-local: 0/0 (NaN)\n",
      "    exploit-remote: 0/0 (NaN)\n",
      "    exploit-connect: 0/0 (NaN)\n",
      "  exploit deflected to exploration: 0\n",
      "  ## Episode: 18/50 'Random search' ϵ=1.0000, \n"
     ]
    },
    {
     "name": "stderr",
     "output_type": "stream",
     "text": [
      "Episode 18|Iteration 500|reward:  174.0|last_reward_at:   88|Elapsed Time: 0:00:00||\n"
     ]
    },
    {
     "name": "stdout",
     "output_type": "stream",
     "text": [
      "  Episode 18 stopped at t=500 \n",
      "  Breakdown [Reward/NoReward (Success rate)]\n",
      "    explore-local: 5/78 (0.06)\n",
      "    explore-remote: 2/227 (0.01)\n",
      "    explore-connect: 1/187 (0.01)\n",
      "    exploit-local: 0/0 (NaN)\n",
      "    exploit-remote: 0/0 (NaN)\n",
      "    exploit-connect: 0/0 (NaN)\n",
      "  exploit deflected to exploration: 0\n",
      "  ## Episode: 19/50 'Random search' ϵ=1.0000, \n"
     ]
    },
    {
     "name": "stderr",
     "output_type": "stream",
     "text": [
      "Episode 19|Iteration 449|reward: 4483.0|last_reward_at:  449|Elapsed Time: 0:00:00||\n"
     ]
    },
    {
     "name": "stdout",
     "output_type": "stream",
     "text": [
      "  Episode 19 ended at t=449 \n",
      "  Breakdown [Reward/NoReward (Success rate)]\n",
      "    explore-local: 6/76 (0.07)\n",
      "    explore-remote: 2/172 (0.01)\n",
      "    explore-connect: 4/189 (0.02)\n",
      "    exploit-local: 0/0 (NaN)\n",
      "    exploit-remote: 0/0 (NaN)\n",
      "    exploit-connect: 0/0 (NaN)\n",
      "  exploit deflected to exploration: 0\n",
      "  ## Episode: 20/50 'Random search' ϵ=1.0000, \n"
     ]
    },
    {
     "name": "stderr",
     "output_type": "stream",
     "text": [
      "Episode 20|Iteration 500|reward: 1483.0|last_reward_at:  440|Elapsed Time: 0:00:00||\n"
     ]
    },
    {
     "name": "stdout",
     "output_type": "stream",
     "text": [
      "  Episode 20 stopped at t=500 \n",
      "  Breakdown [Reward/NoReward (Success rate)]\n",
      "    explore-local: 6/91 (0.06)\n",
      "    explore-remote: 2/199 (0.01)\n",
      "    explore-connect: 3/199 (0.01)\n",
      "    exploit-local: 0/0 (NaN)\n",
      "    exploit-remote: 0/0 (NaN)\n",
      "    exploit-connect: 0/0 (NaN)\n",
      "  exploit deflected to exploration: 0\n",
      "  ## Episode: 21/50 'Random search' ϵ=1.0000, \n"
     ]
    },
    {
     "name": "stderr",
     "output_type": "stream",
     "text": [
      "Episode 21|Iteration 500|reward:  483.0|last_reward_at:  413|Elapsed Time: 0:00:00||\n"
     ]
    },
    {
     "name": "stdout",
     "output_type": "stream",
     "text": [
      "  Episode 21 stopped at t=500 \n",
      "  Breakdown [Reward/NoReward (Success rate)]\n",
      "    explore-local: 6/68 (0.08)\n",
      "    explore-remote: 2/202 (0.01)\n",
      "    explore-connect: 2/220 (0.01)\n",
      "    exploit-local: 0/0 (NaN)\n",
      "    exploit-remote: 0/0 (NaN)\n",
      "    exploit-connect: 0/0 (NaN)\n",
      "  exploit deflected to exploration: 0\n",
      "  ## Episode: 22/50 'Random search' ϵ=1.0000, \n"
     ]
    },
    {
     "name": "stderr",
     "output_type": "stream",
     "text": [
      "Episode 22|Iteration 500|reward:  174.0|last_reward_at:  113|Elapsed Time: 0:00:00||\n"
     ]
    },
    {
     "name": "stdout",
     "output_type": "stream",
     "text": [
      "  Episode 22 stopped at t=500 \n",
      "  Breakdown [Reward/NoReward (Success rate)]\n",
      "    explore-local: 5/107 (0.04)\n",
      "    explore-remote: 2/174 (0.01)\n",
      "    explore-connect: 1/211 (0.00)\n",
      "    exploit-local: 0/0 (NaN)\n",
      "    exploit-remote: 0/0 (NaN)\n",
      "    exploit-connect: 0/0 (NaN)\n",
      "  exploit deflected to exploration: 0\n",
      "  ## Episode: 23/50 'Random search' ϵ=1.0000, \n"
     ]
    },
    {
     "name": "stderr",
     "output_type": "stream",
     "text": [
      "Episode 23|Iteration 411|reward: 4483.0|last_reward_at:  411|Elapsed Time: 0:00:00||\n"
     ]
    },
    {
     "name": "stdout",
     "output_type": "stream",
     "text": [
      "  Episode 23 ended at t=411 \n",
      "  Breakdown [Reward/NoReward (Success rate)]\n",
      "    explore-local: 6/73 (0.08)\n",
      "    explore-remote: 3/167 (0.02)\n",
      "    explore-connect: 3/159 (0.02)\n",
      "    exploit-local: 0/0 (NaN)\n",
      "    exploit-remote: 0/0 (NaN)\n",
      "    exploit-connect: 0/0 (NaN)\n",
      "  exploit deflected to exploration: 0\n",
      "  ## Episode: 24/50 'Random search' ϵ=1.0000, \n"
     ]
    },
    {
     "name": "stderr",
     "output_type": "stream",
     "text": [
      "Episode 24|Iteration 258|reward: 4483.0|last_reward_at:  258|Elapsed Time: 0:00:00||\n"
     ]
    },
    {
     "name": "stdout",
     "output_type": "stream",
     "text": [
      "  Episode 24 ended at t=258 \n",
      "  Breakdown [Reward/NoReward (Success rate)]\n",
      "    explore-local: 6/41 (0.13)\n",
      "    explore-remote: 3/99 (0.03)\n",
      "    explore-connect: 3/106 (0.03)\n",
      "    exploit-local: 0/0 (NaN)\n",
      "    exploit-remote: 0/0 (NaN)\n",
      "    exploit-connect: 0/0 (NaN)\n",
      "  exploit deflected to exploration: 0\n",
      "  ## Episode: 25/50 'Random search' ϵ=1.0000, \n"
     ]
    },
    {
     "name": "stderr",
     "output_type": "stream",
     "text": [
      "Episode 25|Iteration 500|reward:  174.0|last_reward_at:  225|Elapsed Time: 0:00:00||\n"
     ]
    },
    {
     "name": "stdout",
     "output_type": "stream",
     "text": [
      "  Episode 25 stopped at t=500 \n",
      "  Breakdown [Reward/NoReward (Success rate)]\n",
      "    explore-local: 5/88 (0.05)\n",
      "    explore-remote: 2/222 (0.01)\n",
      "    explore-connect: 1/182 (0.01)\n",
      "    exploit-local: 0/0 (NaN)\n",
      "    exploit-remote: 0/0 (NaN)\n",
      "    exploit-connect: 0/0 (NaN)\n",
      "  exploit deflected to exploration: 0\n",
      "  ## Episode: 26/50 'Random search' ϵ=1.0000, \n"
     ]
    },
    {
     "name": "stderr",
     "output_type": "stream",
     "text": [
      "Episode 26|Iteration 500|reward:   59.0|last_reward_at:   32|Elapsed Time: 0:00:00||\n"
     ]
    },
    {
     "name": "stdout",
     "output_type": "stream",
     "text": [
      "  Episode 26 stopped at t=500 \n",
      "  Breakdown [Reward/NoReward (Success rate)]\n",
      "    explore-local: 3/92 (0.03)\n",
      "    explore-remote: 2/208 (0.01)\n",
      "    explore-connect: 0/195 (0.00)\n",
      "    exploit-local: 0/0 (NaN)\n",
      "    exploit-remote: 0/0 (NaN)\n",
      "    exploit-connect: 0/0 (NaN)\n",
      "  exploit deflected to exploration: 0\n",
      "  ## Episode: 27/50 'Random search' ϵ=1.0000, \n"
     ]
    },
    {
     "name": "stderr",
     "output_type": "stream",
     "text": [
      "Episode 27|Iteration 500|reward:  174.0|last_reward_at:   83|Elapsed Time: 0:00:00||\n"
     ]
    },
    {
     "name": "stdout",
     "output_type": "stream",
     "text": [
      "  Episode 27 stopped at t=500 \n",
      "  Breakdown [Reward/NoReward (Success rate)]\n",
      "    explore-local: 5/98 (0.05)\n",
      "    explore-remote: 2/211 (0.01)\n",
      "    explore-connect: 1/183 (0.01)\n",
      "    exploit-local: 0/0 (NaN)\n",
      "    exploit-remote: 0/0 (NaN)\n",
      "    exploit-connect: 0/0 (NaN)\n",
      "  exploit deflected to exploration: 0\n",
      "  ## Episode: 28/50 'Random search' ϵ=1.0000, \n"
     ]
    },
    {
     "name": "stderr",
     "output_type": "stream",
     "text": [
      "Episode 28|Iteration 500|reward:  174.0|last_reward_at:  103|Elapsed Time: 0:00:00||\n"
     ]
    },
    {
     "name": "stdout",
     "output_type": "stream",
     "text": [
      "  Episode 28 stopped at t=500 \n",
      "  Breakdown [Reward/NoReward (Success rate)]\n",
      "    explore-local: 5/90 (0.05)\n",
      "    explore-remote: 2/214 (0.01)\n",
      "    explore-connect: 1/188 (0.01)\n",
      "    exploit-local: 0/0 (NaN)\n",
      "    exploit-remote: 0/0 (NaN)\n",
      "    exploit-connect: 0/0 (NaN)\n",
      "  exploit deflected to exploration: 0\n",
      "  ## Episode: 29/50 'Random search' ϵ=1.0000, \n"
     ]
    },
    {
     "name": "stderr",
     "output_type": "stream",
     "text": [
      "Episode 29|Iteration 500|reward:  174.0|last_reward_at:  446|Elapsed Time: 0:00:00||\n"
     ]
    },
    {
     "name": "stdout",
     "output_type": "stream",
     "text": [
      "  Episode 29 stopped at t=500 \n",
      "  Breakdown [Reward/NoReward (Success rate)]\n",
      "    explore-local: 5/115 (0.04)\n",
      "    explore-remote: 2/194 (0.01)\n",
      "    explore-connect: 1/183 (0.01)\n",
      "    exploit-local: 0/0 (NaN)\n",
      "    exploit-remote: 0/0 (NaN)\n",
      "    exploit-connect: 0/0 (NaN)\n",
      "  exploit deflected to exploration: 0\n",
      "  ## Episode: 30/50 'Random search' ϵ=1.0000, \n"
     ]
    },
    {
     "name": "stderr",
     "output_type": "stream",
     "text": [
      "Episode 30|Iteration 474|reward: 4483.0|last_reward_at:  474|Elapsed Time: 0:00:00||\n"
     ]
    },
    {
     "name": "stdout",
     "output_type": "stream",
     "text": [
      "  Episode 30 ended at t=474 \n",
      "  Breakdown [Reward/NoReward (Success rate)]\n",
      "    explore-local: 6/80 (0.07)\n",
      "    explore-remote: 3/194 (0.02)\n",
      "    explore-connect: 3/188 (0.02)\n",
      "    exploit-local: 0/0 (NaN)\n",
      "    exploit-remote: 0/0 (NaN)\n",
      "    exploit-connect: 0/0 (NaN)\n",
      "  exploit deflected to exploration: 0\n",
      "  ## Episode: 31/50 'Random search' ϵ=1.0000, \n"
     ]
    },
    {
     "name": "stderr",
     "output_type": "stream",
     "text": [
      "Episode 31|Iteration 500|reward:  174.0|last_reward_at:  352|Elapsed Time: 0:00:00||\n"
     ]
    },
    {
     "name": "stdout",
     "output_type": "stream",
     "text": [
      "  Episode 31 stopped at t=500 \n",
      "  Breakdown [Reward/NoReward (Success rate)]\n",
      "    explore-local: 5/93 (0.05)\n",
      "    explore-remote: 2/188 (0.01)\n",
      "    explore-connect: 1/211 (0.00)\n",
      "    exploit-local: 0/0 (NaN)\n",
      "    exploit-remote: 0/0 (NaN)\n",
      "    exploit-connect: 0/0 (NaN)\n",
      "  exploit deflected to exploration: 0\n",
      "  ## Episode: 32/50 'Random search' ϵ=1.0000, \n"
     ]
    },
    {
     "name": "stderr",
     "output_type": "stream",
     "text": [
      "Episode 32|Iteration 500|reward:  174.0|last_reward_at:  172|Elapsed Time: 0:00:00||\n"
     ]
    },
    {
     "name": "stdout",
     "output_type": "stream",
     "text": [
      "  Episode 32 stopped at t=500 \n",
      "  Breakdown [Reward/NoReward (Success rate)]\n",
      "    explore-local: 5/89 (0.05)\n",
      "    explore-remote: 2/191 (0.01)\n",
      "    explore-connect: 1/212 (0.00)\n",
      "    exploit-local: 0/0 (NaN)\n",
      "    exploit-remote: 0/0 (NaN)\n",
      "    exploit-connect: 0/0 (NaN)\n",
      "  exploit deflected to exploration: 0\n",
      "  ## Episode: 33/50 'Random search' ϵ=1.0000, \n"
     ]
    },
    {
     "name": "stderr",
     "output_type": "stream",
     "text": [
      "Episode 33|Iteration 500|reward:  174.0|last_reward_at:  366|Elapsed Time: 0:00:00||\n"
     ]
    },
    {
     "name": "stdout",
     "output_type": "stream",
     "text": [
      "  Episode 33 stopped at t=500 \n",
      "  Breakdown [Reward/NoReward (Success rate)]\n",
      "    explore-local: 5/113 (0.04)\n",
      "    explore-remote: 2/193 (0.01)\n",
      "    explore-connect: 1/186 (0.01)\n",
      "    exploit-local: 0/0 (NaN)\n",
      "    exploit-remote: 0/0 (NaN)\n",
      "    exploit-connect: 0/0 (NaN)\n",
      "  exploit deflected to exploration: 0\n",
      "  ## Episode: 34/50 'Random search' ϵ=1.0000, \n"
     ]
    },
    {
     "name": "stderr",
     "output_type": "stream",
     "text": [
      "Episode 34|Iteration 500|reward:  483.0|last_reward_at:  490|Elapsed Time: 0:00:00||\n"
     ]
    },
    {
     "name": "stdout",
     "output_type": "stream",
     "text": [
      "  Episode 34 stopped at t=500 \n",
      "  Breakdown [Reward/NoReward (Success rate)]\n",
      "    explore-local: 6/94 (0.06)\n",
      "    explore-remote: 2/190 (0.01)\n",
      "    explore-connect: 2/206 (0.01)\n",
      "    exploit-local: 0/0 (NaN)\n",
      "    exploit-remote: 0/0 (NaN)\n",
      "    exploit-connect: 0/0 (NaN)\n",
      "  exploit deflected to exploration: 0\n",
      "  ## Episode: 35/50 'Random search' ϵ=1.0000, \n"
     ]
    },
    {
     "name": "stderr",
     "output_type": "stream",
     "text": [
      "Episode 35|Iteration 453|reward: 4483.0|last_reward_at:  453|Elapsed Time: 0:00:00||\n"
     ]
    },
    {
     "name": "stdout",
     "output_type": "stream",
     "text": [
      "  Episode 35 ended at t=453 \n",
      "  Breakdown [Reward/NoReward (Success rate)]\n",
      "    explore-local: 6/81 (0.07)\n",
      "    explore-remote: 3/185 (0.02)\n",
      "    explore-connect: 3/175 (0.02)\n",
      "    exploit-local: 0/0 (NaN)\n",
      "    exploit-remote: 0/0 (NaN)\n",
      "    exploit-connect: 0/0 (NaN)\n",
      "  exploit deflected to exploration: 0\n",
      "  ## Episode: 36/50 'Random search' ϵ=1.0000, \n"
     ]
    },
    {
     "name": "stderr",
     "output_type": "stream",
     "text": [
      "Episode 36|Iteration 500|reward:  174.0|last_reward_at:   54|Elapsed Time: 0:00:00||\n"
     ]
    },
    {
     "name": "stdout",
     "output_type": "stream",
     "text": [
      "  Episode 36 stopped at t=500 \n",
      "  Breakdown [Reward/NoReward (Success rate)]\n",
      "    explore-local: 5/68 (0.07)\n",
      "    explore-remote: 2/222 (0.01)\n",
      "    explore-connect: 1/202 (0.00)\n",
      "    exploit-local: 0/0 (NaN)\n",
      "    exploit-remote: 0/0 (NaN)\n",
      "    exploit-connect: 0/0 (NaN)\n",
      "  exploit deflected to exploration: 0\n",
      "  ## Episode: 37/50 'Random search' ϵ=1.0000, \n"
     ]
    },
    {
     "name": "stderr",
     "output_type": "stream",
     "text": [
      "Episode 37|Iteration 500|reward:  174.0|last_reward_at:   96|Elapsed Time: 0:00:00||\n"
     ]
    },
    {
     "name": "stdout",
     "output_type": "stream",
     "text": [
      "  Episode 37 stopped at t=500 \n",
      "  Breakdown [Reward/NoReward (Success rate)]\n",
      "    explore-local: 5/85 (0.06)\n",
      "    explore-remote: 2/194 (0.01)\n",
      "    explore-connect: 1/213 (0.00)\n",
      "    exploit-local: 0/0 (NaN)\n",
      "    exploit-remote: 0/0 (NaN)\n",
      "    exploit-connect: 0/0 (NaN)\n",
      "  exploit deflected to exploration: 0\n",
      "  ## Episode: 38/50 'Random search' ϵ=1.0000, \n"
     ]
    },
    {
     "name": "stderr",
     "output_type": "stream",
     "text": [
      "Episode 38|Iteration 500|reward:  174.0|last_reward_at:   52|Elapsed Time: 0:00:00||\n"
     ]
    },
    {
     "name": "stdout",
     "output_type": "stream",
     "text": [
      "  Episode 38 stopped at t=500 \n",
      "  Breakdown [Reward/NoReward (Success rate)]\n",
      "    explore-local: 5/101 (0.05)\n",
      "    explore-remote: 2/207 (0.01)\n",
      "    explore-connect: 1/184 (0.01)\n",
      "    exploit-local: 0/0 (NaN)\n",
      "    exploit-remote: 0/0 (NaN)\n",
      "    exploit-connect: 0/0 (NaN)\n",
      "  exploit deflected to exploration: 0\n",
      "  ## Episode: 39/50 'Random search' ϵ=1.0000, \n"
     ]
    },
    {
     "name": "stderr",
     "output_type": "stream",
     "text": [
      "Episode 39|Iteration 500|reward:  483.0|last_reward_at:  461|Elapsed Time: 0:00:00||\n"
     ]
    },
    {
     "name": "stdout",
     "output_type": "stream",
     "text": [
      "  Episode 39 stopped at t=500 \n",
      "  Breakdown [Reward/NoReward (Success rate)]\n",
      "    explore-local: 6/81 (0.07)\n",
      "    explore-remote: 2/188 (0.01)\n",
      "    explore-connect: 2/221 (0.01)\n",
      "    exploit-local: 0/0 (NaN)\n",
      "    exploit-remote: 0/0 (NaN)\n",
      "    exploit-connect: 0/0 (NaN)\n",
      "  exploit deflected to exploration: 0\n",
      "  ## Episode: 40/50 'Random search' ϵ=1.0000, \n"
     ]
    },
    {
     "name": "stderr",
     "output_type": "stream",
     "text": [
      "Episode 40|Iteration 500|reward:  174.0|last_reward_at:   67|Elapsed Time: 0:00:00||\n"
     ]
    },
    {
     "name": "stdout",
     "output_type": "stream",
     "text": [
      "  Episode 40 stopped at t=500 \n",
      "  Breakdown [Reward/NoReward (Success rate)]\n",
      "    explore-local: 5/71 (0.07)\n",
      "    explore-remote: 2/211 (0.01)\n",
      "    explore-connect: 1/210 (0.00)\n",
      "    exploit-local: 0/0 (NaN)\n",
      "    exploit-remote: 0/0 (NaN)\n",
      "    exploit-connect: 0/0 (NaN)\n",
      "  exploit deflected to exploration: 0\n",
      "  ## Episode: 41/50 'Random search' ϵ=1.0000, \n"
     ]
    },
    {
     "name": "stderr",
     "output_type": "stream",
     "text": [
      "Episode 41|Iteration 500|reward:   59.0|last_reward_at:   19|Elapsed Time: 0:00:00||\n"
     ]
    },
    {
     "name": "stdout",
     "output_type": "stream",
     "text": [
      "  Episode 41 stopped at t=500 \n",
      "  Breakdown [Reward/NoReward (Success rate)]\n",
      "    explore-local: 3/106 (0.03)\n",
      "    explore-remote: 2/202 (0.01)\n",
      "    explore-connect: 0/187 (0.00)\n",
      "    exploit-local: 0/0 (NaN)\n",
      "    exploit-remote: 0/0 (NaN)\n",
      "    exploit-connect: 0/0 (NaN)\n",
      "  exploit deflected to exploration: 0\n",
      "  ## Episode: 42/50 'Random search' ϵ=1.0000, \n"
     ]
    },
    {
     "name": "stderr",
     "output_type": "stream",
     "text": [
      "Episode 42|Iteration 500|reward:   59.0|last_reward_at:  107|Elapsed Time: 0:00:00||\n"
     ]
    },
    {
     "name": "stdout",
     "output_type": "stream",
     "text": [
      "  Episode 42 stopped at t=500 \n",
      "  Breakdown [Reward/NoReward (Success rate)]\n",
      "    explore-local: 3/118 (0.02)\n",
      "    explore-remote: 2/191 (0.01)\n",
      "    explore-connect: 0/186 (0.00)\n",
      "    exploit-local: 0/0 (NaN)\n",
      "    exploit-remote: 0/0 (NaN)\n",
      "    exploit-connect: 0/0 (NaN)\n",
      "  exploit deflected to exploration: 0\n",
      "  ## Episode: 43/50 'Random search' ϵ=1.0000, \n"
     ]
    },
    {
     "name": "stderr",
     "output_type": "stream",
     "text": [
      "Episode 43|Iteration 500|reward:  174.0|last_reward_at:  115|Elapsed Time: 0:00:00||\n"
     ]
    },
    {
     "name": "stdout",
     "output_type": "stream",
     "text": [
      "  Episode 43 stopped at t=500 \n",
      "  Breakdown [Reward/NoReward (Success rate)]\n",
      "    explore-local: 5/88 (0.05)\n",
      "    explore-remote: 2/189 (0.01)\n",
      "    explore-connect: 1/215 (0.00)\n",
      "    exploit-local: 0/0 (NaN)\n",
      "    exploit-remote: 0/0 (NaN)\n",
      "    exploit-connect: 0/0 (NaN)\n",
      "  exploit deflected to exploration: 0\n",
      "  ## Episode: 44/50 'Random search' ϵ=1.0000, \n"
     ]
    },
    {
     "name": "stderr",
     "output_type": "stream",
     "text": [
      "Episode 44|Iteration 426|reward: 4483.0|last_reward_at:  426|Elapsed Time: 0:00:00||\n"
     ]
    },
    {
     "name": "stdout",
     "output_type": "stream",
     "text": [
      "  Episode 44 ended at t=426 \n",
      "  Breakdown [Reward/NoReward (Success rate)]\n",
      "    explore-local: 6/68 (0.08)\n",
      "    explore-remote: 2/171 (0.01)\n",
      "    explore-connect: 4/175 (0.02)\n",
      "    exploit-local: 0/0 (NaN)\n",
      "    exploit-remote: 0/0 (NaN)\n",
      "    exploit-connect: 0/0 (NaN)\n",
      "  exploit deflected to exploration: 0\n",
      "  ## Episode: 45/50 'Random search' ϵ=1.0000, \n"
     ]
    },
    {
     "name": "stderr",
     "output_type": "stream",
     "text": [
      "Episode 45|Iteration 500|reward:  174.0|last_reward_at:  118|Elapsed Time: 0:00:00||\n"
     ]
    },
    {
     "name": "stdout",
     "output_type": "stream",
     "text": [
      "  Episode 45 stopped at t=500 \n",
      "  Breakdown [Reward/NoReward (Success rate)]\n",
      "    explore-local: 5/69 (0.07)\n",
      "    explore-remote: 2/208 (0.01)\n",
      "    explore-connect: 1/215 (0.00)\n",
      "    exploit-local: 0/0 (NaN)\n",
      "    exploit-remote: 0/0 (NaN)\n",
      "    exploit-connect: 0/0 (NaN)\n",
      "  exploit deflected to exploration: 0\n",
      "  ## Episode: 46/50 'Random search' ϵ=1.0000, \n"
     ]
    },
    {
     "name": "stderr",
     "output_type": "stream",
     "text": [
      "Episode 46|Iteration 306|reward: 4483.0|last_reward_at:  306|Elapsed Time: 0:00:00||\n"
     ]
    },
    {
     "name": "stdout",
     "output_type": "stream",
     "text": [
      "  Episode 46 ended at t=306 \n",
      "  Breakdown [Reward/NoReward (Success rate)]\n",
      "    explore-local: 6/43 (0.12)\n",
      "    explore-remote: 2/136 (0.01)\n",
      "    explore-connect: 4/115 (0.03)\n",
      "    exploit-local: 0/0 (NaN)\n",
      "    exploit-remote: 0/0 (NaN)\n",
      "    exploit-connect: 0/0 (NaN)\n",
      "  exploit deflected to exploration: 0\n",
      "  ## Episode: 47/50 'Random search' ϵ=1.0000, \n"
     ]
    },
    {
     "name": "stderr",
     "output_type": "stream",
     "text": [
      "Episode 47|Iteration 500|reward:   59.0|last_reward_at:   56|Elapsed Time: 0:00:00||\n"
     ]
    },
    {
     "name": "stdout",
     "output_type": "stream",
     "text": [
      "  Episode 47 stopped at t=500 \n",
      "  Breakdown [Reward/NoReward (Success rate)]\n",
      "    explore-local: 3/125 (0.02)\n",
      "    explore-remote: 2/192 (0.01)\n",
      "    explore-connect: 0/178 (0.00)\n",
      "    exploit-local: 0/0 (NaN)\n",
      "    exploit-remote: 0/0 (NaN)\n",
      "    exploit-connect: 0/0 (NaN)\n",
      "  exploit deflected to exploration: 0\n",
      "  ## Episode: 48/50 'Random search' ϵ=1.0000, \n"
     ]
    },
    {
     "name": "stderr",
     "output_type": "stream",
     "text": [
      "Episode 48|Iteration 500|reward:  483.0|last_reward_at:  398|Elapsed Time: 0:00:00||\n"
     ]
    },
    {
     "name": "stdout",
     "output_type": "stream",
     "text": [
      "  Episode 48 stopped at t=500 \n",
      "  Breakdown [Reward/NoReward (Success rate)]\n",
      "    explore-local: 6/71 (0.08)\n",
      "    explore-remote: 2/204 (0.01)\n",
      "    explore-connect: 2/215 (0.01)\n",
      "    exploit-local: 0/0 (NaN)\n",
      "    exploit-remote: 0/0 (NaN)\n",
      "    exploit-connect: 0/0 (NaN)\n",
      "  exploit deflected to exploration: 0\n",
      "  ## Episode: 49/50 'Random search' ϵ=1.0000, \n"
     ]
    },
    {
     "name": "stderr",
     "output_type": "stream",
     "text": [
      "Episode 49|Iteration 500|reward:  174.0|last_reward_at:   83|Elapsed Time: 0:00:00||\n"
     ]
    },
    {
     "name": "stdout",
     "output_type": "stream",
     "text": [
      "  Episode 49 stopped at t=500 \n",
      "  Breakdown [Reward/NoReward (Success rate)]\n",
      "    explore-local: 5/78 (0.06)\n",
      "    explore-remote: 2/202 (0.01)\n",
      "    explore-connect: 1/212 (0.00)\n",
      "    exploit-local: 0/0 (NaN)\n",
      "    exploit-remote: 0/0 (NaN)\n",
      "    exploit-connect: 0/0 (NaN)\n",
      "  exploit deflected to exploration: 0\n",
      "  ## Episode: 50/50 'Random search' ϵ=1.0000, \n"
     ]
    },
    {
     "name": "stderr",
     "output_type": "stream",
     "text": [
      "Episode 50|Iteration 500|reward: 1483.0|last_reward_at:  251|Elapsed Time: 0:00:00||\n"
     ]
    },
    {
     "name": "stdout",
     "output_type": "stream",
     "text": [
      "  Episode 50 stopped at t=500 \n",
      "  Breakdown [Reward/NoReward (Success rate)]\n",
      "    explore-local: 6/81 (0.07)\n",
      "    explore-remote: 2/219 (0.01)\n",
      "    explore-connect: 3/189 (0.02)\n",
      "    exploit-local: 0/0 (NaN)\n",
      "    exploit-remote: 0/0 (NaN)\n",
      "    exploit-connect: 0/0 (NaN)\n",
      "  exploit deflected to exploration: 0\n",
      "simulation ended\n"
     ]
    }
   ],
   "source": [
    "random_run = learner.epsilon_greedy_search(\n",
    "    gym_env,\n",
    "    ep,\n",
    "    learner=learner.RandomPolicy(),\n",
    "    episode_count=training_episode_count,\n",
    "    iteration_count=iteration_count,\n",
    "    epsilon=1.0,  # purely random\n",
    "    render=False,\n",
    "    verbosity=Verbosity.Quiet,\n",
    "    plot_episodes_length=False,\n",
    "    title=\"Random search\"\n",
    ")"
   ]
  },
  {
   "cell_type": "code",
   "execution_count": 7,
   "id": "9c209ff5-f97c-42d7-8507-8757daeabc53",
   "metadata": {},
   "outputs": [],
   "source": [
    "all_runs = [\n",
    "    random_run,\n",
    "    dql_no_ep,\n",
    "    dql_ep,\n",
    "]"
   ]
  },
  {
   "cell_type": "code",
   "execution_count": 8,
   "id": "fae1007d-adbb-4340-8173-0cb6d0428a8e",
   "metadata": {},
   "outputs": [
    {
     "data": {
      "image/png": "[encoded data removed]",
      "text/plain": [
       "<Figure size 1000x800 with 1 Axes>"
      ]
     },
     "metadata": {},
     "output_type": "display_data"
    }
   ],
   "source": [
    "themodel = dqla.CyberBattleStateActionModel(ep)\n",
    "p.plot_averaged_cummulative_rewards(\n",
    "    all_runs=all_runs,\n",
    "    title=f'Benchmark episodes={eval_episode_count},\\n'\n",
    "    f'State: {[f.name() for f in themodel.state_space.feature_selection]} '\n",
    "    f'({len(themodel.state_space.feature_selection)}\\n'\n",
    "    f\"Action: abstract_action ({themodel.action_space.flat_size()})\")"
   ]
  },
  {
   "cell_type": "code",
   "execution_count": 9,
   "id": "4a0a0a8c-1090-465e-a435-d02ecfcb304b",
   "metadata": {},
   "outputs": [
    {
     "data": {
      "image/png": "[encoded data removed]",
      "text/plain": [
       "<Figure size 1000x800 with 1 Axes>"
      ]
     },
     "metadata": {},
     "output_type": "display_data"
    },
    {
     "data": {
      "image/png": "[encoded data removed]",
      "text/plain": [
       "<Figure size 1000x800 with 1 Axes>"
      ]
     },
     "metadata": {},
     "output_type": "display_data"
    }
   ],
   "source": [
    "\n",
    "\n",
    "contenders = [\n",
    "    random_run,\n",
    "    dql_no_ep,\n",
    "    dql_ep,\n",
    "]\n",
    "p.plot_episodes_length(contenders)\n",
    "p.plot_averaged_cummulative_rewards(\n",
    "    title=f'Agent Benchmark top contenders\\n'\n",
    "    f'max_nodes:{ep.maximum_node_count}\\n',\n",
    "    all_runs=contenders)\n",
    "\n",
    "\n",
    "\n",
    "     \n"
   ]
  },
  {
   "cell_type": "code",
   "execution_count": null,
   "id": "8bf13769-f5e5-4578-8942-4933c4713125",
   "metadata": {},
   "outputs": [],
   "source": []
  }
 ],
 "metadata": {
  "kernelspec": {
   "display_name": "Python 3 (ipykernel)",
   "language": "python",
   "name": "python3"
  },
  "language_info": {
   "codemirror_mode": {
    "name": "ipython",
    "version": 3
   },
   "file_extension": ".py",
   "mimetype": "text/x-python",
   "name": "python",
   "nbconvert_exporter": "python",
   "pygments_lexer": "ipython3",
   "version": "3.9.7"
  }
 },
 "nbformat": 4,
 "nbformat_minor": 5
}
