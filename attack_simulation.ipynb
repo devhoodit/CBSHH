{
 "cells": [
  {
   "cell_type": "code",
   "execution_count": 1,
   "id": "7482d43a-7c7d-4c21-8436-4d22040a0b09",
   "metadata": {},
   "outputs": [],
   "source": [
    "import sys\n",
    "import logging\n",
    "import gym\n",
    "from gym import spaces\n",
    "\n",
    "from cyberbattle.h_env import nodes, ENV_IDENTIFIERS\n",
    "import cyberbattle.simulation.model as model\n",
    "import cyberbattle.simulation.commandcontrol as commandcontrol\n",
    "import cyberbattle._env.cyberbattle_env as cyberbattle_env\n",
    "\n",
    "import plotly.io as pio\n",
    "pio.renderers.default = 'iframe'"
   ]
  },
  {
   "cell_type": "code",
   "execution_count": 2,
   "id": "e806ddd3-bc51-4f92-99c9-db7296ddbf9d",
   "metadata": {},
   "outputs": [],
   "source": [
    "network = model.create_network(nodes)\n",
    "env = model.Environment(network=network, vulnerability_library=dict([]), identifiers=ENV_IDENTIFIERS)"
   ]
  },
  {
   "cell_type": "code",
   "execution_count": 3,
   "id": "a90e08dc-199a-4216-a0b7-5282c2b8df2c",
   "metadata": {},
   "outputs": [
    {
     "data": {
      "image/png": "[encoded data removed]",
      "text/plain": [
       "<Figure size 640x480 with 1 Axes>"
      ]
     },
     "metadata": {},
     "output_type": "display_data"
    }
   ],
   "source": [
    "env.plot_environment_graph()"
   ]
  },
  {
   "cell_type": "code",
   "execution_count": 4,
   "id": "ac1554ec-220b-4472-ab3e-4e78450ae479",
   "metadata": {},
   "outputs": [
    {
     "data": {
      "text/html": [
       "<iframe\n",
       "    scrolling=\"no\"\n",
       "    width=\"820px\"\n",
       "    height=\"420\"\n",
       "    src=\"iframe_figures/figure_4.html\"\n",
       "    frameborder=\"0\"\n",
       "    allowfullscreen\n",
       "></iframe>\n"
      ]
     },
     "metadata": {},
     "output_type": "display_data"
    },
    {
     "data": {
      "text/html": [
       "<div>\n",
       "<style scoped>\n",
       "    .dataframe tbody tr th:only-of-type {\n",
       "        vertical-align: middle;\n",
       "    }\n",
       "\n",
       "    .dataframe tbody tr th {\n",
       "        vertical-align: top;\n",
       "    }\n",
       "\n",
       "    .dataframe thead th {\n",
       "        text-align: right;\n",
       "    }\n",
       "</style>\n",
       "<table border=\"1\" class=\"dataframe\">\n",
       "  <thead>\n",
       "    <tr style=\"text-align: right;\">\n",
       "      <th></th>\n",
       "      <th>status</th>\n",
       "      <th>properties</th>\n",
       "      <th>local_attacks</th>\n",
       "      <th>remote_attacks</th>\n",
       "    </tr>\n",
       "    <tr>\n",
       "      <th>id</th>\n",
       "      <th></th>\n",
       "      <th></th>\n",
       "      <th></th>\n",
       "      <th></th>\n",
       "    </tr>\n",
       "  </thead>\n",
       "  <tbody>\n",
       "    <tr>\n",
       "      <th>client</th>\n",
       "      <td>owned</td>\n",
       "      <td>[Window]</td>\n",
       "      <td>[CredScanBashHistory, SearchInternetConnection...</td>\n",
       "      <td>[]</td>\n",
       "    </tr>\n",
       "  </tbody>\n",
       "</table>\n",
       "</div>"
      ],
      "text/plain": [
       "       status properties                                      local_attacks  \\\n",
       "id                                                                            \n",
       "client  owned   [Window]  [CredScanBashHistory, SearchInternetConnection...   \n",
       "\n",
       "       remote_attacks  \n",
       "id                     \n",
       "client             []  "
      ]
     },
     "metadata": {},
     "output_type": "display_data"
    }
   ],
   "source": [
    "c2 = commandcontrol.CommandControl(env)\n",
    "dbg = commandcontrol.EnvironmentDebugging(c2)\n",
    "def plot():\n",
    "    dbg.plot_discovered_network()\n",
    "    c2.print_all_attacks()\n",
    "plot()"
   ]
  },
  {
   "cell_type": "code",
   "execution_count": 5,
   "id": "7d4d44ad-920b-4185-9b3b-bf89cfca510c",
   "metadata": {},
   "outputs": [
    {
     "data": {
      "text/html": [
       "<iframe\n",
       "    scrolling=\"no\"\n",
       "    width=\"820px\"\n",
       "    height=\"420\"\n",
       "    src=\"iframe_figures/figure_5.html\"\n",
       "    frameborder=\"0\"\n",
       "    allowfullscreen\n",
       "></iframe>\n"
      ]
     },
     "metadata": {},
     "output_type": "display_data"
    },
    {
     "data": {
      "text/html": [
       "<div>\n",
       "<style scoped>\n",
       "    .dataframe tbody tr th:only-of-type {\n",
       "        vertical-align: middle;\n",
       "    }\n",
       "\n",
       "    .dataframe tbody tr th {\n",
       "        vertical-align: top;\n",
       "    }\n",
       "\n",
       "    .dataframe thead th {\n",
       "        text-align: right;\n",
       "    }\n",
       "</style>\n",
       "<table border=\"1\" class=\"dataframe\">\n",
       "  <thead>\n",
       "    <tr style=\"text-align: right;\">\n",
       "      <th></th>\n",
       "      <th>status</th>\n",
       "      <th>properties</th>\n",
       "      <th>local_attacks</th>\n",
       "      <th>remote_attacks</th>\n",
       "    </tr>\n",
       "    <tr>\n",
       "      <th>id</th>\n",
       "      <th></th>\n",
       "      <th></th>\n",
       "      <th></th>\n",
       "      <th></th>\n",
       "    </tr>\n",
       "  </thead>\n",
       "  <tbody>\n",
       "    <tr>\n",
       "      <th>client</th>\n",
       "      <td>owned</td>\n",
       "      <td>[Window]</td>\n",
       "      <td>[CredScanBashHistory, SearchInternetConnection...</td>\n",
       "      <td>[]</td>\n",
       "    </tr>\n",
       "    <tr>\n",
       "      <th>hpc</th>\n",
       "      <td>discovered</td>\n",
       "      <td>NaN</td>\n",
       "      <td>None</td>\n",
       "      <td>[]</td>\n",
       "    </tr>\n",
       "  </tbody>\n",
       "</table>\n",
       "</div>"
      ],
      "text/plain": [
       "            status properties  \\\n",
       "id                              \n",
       "client       owned   [Window]   \n",
       "hpc     discovered        NaN   \n",
       "\n",
       "                                            local_attacks remote_attacks  \n",
       "id                                                                        \n",
       "client  [CredScanBashHistory, SearchInternetConnection...             []  \n",
       "hpc                                                  None             []  "
      ]
     },
     "metadata": {},
     "output_type": "display_data"
    }
   ],
   "source": [
    "c2.run_attack('client', 'SearchSshConnection')\n",
    "plot()"
   ]
  },
  {
   "cell_type": "code",
   "execution_count": 6,
   "id": "b0ab5429-4145-426b-94a7-9345a72f2e2c",
   "metadata": {},
   "outputs": [
    {
     "data": {
      "text/html": [
       "<iframe\n",
       "    scrolling=\"no\"\n",
       "    width=\"820px\"\n",
       "    height=\"420\"\n",
       "    src=\"iframe_figures/figure_6.html\"\n",
       "    frameborder=\"0\"\n",
       "    allowfullscreen\n",
       "></iframe>\n"
      ]
     },
     "metadata": {},
     "output_type": "display_data"
    },
    {
     "data": {
      "text/html": [
       "<div>\n",
       "<style scoped>\n",
       "    .dataframe tbody tr th:only-of-type {\n",
       "        vertical-align: middle;\n",
       "    }\n",
       "\n",
       "    .dataframe tbody tr th {\n",
       "        vertical-align: top;\n",
       "    }\n",
       "\n",
       "    .dataframe thead th {\n",
       "        text-align: right;\n",
       "    }\n",
       "</style>\n",
       "<table border=\"1\" class=\"dataframe\">\n",
       "  <thead>\n",
       "    <tr style=\"text-align: right;\">\n",
       "      <th></th>\n",
       "      <th>status</th>\n",
       "      <th>properties</th>\n",
       "      <th>local_attacks</th>\n",
       "      <th>remote_attacks</th>\n",
       "    </tr>\n",
       "    <tr>\n",
       "      <th>id</th>\n",
       "      <th></th>\n",
       "      <th></th>\n",
       "      <th></th>\n",
       "      <th></th>\n",
       "    </tr>\n",
       "  </thead>\n",
       "  <tbody>\n",
       "    <tr>\n",
       "      <th>client</th>\n",
       "      <td>owned</td>\n",
       "      <td>[Window]</td>\n",
       "      <td>[CredScanBashHistory, SearchInternetConnection...</td>\n",
       "      <td>[]</td>\n",
       "    </tr>\n",
       "    <tr>\n",
       "      <th>hpc</th>\n",
       "      <td>discovered</td>\n",
       "      <td>NaN</td>\n",
       "      <td>None</td>\n",
       "      <td>[]</td>\n",
       "    </tr>\n",
       "    <tr>\n",
       "      <th>eclass</th>\n",
       "      <td>discovered</td>\n",
       "      <td>NaN</td>\n",
       "      <td>None</td>\n",
       "      <td>[]</td>\n",
       "    </tr>\n",
       "    <tr>\n",
       "      <th>github</th>\n",
       "      <td>discovered</td>\n",
       "      <td>NaN</td>\n",
       "      <td>None</td>\n",
       "      <td>[CredScanGitHistorySudo, CredScanGitHistorySu]</td>\n",
       "    </tr>\n",
       "  </tbody>\n",
       "</table>\n",
       "</div>"
      ],
      "text/plain": [
       "            status properties  \\\n",
       "id                              \n",
       "client       owned   [Window]   \n",
       "hpc     discovered        NaN   \n",
       "eclass  discovered        NaN   \n",
       "github  discovered        NaN   \n",
       "\n",
       "                                            local_attacks  \\\n",
       "id                                                          \n",
       "client  [CredScanBashHistory, SearchInternetConnection...   \n",
       "hpc                                                  None   \n",
       "eclass                                               None   \n",
       "github                                               None   \n",
       "\n",
       "                                        remote_attacks  \n",
       "id                                                      \n",
       "client                                              []  \n",
       "hpc                                                 []  \n",
       "eclass                                              []  \n",
       "github  [CredScanGitHistorySudo, CredScanGitHistorySu]  "
      ]
     },
     "metadata": {},
     "output_type": "display_data"
    },
    {
     "name": "stdout",
     "output_type": "stream",
     "text": [
      "set()\n"
     ]
    }
   ],
   "source": [
    "c2.run_attack('client', 'SearchInternetConnection')\n",
    "plot()\n",
    "print(c2.credentials_gathered_so_far)"
   ]
  },
  {
   "cell_type": "code",
   "execution_count": 7,
   "id": "24bce68a-aa09-4798-a0bb-ebac31862e73",
   "metadata": {},
   "outputs": [
    {
     "data": {
      "text/html": [
       "<iframe\n",
       "    scrolling=\"no\"\n",
       "    width=\"820px\"\n",
       "    height=\"420\"\n",
       "    src=\"iframe_figures/figure_7.html\"\n",
       "    frameborder=\"0\"\n",
       "    allowfullscreen\n",
       "></iframe>\n"
      ]
     },
     "metadata": {},
     "output_type": "display_data"
    },
    {
     "data": {
      "text/html": [
       "<div>\n",
       "<style scoped>\n",
       "    .dataframe tbody tr th:only-of-type {\n",
       "        vertical-align: middle;\n",
       "    }\n",
       "\n",
       "    .dataframe tbody tr th {\n",
       "        vertical-align: top;\n",
       "    }\n",
       "\n",
       "    .dataframe thead th {\n",
       "        text-align: right;\n",
       "    }\n",
       "</style>\n",
       "<table border=\"1\" class=\"dataframe\">\n",
       "  <thead>\n",
       "    <tr style=\"text-align: right;\">\n",
       "      <th></th>\n",
       "      <th>status</th>\n",
       "      <th>properties</th>\n",
       "      <th>local_attacks</th>\n",
       "      <th>remote_attacks</th>\n",
       "    </tr>\n",
       "    <tr>\n",
       "      <th>id</th>\n",
       "      <th></th>\n",
       "      <th></th>\n",
       "      <th></th>\n",
       "      <th></th>\n",
       "    </tr>\n",
       "  </thead>\n",
       "  <tbody>\n",
       "    <tr>\n",
       "      <th>client</th>\n",
       "      <td>owned</td>\n",
       "      <td>[Window]</td>\n",
       "      <td>[CredScanBashHistory, SearchInternetConnection...</td>\n",
       "      <td>[]</td>\n",
       "    </tr>\n",
       "    <tr>\n",
       "      <th>hpc</th>\n",
       "      <td>discovered</td>\n",
       "      <td>NaN</td>\n",
       "      <td>None</td>\n",
       "      <td>[]</td>\n",
       "    </tr>\n",
       "    <tr>\n",
       "      <th>eclass</th>\n",
       "      <td>discovered</td>\n",
       "      <td>NaN</td>\n",
       "      <td>None</td>\n",
       "      <td>[]</td>\n",
       "    </tr>\n",
       "    <tr>\n",
       "      <th>github</th>\n",
       "      <td>discovered</td>\n",
       "      <td>NaN</td>\n",
       "      <td>None</td>\n",
       "      <td>[CredScanGitHistorySudo, CredScanGitHistorySu]</td>\n",
       "    </tr>\n",
       "  </tbody>\n",
       "</table>\n",
       "</div>"
      ],
      "text/plain": [
       "            status properties  \\\n",
       "id                              \n",
       "client       owned   [Window]   \n",
       "hpc     discovered        NaN   \n",
       "eclass  discovered        NaN   \n",
       "github  discovered        NaN   \n",
       "\n",
       "                                            local_attacks  \\\n",
       "id                                                          \n",
       "client  [CredScanBashHistory, SearchInternetConnection...   \n",
       "hpc                                                  None   \n",
       "eclass                                               None   \n",
       "github                                               None   \n",
       "\n",
       "                                        remote_attacks  \n",
       "id                                                      \n",
       "client                                              []  \n",
       "hpc                                                 []  \n",
       "eclass                                              []  \n",
       "github  [CredScanGitHistorySudo, CredScanGitHistorySu]  "
      ]
     },
     "metadata": {},
     "output_type": "display_data"
    },
    {
     "name": "stdout",
     "output_type": "stream",
     "text": [
      "{CachedCredential(node='hpc', port='SSH', credential='SshCred')}\n"
     ]
    }
   ],
   "source": [
    "c2.run_attack('client', 'CredScanBashHistory')\n",
    "plot()\n",
    "print(c2.credentials_gathered_so_far)"
   ]
  },
  {
   "cell_type": "code",
   "execution_count": 8,
   "id": "f470477f-f365-493e-a2ce-5df8802a806c",
   "metadata": {},
   "outputs": [
    {
     "data": {
      "text/html": [
       "<iframe\n",
       "    scrolling=\"no\"\n",
       "    width=\"820px\"\n",
       "    height=\"420\"\n",
       "    src=\"iframe_figures/figure_8.html\"\n",
       "    frameborder=\"0\"\n",
       "    allowfullscreen\n",
       "></iframe>\n"
      ]
     },
     "metadata": {},
     "output_type": "display_data"
    },
    {
     "data": {
      "text/html": [
       "<div>\n",
       "<style scoped>\n",
       "    .dataframe tbody tr th:only-of-type {\n",
       "        vertical-align: middle;\n",
       "    }\n",
       "\n",
       "    .dataframe tbody tr th {\n",
       "        vertical-align: top;\n",
       "    }\n",
       "\n",
       "    .dataframe thead th {\n",
       "        text-align: right;\n",
       "    }\n",
       "</style>\n",
       "<table border=\"1\" class=\"dataframe\">\n",
       "  <thead>\n",
       "    <tr style=\"text-align: right;\">\n",
       "      <th></th>\n",
       "      <th>status</th>\n",
       "      <th>properties</th>\n",
       "      <th>local_attacks</th>\n",
       "      <th>remote_attacks</th>\n",
       "    </tr>\n",
       "    <tr>\n",
       "      <th>id</th>\n",
       "      <th></th>\n",
       "      <th></th>\n",
       "      <th></th>\n",
       "      <th></th>\n",
       "    </tr>\n",
       "  </thead>\n",
       "  <tbody>\n",
       "    <tr>\n",
       "      <th>client</th>\n",
       "      <td>owned</td>\n",
       "      <td>[Window]</td>\n",
       "      <td>[CredScanBashHistory, SearchInternetConnection...</td>\n",
       "      <td>[]</td>\n",
       "    </tr>\n",
       "    <tr>\n",
       "      <th>hpc</th>\n",
       "      <td>owned</td>\n",
       "      <td>[Ubuntu]</td>\n",
       "      <td>[CredScanBashHistory, SearchInternetCookie]</td>\n",
       "      <td>[]</td>\n",
       "    </tr>\n",
       "    <tr>\n",
       "      <th>eclass</th>\n",
       "      <td>discovered</td>\n",
       "      <td>NaN</td>\n",
       "      <td>None</td>\n",
       "      <td>[]</td>\n",
       "    </tr>\n",
       "    <tr>\n",
       "      <th>github</th>\n",
       "      <td>discovered</td>\n",
       "      <td>NaN</td>\n",
       "      <td>None</td>\n",
       "      <td>[CredScanGitHistorySudo, CredScanGitHistorySu]</td>\n",
       "    </tr>\n",
       "  </tbody>\n",
       "</table>\n",
       "</div>"
      ],
      "text/plain": [
       "            status properties  \\\n",
       "id                              \n",
       "client       owned   [Window]   \n",
       "hpc          owned   [Ubuntu]   \n",
       "eclass  discovered        NaN   \n",
       "github  discovered        NaN   \n",
       "\n",
       "                                            local_attacks  \\\n",
       "id                                                          \n",
       "client  [CredScanBashHistory, SearchInternetConnection...   \n",
       "hpc           [CredScanBashHistory, SearchInternetCookie]   \n",
       "eclass                                               None   \n",
       "github                                               None   \n",
       "\n",
       "                                        remote_attacks  \n",
       "id                                                      \n",
       "client                                              []  \n",
       "hpc                                                 []  \n",
       "eclass                                              []  \n",
       "github  [CredScanGitHistorySudo, CredScanGitHistorySu]  "
      ]
     },
     "metadata": {},
     "output_type": "display_data"
    }
   ],
   "source": [
    "c2.connect_and_infect('client', 'hpc', 'SSH', 'SshCred')\n",
    "plot()"
   ]
  },
  {
   "cell_type": "code",
   "execution_count": 9,
   "id": "9e1bc019-fa0d-43c5-ba53-b112b0c2b4c7",
   "metadata": {},
   "outputs": [
    {
     "data": {
      "text/html": [
       "<iframe\n",
       "    scrolling=\"no\"\n",
       "    width=\"820px\"\n",
       "    height=\"420\"\n",
       "    src=\"iframe_figures/figure_9.html\"\n",
       "    frameborder=\"0\"\n",
       "    allowfullscreen\n",
       "></iframe>\n"
      ]
     },
     "metadata": {},
     "output_type": "display_data"
    },
    {
     "data": {
      "text/html": [
       "<div>\n",
       "<style scoped>\n",
       "    .dataframe tbody tr th:only-of-type {\n",
       "        vertical-align: middle;\n",
       "    }\n",
       "\n",
       "    .dataframe tbody tr th {\n",
       "        vertical-align: top;\n",
       "    }\n",
       "\n",
       "    .dataframe thead th {\n",
       "        text-align: right;\n",
       "    }\n",
       "</style>\n",
       "<table border=\"1\" class=\"dataframe\">\n",
       "  <thead>\n",
       "    <tr style=\"text-align: right;\">\n",
       "      <th></th>\n",
       "      <th>status</th>\n",
       "      <th>properties</th>\n",
       "      <th>local_attacks</th>\n",
       "      <th>remote_attacks</th>\n",
       "    </tr>\n",
       "    <tr>\n",
       "      <th>id</th>\n",
       "      <th></th>\n",
       "      <th></th>\n",
       "      <th></th>\n",
       "      <th></th>\n",
       "    </tr>\n",
       "  </thead>\n",
       "  <tbody>\n",
       "    <tr>\n",
       "      <th>client</th>\n",
       "      <td>owned</td>\n",
       "      <td>[Window]</td>\n",
       "      <td>[CredScanBashHistory, SearchInternetConnection...</td>\n",
       "      <td>[]</td>\n",
       "    </tr>\n",
       "    <tr>\n",
       "      <th>hpc</th>\n",
       "      <td>owned</td>\n",
       "      <td>[Ubuntu]</td>\n",
       "      <td>[CredScanBashHistory, SearchInternetCookie]</td>\n",
       "      <td>[]</td>\n",
       "    </tr>\n",
       "    <tr>\n",
       "      <th>eclass</th>\n",
       "      <td>discovered</td>\n",
       "      <td>NaN</td>\n",
       "      <td>None</td>\n",
       "      <td>[]</td>\n",
       "    </tr>\n",
       "    <tr>\n",
       "      <th>github</th>\n",
       "      <td>discovered</td>\n",
       "      <td>NaN</td>\n",
       "      <td>None</td>\n",
       "      <td>[CredScanGitHistorySudo, CredScanGitHistorySu]</td>\n",
       "    </tr>\n",
       "    <tr>\n",
       "      <th>hpc[user=file]</th>\n",
       "      <td>discovered</td>\n",
       "      <td>NaN</td>\n",
       "      <td>None</td>\n",
       "      <td>[]</td>\n",
       "    </tr>\n",
       "  </tbody>\n",
       "</table>\n",
       "</div>"
      ],
      "text/plain": [
       "                    status properties  \\\n",
       "id                                      \n",
       "client               owned   [Window]   \n",
       "hpc                  owned   [Ubuntu]   \n",
       "eclass          discovered        NaN   \n",
       "github          discovered        NaN   \n",
       "hpc[user=file]  discovered        NaN   \n",
       "\n",
       "                                                    local_attacks  \\\n",
       "id                                                                  \n",
       "client          [CredScanBashHistory, SearchInternetConnection...   \n",
       "hpc                   [CredScanBashHistory, SearchInternetCookie]   \n",
       "eclass                                                       None   \n",
       "github                                                       None   \n",
       "hpc[user=file]                                               None   \n",
       "\n",
       "                                                remote_attacks  \n",
       "id                                                              \n",
       "client                                                      []  \n",
       "hpc                                                         []  \n",
       "eclass                                                      []  \n",
       "github          [CredScanGitHistorySudo, CredScanGitHistorySu]  \n",
       "hpc[user=file]                                              []  "
      ]
     },
     "metadata": {},
     "output_type": "display_data"
    }
   ],
   "source": [
    "c2.run_attack('hpc', 'SearchInternetCookie')\n",
    "plot()"
   ]
  },
  {
   "cell_type": "code",
   "execution_count": 10,
   "id": "d34e8c2c-4246-422c-90d6-8b693b763662",
   "metadata": {},
   "outputs": [
    {
     "data": {
      "text/html": [
       "<iframe\n",
       "    scrolling=\"no\"\n",
       "    width=\"820px\"\n",
       "    height=\"420\"\n",
       "    src=\"iframe_figures/figure_10.html\"\n",
       "    frameborder=\"0\"\n",
       "    allowfullscreen\n",
       "></iframe>\n"
      ]
     },
     "metadata": {},
     "output_type": "display_data"
    },
    {
     "data": {
      "text/html": [
       "<div>\n",
       "<style scoped>\n",
       "    .dataframe tbody tr th:only-of-type {\n",
       "        vertical-align: middle;\n",
       "    }\n",
       "\n",
       "    .dataframe tbody tr th {\n",
       "        vertical-align: top;\n",
       "    }\n",
       "\n",
       "    .dataframe thead th {\n",
       "        text-align: right;\n",
       "    }\n",
       "</style>\n",
       "<table border=\"1\" class=\"dataframe\">\n",
       "  <thead>\n",
       "    <tr style=\"text-align: right;\">\n",
       "      <th></th>\n",
       "      <th>status</th>\n",
       "      <th>properties</th>\n",
       "      <th>local_attacks</th>\n",
       "      <th>remote_attacks</th>\n",
       "    </tr>\n",
       "    <tr>\n",
       "      <th>id</th>\n",
       "      <th></th>\n",
       "      <th></th>\n",
       "      <th></th>\n",
       "      <th></th>\n",
       "    </tr>\n",
       "  </thead>\n",
       "  <tbody>\n",
       "    <tr>\n",
       "      <th>client</th>\n",
       "      <td>owned</td>\n",
       "      <td>[Window]</td>\n",
       "      <td>[CredScanBashHistory, SearchInternetConnection...</td>\n",
       "      <td>[]</td>\n",
       "    </tr>\n",
       "    <tr>\n",
       "      <th>hpc</th>\n",
       "      <td>owned</td>\n",
       "      <td>[Ubuntu]</td>\n",
       "      <td>[CredScanBashHistory, SearchInternetCookie]</td>\n",
       "      <td>[]</td>\n",
       "    </tr>\n",
       "    <tr>\n",
       "      <th>eclass</th>\n",
       "      <td>discovered</td>\n",
       "      <td>NaN</td>\n",
       "      <td>None</td>\n",
       "      <td>[]</td>\n",
       "    </tr>\n",
       "    <tr>\n",
       "      <th>github</th>\n",
       "      <td>discovered</td>\n",
       "      <td>NaN</td>\n",
       "      <td>None</td>\n",
       "      <td>[CredScanGitHistorySudo, CredScanGitHistorySu]</td>\n",
       "    </tr>\n",
       "    <tr>\n",
       "      <th>hpc[user=file]</th>\n",
       "      <td>discovered</td>\n",
       "      <td>NaN</td>\n",
       "      <td>None</td>\n",
       "      <td>[]</td>\n",
       "    </tr>\n",
       "  </tbody>\n",
       "</table>\n",
       "</div>"
      ],
      "text/plain": [
       "                    status properties  \\\n",
       "id                                      \n",
       "client               owned   [Window]   \n",
       "hpc                  owned   [Ubuntu]   \n",
       "eclass          discovered        NaN   \n",
       "github          discovered        NaN   \n",
       "hpc[user=file]  discovered        NaN   \n",
       "\n",
       "                                                    local_attacks  \\\n",
       "id                                                                  \n",
       "client          [CredScanBashHistory, SearchInternetConnection...   \n",
       "hpc                   [CredScanBashHistory, SearchInternetCookie]   \n",
       "eclass                                                       None   \n",
       "github                                                       None   \n",
       "hpc[user=file]                                               None   \n",
       "\n",
       "                                                remote_attacks  \n",
       "id                                                              \n",
       "client                                                      []  \n",
       "hpc                                                         []  \n",
       "eclass                                                      []  \n",
       "github          [CredScanGitHistorySudo, CredScanGitHistorySu]  \n",
       "hpc[user=file]                                              []  "
      ]
     },
     "metadata": {},
     "output_type": "display_data"
    }
   ],
   "source": [
    "c2.run_attack('hpc', 'CredScanBashHistory')\n",
    "plot()"
   ]
  },
  {
   "cell_type": "code",
   "execution_count": 11,
   "id": "e0778da9-a551-484e-8843-dac8023bb86f",
   "metadata": {},
   "outputs": [
    {
     "ename": "ValueError",
     "evalue": "Agent has not discovered credential 'EclassSessionID'",
     "output_type": "error",
     "traceback": [
      "\u001b[0;31m---------------------------------------------------------------------------\u001b[0m",
      "\u001b[0;31mValueError\u001b[0m                                Traceback (most recent call last)",
      "Cell \u001b[0;32mIn [11], line 2\u001b[0m\n\u001b[1;32m      1\u001b[0m c2\u001b[38;5;241m.\u001b[39mrun_attack(\u001b[38;5;124m'\u001b[39m\u001b[38;5;124mhpc\u001b[39m\u001b[38;5;124m'\u001b[39m, \u001b[38;5;124m'\u001b[39m\u001b[38;5;124mSearchInternetConnection\u001b[39m\u001b[38;5;124m'\u001b[39m) \u001b[38;5;66;03m# can't get eclass cred\u001b[39;00m\n\u001b[0;32m----> 2\u001b[0m \u001b[43mc2\u001b[49m\u001b[38;5;241;43m.\u001b[39;49m\u001b[43mconnect_and_infect\u001b[49m\u001b[43m(\u001b[49m\u001b[38;5;124;43m'\u001b[39;49m\u001b[38;5;124;43mclient\u001b[39;49m\u001b[38;5;124;43m'\u001b[39;49m\u001b[43m,\u001b[49m\u001b[43m \u001b[49m\u001b[38;5;124;43m'\u001b[39;49m\u001b[38;5;124;43meclass\u001b[39;49m\u001b[38;5;124;43m'\u001b[39;49m\u001b[43m,\u001b[49m\u001b[43m \u001b[49m\u001b[38;5;124;43m'\u001b[39;49m\u001b[38;5;124;43mHTTPS\u001b[39;49m\u001b[38;5;124;43m'\u001b[39;49m\u001b[43m,\u001b[49m\u001b[43m \u001b[49m\u001b[38;5;124;43m'\u001b[39;49m\u001b[38;5;124;43mEclassSessionID\u001b[39;49m\u001b[38;5;124;43m'\u001b[39;49m\u001b[43m)\u001b[49m\n\u001b[1;32m      3\u001b[0m plot()\n",
      "File \u001b[0;32m~/cyberbattle/CBSHH/cyberbattle/simulation/commandcontrol.py:136\u001b[0m, in \u001b[0;36mCommandControl.connect_and_infect\u001b[0;34m(self, source_node_id, target_node_id, port_name, credentials)\u001b[0m\n\u001b[1;32m    130\u001b[0m \u001b[38;5;28;01mdef\u001b[39;00m \u001b[38;5;21mconnect_and_infect\u001b[39m(\u001b[38;5;28mself\u001b[39m, source_node_id: model\u001b[38;5;241m.\u001b[39mNodeID,\n\u001b[1;32m    131\u001b[0m                        target_node_id: model\u001b[38;5;241m.\u001b[39mNodeID,\n\u001b[1;32m    132\u001b[0m                        port_name: model\u001b[38;5;241m.\u001b[39mPortName,\n\u001b[1;32m    133\u001b[0m                        credentials: model\u001b[38;5;241m.\u001b[39mCredentialID) \u001b[38;5;241m-\u001b[39m\u001b[38;5;241m>\u001b[39m \u001b[38;5;28mbool\u001b[39m:\n\u001b[1;32m    134\u001b[0m     \u001b[38;5;124;03m\"\"\"Install the agent on a remote machine using the\u001b[39;00m\n\u001b[1;32m    135\u001b[0m \u001b[38;5;124;03m     provided credentials\"\"\"\u001b[39;00m\n\u001b[0;32m--> 136\u001b[0m     result \u001b[38;5;241m=\u001b[39m \u001b[38;5;28;43mself\u001b[39;49m\u001b[38;5;241;43m.\u001b[39;49m\u001b[43m_actuator\u001b[49m\u001b[38;5;241;43m.\u001b[39;49m\u001b[43mconnect_to_remote_machine\u001b[49m\u001b[43m(\u001b[49m\u001b[43msource_node_id\u001b[49m\u001b[43m,\u001b[49m\u001b[43m \u001b[49m\u001b[43mtarget_node_id\u001b[49m\u001b[43m,\u001b[49m\u001b[43m \u001b[49m\u001b[43mport_name\u001b[49m\u001b[43m,\u001b[49m\n\u001b[1;32m    137\u001b[0m \u001b[43m                                                      \u001b[49m\u001b[43mcredentials\u001b[49m\u001b[43m)\u001b[49m\n\u001b[1;32m    138\u001b[0m     \u001b[38;5;28mself\u001b[39m\u001b[38;5;241m.\u001b[39m__accumulate_reward(result\u001b[38;5;241m.\u001b[39mreward)\n\u001b[1;32m    139\u001b[0m     \u001b[38;5;28;01mreturn\u001b[39;00m result\u001b[38;5;241m.\u001b[39moutcome \u001b[38;5;129;01mis\u001b[39;00m \u001b[38;5;129;01mnot\u001b[39;00m \u001b[38;5;28;01mNone\u001b[39;00m\n",
      "File \u001b[0;32m~/cyberbattle/CBSHH/cyberbattle/simulation/actions.py:527\u001b[0m, in \u001b[0;36mAgentActions.connect_to_remote_machine\u001b[0;34m(self, source_node_id, target_node_id, port_name, credential)\u001b[0m\n\u001b[1;32m    525\u001b[0m \u001b[38;5;28;01mif\u001b[39;00m credential \u001b[38;5;129;01mnot\u001b[39;00m \u001b[38;5;129;01min\u001b[39;00m \u001b[38;5;28mself\u001b[39m\u001b[38;5;241m.\u001b[39m_gathered_credentials:\n\u001b[1;32m    526\u001b[0m     \u001b[38;5;28;01mif\u001b[39;00m \u001b[38;5;28mself\u001b[39m\u001b[38;5;241m.\u001b[39m_throws_on_invalid_actions:\n\u001b[0;32m--> 527\u001b[0m         \u001b[38;5;28;01mraise\u001b[39;00m \u001b[38;5;167;01mValueError\u001b[39;00m(\u001b[38;5;124mf\u001b[39m\u001b[38;5;124m\"\u001b[39m\u001b[38;5;124mAgent has not discovered credential \u001b[39m\u001b[38;5;124m'\u001b[39m\u001b[38;5;132;01m{\u001b[39;00mcredential\u001b[38;5;132;01m}\u001b[39;00m\u001b[38;5;124m'\u001b[39m\u001b[38;5;124m\"\u001b[39m)\n\u001b[1;32m    528\u001b[0m     \u001b[38;5;28;01melse\u001b[39;00m:\n\u001b[1;32m    529\u001b[0m         \u001b[38;5;28;01mreturn\u001b[39;00m ActionResult(reward\u001b[38;5;241m=\u001b[39mPenalty\u001b[38;5;241m.\u001b[39mINVALID_ACTION, outcome\u001b[38;5;241m=\u001b[39m\u001b[38;5;28;01mNone\u001b[39;00m)\n",
      "\u001b[0;31mValueError\u001b[0m: Agent has not discovered credential 'EclassSessionID'"
     ]
    }
   ],
   "source": [
    "c2.run_attack('hpc', 'SearchInternetConnection') # can't get eclass cred\n",
    "c2.connect_and_infect('client', 'eclass', 'HTTPS', 'EclassSessionID')\n",
    "plot()"
   ]
  },
  {
   "cell_type": "code",
   "execution_count": null,
   "id": "457deca3-58f6-49c1-8a5c-72f143e29b84",
   "metadata": {},
   "outputs": [],
   "source": [
    "c2.run_remote_attack('client', 'github', 'CredScanGitHistorySudo')\n",
    "c2.run_remote_attack('client', 'github', 'CredScanGitHistorySu')\n",
    "plot()"
   ]
  },
  {
   "cell_type": "code",
   "execution_count": null,
   "id": "6f519589-540b-44d6-8653-fcd35eebb671",
   "metadata": {},
   "outputs": [],
   "source": [
    "c2.connect_and_infect('hpc', 'hpc[user=file]', 'su', 'UserSudoPassword') # can't infect with su-command ( not root user )\n",
    "plot()"
   ]
  },
  {
   "cell_type": "code",
   "execution_count": null,
   "id": "3db14cf4-d93d-43ad-85be-8fc3c986b50b",
   "metadata": {},
   "outputs": [],
   "source": [
    "c2.connect_and_infect('hpc', 'hpc[user=file]', 'sudo', 'RootSudoPassword')\n",
    "plot()"
   ]
  },
  {
   "cell_type": "code",
   "execution_count": null,
   "id": "a2d180d9-afe0-4da3-84ca-bcce166d81c5",
   "metadata": {},
   "outputs": [],
   "source": [
    "c2.run_attack('hpc[user=file]', 'NavigateBrowserCookie')\n",
    "plot()"
   ]
  },
  {
   "cell_type": "code",
   "execution_count": null,
   "id": "add406bb-24ef-406b-b3c8-2453fb4e0087",
   "metadata": {},
   "outputs": [],
   "source": [
    "c2.connect_and_infect('client', 'eclass', 'HTTPS', 'EclassSessionID')\n",
    "plot()"
   ]
  },
  {
   "cell_type": "code",
   "execution_count": null,
   "id": "d082c266-7b8d-4c0d-a364-15ccb43d00cc",
   "metadata": {},
   "outputs": [],
   "source": []
  }
 ],
 "metadata": {
  "kernelspec": {
   "display_name": "Python 3 (ipykernel)",
   "language": "python",
   "name": "python3"
  },
  "language_info": {
   "codemirror_mode": {
    "name": "ipython",
    "version": 3
   },
   "file_extension": ".py",
   "mimetype": "text/x-python",
   "name": "python",
   "nbconvert_exporter": "python",
   "pygments_lexer": "ipython3",
   "version": "3.9.7"
  }
 },
 "nbformat": 4,
 "nbformat_minor": 5
}
